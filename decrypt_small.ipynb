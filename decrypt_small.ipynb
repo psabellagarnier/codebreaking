{
 "cells": [
  {
   "cell_type": "code",
   "execution_count": 1,
   "metadata": {},
   "outputs": [
    {
     "name": "stderr",
     "output_type": "stream",
     "text": [
      "Using TensorFlow backend.\n"
     ]
    }
   ],
   "source": [
    "import numpy as np\n",
    "import matplotlib.pyplot as plt\n",
    "import random, timeit, copy\n",
    "\n",
    "from keras import layers\n",
    "from keras.layers import Input, Dense, Dropout, Activation, BatchNormalization, Flatten, LSTM\n",
    "from keras.models import Model, load_model\n",
    "from keras.utils import to_categorical\n",
    "from keras.utils.vis_utils import plot_model\n",
    "from keras.optimizers import Adam\n",
    "from keras.backend import clear_session"
   ]
  },
  {
   "cell_type": "markdown",
   "metadata": {},
   "source": [
    "# Helper functions"
   ]
  },
  {
   "cell_type": "code",
   "execution_count": 2,
   "metadata": {},
   "outputs": [],
   "source": [
    "letters=[chr(i) for i in range(97,123)]\n",
    "digits=[str(i) for i in range(10)]"
   ]
  },
  {
   "cell_type": "code",
   "execution_count": 3,
   "metadata": {},
   "outputs": [],
   "source": [
    "char_to_n=dict(zip(letters+digits+[\" \"],[a for a in range(len(letters))]+len(digits)*[len(letters)]+[len(letters)+1]))   \n",
    "n_to_char=dict(zip([a for a in range(len(letters))]+[len(letters)]+[len(letters)+1],letters+['0']+[' ']))  \n",
    "n_tokens = 28\n",
    "\n",
    "two_grams = []\n",
    "for a in letters:\n",
    "    for b in letters:\n",
    "        two_grams.append(a+b)\n",
    "three_grams = []\n",
    "for a in letters:\n",
    "    for b in letters:\n",
    "        for c in letters:\n",
    "            three_grams.append(a+b+c)\n",
    "\n",
    "two_gram_to_n = dict(zip(two_grams,range(26*26)))\n",
    "three_gram_to_n = dict(zip(three_grams,range(26*26*26)))"
   ]
  },
  {
   "cell_type": "code",
   "execution_count": 4,
   "metadata": {},
   "outputs": [],
   "source": [
    "def alphabetize(inText):\n",
    "    \"\"\"Make string lowercase, remove everything except letters\"\"\"\n",
    "    outText=\"\"\n",
    "    inText=inText.lower() #Make lowercase\n",
    "    for character in inText:\n",
    "        if character in letters: outText+=character\n",
    "        elif character in digits: outText+=''\n",
    "        else: outText+=\" \"\n",
    "    return \" \".join(outText.split())"
   ]
  },
  {
   "cell_type": "code",
   "execution_count": 5,
   "metadata": {},
   "outputs": [],
   "source": [
    "def vectorize(string):\n",
    "    \"\"\"Take a string as input and return an array of integers corresponding to each character's value\"\"\"\n",
    "    out=[char_to_n[char] for char in string]\n",
    "    return np.array(out)"
   ]
  },
  {
   "cell_type": "code",
   "execution_count": 6,
   "metadata": {},
   "outputs": [],
   "source": [
    "def rot(sentence, n=13):\n",
    "    tokens = []\n",
    "    for a in sentence:\n",
    "        old_token = char_to_n[a]\n",
    "        if old_token < 26: tokens += [(old_token + n) % 26]\n",
    "        else: tokens += [old_token]\n",
    "    cipher_text = \"\".join([n_to_char[a] for a in tokens])\n",
    "    return cipher_text  "
   ]
  },
  {
   "cell_type": "code",
   "execution_count": 7,
   "metadata": {},
   "outputs": [],
   "source": [
    "def jumble(sentence, seed=0):\n",
    "    random.seed(seed)\n",
    "    target_characters = random.sample(letters,26)\n",
    "    key = dict(zip(letters+['0'], target_characters+['0']))\n",
    "    jumbled_sentence = \"\".join(key[char] for char in sentence)\n",
    "    return jumbled_sentence, target_characters"
   ]
  },
  {
   "cell_type": "code",
   "execution_count": 8,
   "metadata": {},
   "outputs": [],
   "source": [
    "def get_frequency_list(string):\n",
    "    tokenized_text = [char_to_n[a] for a in string]\n",
    "    frequencies = [tokenized_text.count(a)/len(tokenized_text) for a in range(n_tokens)]\n",
    "    return frequencies"
   ]
  },
  {
   "cell_type": "code",
   "execution_count": 9,
   "metadata": {},
   "outputs": [],
   "source": [
    "def get_twogram_frequencies(string):\n",
    "    string_two_grams = [string[i:i+2] for i in range(len(string)-1)]\n",
    "    tokenized_two_gram = [two_gram_to_n[char] for char in string_two_grams]\n",
    "    frequencies = np.zeros(26*26)\n",
    "    for token in tokenized_two_gram:\n",
    "        frequencies[token]+= 1./len(tokenized_two_gram)\n",
    "    #frequencies = [tokenized_two_gram.count(tg)/len(tokenized_two_gram) for tg in range(26*26)]\n",
    "    return frequencies"
   ]
  },
  {
   "cell_type": "code",
   "execution_count": 10,
   "metadata": {},
   "outputs": [],
   "source": [
    "def get_threegram_frequencies(string):\n",
    "    string_three_grams = [string[i:i+3] for i in range(len(string)-2)]\n",
    "    tokenized_three_gram = [three_gram_to_n[char] for char in string_three_grams]\n",
    "    frequencies = np.zeros(26*26*26)\n",
    "    for token in tokenized_three_gram:\n",
    "        frequencies[token]+= 1./len(tokenized_three_gram)\n",
    "    #frequencies = [tokenized_three_gram.count(tg)/len(tokenized_three_gram) for tg in range(26*26*26)]\n",
    "    return frequencies"
   ]
  },
  {
   "cell_type": "code",
   "execution_count": 11,
   "metadata": {},
   "outputs": [],
   "source": [
    "def string_accuracy(string1, string2):\n",
    "    accuracy = np.sum(np.array(list(string1)) == np.array(list(string2)))/len(string1)\n",
    "    wrong_characters = np.unique(np.array(list(string1))[np.where(np.array(list(string1)) != np.array(list(string2)))])\n",
    "    return accuracy, wrong_characters"
   ]
  },
  {
   "cell_type": "markdown",
   "metadata": {},
   "source": [
    "# Data loading and processing"
   ]
  },
  {
   "cell_type": "code",
   "execution_count": 12,
   "metadata": {},
   "outputs": [],
   "source": [
    "files=['moby10b.txt','dracula.txt','totc.txt','origin.txt']#,'alice.txt','pp.txt','cw.txt']\n",
    "raw_sample_text=\"\"\n",
    "for filename in files:\n",
    "    with open(filename,'r') as file:\n",
    "        raw_sample_text+=file.read().replace('\\n', ' ')\n",
    "processed_text = alphabetize(raw_sample_text)\n",
    "text_nospace = \"\".join(processed_text.split())"
   ]
  },
  {
   "cell_type": "code",
   "execution_count": 13,
   "metadata": {},
   "outputs": [
    {
     "ename": "NameError",
     "evalue": "name 'm' is not defined",
     "output_type": "error",
     "traceback": [
      "\u001b[0;31m---------------------------------------------------------------------------\u001b[0m",
      "\u001b[0;31mNameError\u001b[0m                                 Traceback (most recent call last)",
      "\u001b[0;32m<ipython-input-13-3905d2b45898>\u001b[0m in \u001b[0;36m<module>\u001b[0;34m()\u001b[0m\n\u001b[0;32m----> 1\u001b[0;31m \u001b[0mstrings\u001b[0m \u001b[0;34m=\u001b[0m\u001b[0;34m[\u001b[0m\u001b[0mtext_nospace\u001b[0m\u001b[0;34m[\u001b[0m\u001b[0mT_x\u001b[0m\u001b[0;34m*\u001b[0m\u001b[0;34m(\u001b[0m\u001b[0mi\u001b[0m\u001b[0;34m)\u001b[0m \u001b[0;34m:\u001b[0m \u001b[0mT_x\u001b[0m\u001b[0;34m*\u001b[0m\u001b[0;34m(\u001b[0m\u001b[0mi\u001b[0m\u001b[0;34m+\u001b[0m\u001b[0;36m1\u001b[0m\u001b[0;34m)\u001b[0m\u001b[0;34m]\u001b[0m \u001b[0;32mfor\u001b[0m \u001b[0mi\u001b[0m \u001b[0;32min\u001b[0m \u001b[0mrange\u001b[0m\u001b[0;34m(\u001b[0m\u001b[0mm\u001b[0m\u001b[0;34m)\u001b[0m\u001b[0;34m]\u001b[0m\u001b[0;34m\u001b[0m\u001b[0;34m\u001b[0m\u001b[0m\n\u001b[0m\u001b[1;32m      2\u001b[0m \u001b[0;34m\u001b[0m\u001b[0m\n\u001b[1;32m      3\u001b[0m \u001b[0;34m\u001b[0m\u001b[0m\n\u001b[1;32m      4\u001b[0m \u001b[0mkeys\u001b[0m \u001b[0;34m=\u001b[0m \u001b[0mnp\u001b[0m\u001b[0;34m.\u001b[0m\u001b[0mrandom\u001b[0m\u001b[0;34m.\u001b[0m\u001b[0mrandint\u001b[0m\u001b[0;34m(\u001b[0m\u001b[0;36m0\u001b[0m\u001b[0;34m,\u001b[0m \u001b[0;36m26\u001b[0m\u001b[0;34m,\u001b[0m \u001b[0mm\u001b[0m\u001b[0;34m//\u001b[0m\u001b[0;36m2\u001b[0m\u001b[0;34m)\u001b[0m\u001b[0;34m\u001b[0m\u001b[0;34m\u001b[0m\u001b[0m\n\u001b[1;32m      5\u001b[0m \u001b[0mencrypted_strings_caesar\u001b[0m \u001b[0;34m=\u001b[0m \u001b[0;34m[\u001b[0m\u001b[0mrot\u001b[0m\u001b[0;34m(\u001b[0m\u001b[0mstring\u001b[0m\u001b[0;34m,\u001b[0m \u001b[0mkey\u001b[0m\u001b[0;34m)\u001b[0m \u001b[0;32mfor\u001b[0m \u001b[0mstring\u001b[0m\u001b[0;34m,\u001b[0m \u001b[0mkey\u001b[0m \u001b[0;32min\u001b[0m \u001b[0mzip\u001b[0m\u001b[0;34m(\u001b[0m\u001b[0mstrings\u001b[0m\u001b[0;34m,\u001b[0m \u001b[0mkeys\u001b[0m\u001b[0;34m)\u001b[0m\u001b[0;34m]\u001b[0m\u001b[0;34m\u001b[0m\u001b[0;34m\u001b[0m\u001b[0m\n",
      "\u001b[0;31mNameError\u001b[0m: name 'm' is not defined"
     ]
    }
   ],
   "source": [
    "strings =[text_nospace[T_x*(i) : T_x*(i+1)] for i in range(m)]\n",
    "\n",
    "\n",
    "keys = np.random.randint(0, 26, m//2)\n",
    "encrypted_strings_caesar = [rot(string, key) for string, key in zip(strings, keys)]\n",
    "encrypted_strings_jumbled = []\n",
    "jumbled_keys = []\n",
    "#unencrypted_strings = []\n",
    "Y = np.zeros((2*(m//2),1))\n",
    "\n",
    "for i in range(m//2):\n",
    "    current_string, current_key = jumble(strings[2*i],i)\n",
    "    encrypted_strings_jumbled.append(current_string)\n",
    "    jumbled_keys.append([char_to_n[char] for char in current_key])\n",
    "    encrypted_strings_jumbled.append(strings[2*i+1])\n",
    "    Y[2*i,0] = 1.\n",
    "    Y[2*i+1] = 0.\n",
    "\n",
    "jumbled_keys_oh = to_categorical(jumbled_keys, num_classes=26)\n",
    "\n",
    "X = np.array([get_frequency_list(string) for string in encrypted_strings_jumbled])\n",
    "\n",
    "X2 = np.array([get_twogram_frequencies(string) for string in encrypted_strings_jumbled])\n",
    "\n",
    "X3 = np.array([get_threegram_frequencies(string) for string in encrypted_strings_jumbled])\n",
    "\n",
    "\n",
    "keys_caesar = to_categorical(keys, num_classes = 26)\n",
    "keys_long=to_categorical((np.tile(np.arange(26),(m//2,1))+keys.reshape((-1,1)))%26, num_classes=26)\n",
    "\n",
    "\n",
    "print(f\"Shape of X:{X.shape}\")\n",
    "print(f\"Shape of X2:{X2.shape}\")\n",
    "print(f\"Shape of X3:{X3.shape}\")\n",
    "print(f\"Shape of Y:{Y.shape}\")\n",
    "print(f\"Shape of keys_caesar:{keys_caesar.shape}\")\n",
    "print(f\"Shape of keys_long:{keys_long.shape}\")"
   ]
  },
  {
   "cell_type": "code",
   "execution_count": 14,
   "metadata": {},
   "outputs": [],
   "source": [
    "def encrypt_half_text(T_x):\n",
    "    m = len(text_nospace)//T_x \n",
    "    strings =[text_nospace[T_x*(i) : T_x*(i+1)] for i in range(m)]\n",
    "\n",
    "    return_strings = []\n",
    "    keys = []\n",
    "    \n",
    "    for i in range(m//2): #Encrypt half the strings\n",
    "        current_string, current_key = jumble(strings[2*i],i)\n",
    "        return_strings.append(current_string)\n",
    "        keys.append([char_to_n[char] for char in current_key])\n",
    "        return_strings.append(strings[2*i+1])\n",
    "    \n",
    "    return return_strings, keys\n",
    "        "
   ]
  },
  {
   "cell_type": "code",
   "execution_count": 15,
   "metadata": {},
   "outputs": [],
   "source": [
    "X_lstm = encrypt_half_text(1024)[0]\n",
    "X = np.array([get_threegram_frequencies(string) for string in X_lstm])\n",
    "X_lstm_oh = np.array([to_categorical([char_to_n[a] for a in string], num_classes=26) for string in X_lstm])\n",
    "Y = np.array(int(len(X)/2)*[1,0]).reshape((-1,1))"
   ]
  },
  {
   "cell_type": "code",
   "execution_count": 16,
   "metadata": {},
   "outputs": [],
   "source": [
    "theoretical_frequencies = get_threegram_frequencies(text_nospace)"
   ]
  },
  {
   "cell_type": "markdown",
   "metadata": {},
   "source": [
    "# Network configuration and training"
   ]
  },
  {
   "cell_type": "code",
   "execution_count": 1415,
   "metadata": {},
   "outputs": [],
   "source": [
    "def make_classifyer(units):\n",
    "    classifyer_input = Input(shape=(26*26*26,))\n",
    "    #classifyer_dense = Dense(units,activation='relu')(classifyer_input)\n",
    "    #classifyer_drop = Dropout(0.4)(classifyer_dense)\n",
    "    classifyer_out = Dense(1, activation='sigmoid')(classifyer_input)\n",
    "\n",
    "    return Model(classifyer_input, classifyer_out)"
   ]
  },
  {
   "cell_type": "code",
   "execution_count": 812,
   "metadata": {},
   "outputs": [],
   "source": [
    "def make_lstm_classifyer(units):\n",
    "    lstm_input = Input(shape=(None,26))\n",
    "    lstm_layer = LSTM(units)(lstm_input)\n",
    "    lstm_drop = Dropout(0.3)(lstm_layer)\n",
    "    lstm_layer2 = Dense(128, activation='relu')(lstm_drop)\n",
    "    lstm_out = Dense(1, activation='sigmoid')(lstm_layer2)\n",
    "    \n",
    "    return Model(lstm_input, lstm_out)    "
   ]
  },
  {
   "cell_type": "code",
   "execution_count": 1106,
   "metadata": {},
   "outputs": [
    {
     "ename": "KeyboardInterrupt",
     "evalue": "",
     "output_type": "error",
     "traceback": [
      "\u001b[0;31m---------------------------------------------------------------------------\u001b[0m",
      "\u001b[0;31mInvalidArgumentError\u001b[0m                      Traceback (most recent call last)",
      "\u001b[0;32m/software/local/lib64/python3.7/site-packages/tensorflow_core/python/framework/ops.py\u001b[0m in \u001b[0;36mget_attr\u001b[0;34m(self, name)\u001b[0m\n\u001b[1;32m   2382\u001b[0m       \u001b[0;32mwith\u001b[0m \u001b[0mc_api_util\u001b[0m\u001b[0;34m.\u001b[0m\u001b[0mtf_buffer\u001b[0m\u001b[0;34m(\u001b[0m\u001b[0;34m)\u001b[0m \u001b[0;32mas\u001b[0m \u001b[0mbuf\u001b[0m\u001b[0;34m:\u001b[0m\u001b[0;34m\u001b[0m\u001b[0;34m\u001b[0m\u001b[0m\n\u001b[0;32m-> 2383\u001b[0;31m         \u001b[0mc_api\u001b[0m\u001b[0;34m.\u001b[0m\u001b[0mTF_OperationGetAttrValueProto\u001b[0m\u001b[0;34m(\u001b[0m\u001b[0mself\u001b[0m\u001b[0;34m.\u001b[0m\u001b[0m_c_op\u001b[0m\u001b[0;34m,\u001b[0m \u001b[0mname\u001b[0m\u001b[0;34m,\u001b[0m \u001b[0mbuf\u001b[0m\u001b[0;34m)\u001b[0m\u001b[0;34m\u001b[0m\u001b[0;34m\u001b[0m\u001b[0m\n\u001b[0m\u001b[1;32m   2384\u001b[0m         \u001b[0mdata\u001b[0m \u001b[0;34m=\u001b[0m \u001b[0mc_api\u001b[0m\u001b[0;34m.\u001b[0m\u001b[0mTF_GetBuffer\u001b[0m\u001b[0;34m(\u001b[0m\u001b[0mbuf\u001b[0m\u001b[0;34m)\u001b[0m\u001b[0;34m\u001b[0m\u001b[0;34m\u001b[0m\u001b[0m\n",
      "\u001b[0;31mInvalidArgumentError\u001b[0m: Operation 'dropout_25/cond' has no attr named '_XlaCompile'.",
      "\nDuring handling of the above exception, another exception occurred:\n",
      "\u001b[0;31mValueError\u001b[0m                                Traceback (most recent call last)",
      "\u001b[0;32m/software/local/lib64/python3.7/site-packages/tensorflow_core/python/ops/gradients_util.py\u001b[0m in \u001b[0;36m_MaybeCompile\u001b[0;34m(scope, op, func, grad_fn)\u001b[0m\n\u001b[1;32m    344\u001b[0m     \u001b[0;32mtry\u001b[0m\u001b[0;34m:\u001b[0m\u001b[0;34m\u001b[0m\u001b[0;34m\u001b[0m\u001b[0m\n\u001b[0;32m--> 345\u001b[0;31m       \u001b[0mxla_compile\u001b[0m \u001b[0;34m=\u001b[0m \u001b[0mop\u001b[0m\u001b[0;34m.\u001b[0m\u001b[0mget_attr\u001b[0m\u001b[0;34m(\u001b[0m\u001b[0;34m\"_XlaCompile\"\u001b[0m\u001b[0;34m)\u001b[0m\u001b[0;34m\u001b[0m\u001b[0;34m\u001b[0m\u001b[0m\n\u001b[0m\u001b[1;32m    346\u001b[0m       xla_separate_compiled_gradients = op.get_attr(\n",
      "\u001b[0;32m/software/local/lib64/python3.7/site-packages/tensorflow_core/python/framework/ops.py\u001b[0m in \u001b[0;36mget_attr\u001b[0;34m(self, name)\u001b[0m\n\u001b[1;32m   2386\u001b[0m       \u001b[0;31m# Convert to ValueError for backwards compatibility.\u001b[0m\u001b[0;34m\u001b[0m\u001b[0;34m\u001b[0m\u001b[0;34m\u001b[0m\u001b[0m\n\u001b[0;32m-> 2387\u001b[0;31m       \u001b[0;32mraise\u001b[0m \u001b[0mValueError\u001b[0m\u001b[0;34m(\u001b[0m\u001b[0mstr\u001b[0m\u001b[0;34m(\u001b[0m\u001b[0me\u001b[0m\u001b[0;34m)\u001b[0m\u001b[0;34m)\u001b[0m\u001b[0;34m\u001b[0m\u001b[0;34m\u001b[0m\u001b[0m\n\u001b[0m\u001b[1;32m   2388\u001b[0m     \u001b[0mx\u001b[0m \u001b[0;34m=\u001b[0m \u001b[0mattr_value_pb2\u001b[0m\u001b[0;34m.\u001b[0m\u001b[0mAttrValue\u001b[0m\u001b[0;34m(\u001b[0m\u001b[0;34m)\u001b[0m\u001b[0;34m\u001b[0m\u001b[0;34m\u001b[0m\u001b[0m\n",
      "\u001b[0;31mValueError\u001b[0m: Operation 'dropout_25/cond' has no attr named '_XlaCompile'.",
      "\nDuring handling of the above exception, another exception occurred:\n",
      "\u001b[0;31mKeyboardInterrupt\u001b[0m                         Traceback (most recent call last)",
      "\u001b[0;32m<ipython-input-1106-b57e1123c3df>\u001b[0m in \u001b[0;36m<module>\u001b[0;34m()\u001b[0m\n\u001b[1;32m      1\u001b[0m \u001b[0mlstm_classifyer\u001b[0m \u001b[0;34m=\u001b[0m \u001b[0mmake_lstm_classifyer\u001b[0m\u001b[0;34m(\u001b[0m\u001b[0;36m512\u001b[0m\u001b[0;34m)\u001b[0m\u001b[0;34m\u001b[0m\u001b[0;34m\u001b[0m\u001b[0m\n\u001b[1;32m      2\u001b[0m \u001b[0mlstm_classifyer\u001b[0m\u001b[0;34m.\u001b[0m\u001b[0mcompile\u001b[0m\u001b[0;34m(\u001b[0m\u001b[0moptimizer\u001b[0m\u001b[0;34m=\u001b[0m\u001b[0;34m'Adam'\u001b[0m\u001b[0;34m,\u001b[0m \u001b[0mloss\u001b[0m\u001b[0;34m=\u001b[0m\u001b[0;34m'binary_crossentropy'\u001b[0m\u001b[0;34m,\u001b[0m \u001b[0mmetrics\u001b[0m\u001b[0;34m=\u001b[0m\u001b[0;34m[\u001b[0m\u001b[0;34m'accuracy'\u001b[0m\u001b[0;34m]\u001b[0m\u001b[0;34m)\u001b[0m\u001b[0;34m\u001b[0m\u001b[0;34m\u001b[0m\u001b[0m\n\u001b[0;32m----> 3\u001b[0;31m \u001b[0mlstm_classifyer\u001b[0m\u001b[0;34m.\u001b[0m\u001b[0mfit\u001b[0m\u001b[0;34m(\u001b[0m\u001b[0mX_lstm_oh\u001b[0m\u001b[0;34m,\u001b[0m\u001b[0mY\u001b[0m\u001b[0;34m,\u001b[0m\u001b[0mepochs\u001b[0m\u001b[0;34m=\u001b[0m\u001b[0;36m10\u001b[0m\u001b[0;34m,\u001b[0m\u001b[0mvalidation_split\u001b[0m\u001b[0;34m=\u001b[0m\u001b[0;36m0.1\u001b[0m\u001b[0;34m)\u001b[0m\u001b[0;34m\u001b[0m\u001b[0;34m\u001b[0m\u001b[0m\n\u001b[0m",
      "\u001b[0;32m/software/local/lib64/python3.7/site-packages/keras/engine/training.py\u001b[0m in \u001b[0;36mfit\u001b[0;34m(self, x, y, batch_size, epochs, verbose, callbacks, validation_split, validation_data, shuffle, class_weight, sample_weight, initial_epoch, steps_per_epoch, validation_steps, validation_freq, max_queue_size, workers, use_multiprocessing, **kwargs)\u001b[0m\n\u001b[1;32m   1211\u001b[0m         \u001b[0;32melse\u001b[0m\u001b[0;34m:\u001b[0m\u001b[0;34m\u001b[0m\u001b[0;34m\u001b[0m\u001b[0m\n\u001b[1;32m   1212\u001b[0m             \u001b[0mfit_inputs\u001b[0m \u001b[0;34m=\u001b[0m \u001b[0mx\u001b[0m \u001b[0;34m+\u001b[0m \u001b[0my\u001b[0m \u001b[0;34m+\u001b[0m \u001b[0msample_weights\u001b[0m\u001b[0;34m\u001b[0m\u001b[0;34m\u001b[0m\u001b[0m\n\u001b[0;32m-> 1213\u001b[0;31m         \u001b[0mself\u001b[0m\u001b[0;34m.\u001b[0m\u001b[0m_make_train_function\u001b[0m\u001b[0;34m(\u001b[0m\u001b[0;34m)\u001b[0m\u001b[0;34m\u001b[0m\u001b[0;34m\u001b[0m\u001b[0m\n\u001b[0m\u001b[1;32m   1214\u001b[0m         \u001b[0mfit_function\u001b[0m \u001b[0;34m=\u001b[0m \u001b[0mself\u001b[0m\u001b[0;34m.\u001b[0m\u001b[0mtrain_function\u001b[0m\u001b[0;34m\u001b[0m\u001b[0;34m\u001b[0m\u001b[0m\n\u001b[1;32m   1215\u001b[0m \u001b[0;34m\u001b[0m\u001b[0m\n",
      "\u001b[0;32m/software/local/lib64/python3.7/site-packages/keras/engine/training.py\u001b[0m in \u001b[0;36m_make_train_function\u001b[0;34m(self)\u001b[0m\n\u001b[1;32m    314\u001b[0m                     training_updates = self.optimizer.get_updates(\n\u001b[1;32m    315\u001b[0m                         \u001b[0mparams\u001b[0m\u001b[0;34m=\u001b[0m\u001b[0mself\u001b[0m\u001b[0;34m.\u001b[0m\u001b[0m_collected_trainable_weights\u001b[0m\u001b[0;34m,\u001b[0m\u001b[0;34m\u001b[0m\u001b[0;34m\u001b[0m\u001b[0m\n\u001b[0;32m--> 316\u001b[0;31m                         loss=self.total_loss)\n\u001b[0m\u001b[1;32m    317\u001b[0m                 \u001b[0mupdates\u001b[0m \u001b[0;34m=\u001b[0m \u001b[0mself\u001b[0m\u001b[0;34m.\u001b[0m\u001b[0mupdates\u001b[0m \u001b[0;34m+\u001b[0m \u001b[0mtraining_updates\u001b[0m\u001b[0;34m\u001b[0m\u001b[0;34m\u001b[0m\u001b[0m\n\u001b[1;32m    318\u001b[0m \u001b[0;34m\u001b[0m\u001b[0m\n",
      "\u001b[0;32m/software/local/lib64/python3.7/site-packages/keras/legacy/interfaces.py\u001b[0m in \u001b[0;36mwrapper\u001b[0;34m(*args, **kwargs)\u001b[0m\n\u001b[1;32m     89\u001b[0m                 warnings.warn('Update your `' + object_name + '` call to the ' +\n\u001b[1;32m     90\u001b[0m                               'Keras 2 API: ' + signature, stacklevel=2)\n\u001b[0;32m---> 91\u001b[0;31m             \u001b[0;32mreturn\u001b[0m \u001b[0mfunc\u001b[0m\u001b[0;34m(\u001b[0m\u001b[0;34m*\u001b[0m\u001b[0margs\u001b[0m\u001b[0;34m,\u001b[0m \u001b[0;34m**\u001b[0m\u001b[0mkwargs\u001b[0m\u001b[0;34m)\u001b[0m\u001b[0;34m\u001b[0m\u001b[0;34m\u001b[0m\u001b[0m\n\u001b[0m\u001b[1;32m     92\u001b[0m         \u001b[0mwrapper\u001b[0m\u001b[0;34m.\u001b[0m\u001b[0m_original_function\u001b[0m \u001b[0;34m=\u001b[0m \u001b[0mfunc\u001b[0m\u001b[0;34m\u001b[0m\u001b[0;34m\u001b[0m\u001b[0m\n\u001b[1;32m     93\u001b[0m         \u001b[0;32mreturn\u001b[0m \u001b[0mwrapper\u001b[0m\u001b[0;34m\u001b[0m\u001b[0;34m\u001b[0m\u001b[0m\n",
      "\u001b[0;32m/software/local/lib64/python3.7/site-packages/keras/backend/tensorflow_backend.py\u001b[0m in \u001b[0;36msymbolic_fn_wrapper\u001b[0;34m(*args, **kwargs)\u001b[0m\n\u001b[1;32m     73\u001b[0m         \u001b[0;32mif\u001b[0m \u001b[0m_SYMBOLIC_SCOPE\u001b[0m\u001b[0;34m.\u001b[0m\u001b[0mvalue\u001b[0m\u001b[0;34m:\u001b[0m\u001b[0;34m\u001b[0m\u001b[0;34m\u001b[0m\u001b[0m\n\u001b[1;32m     74\u001b[0m             \u001b[0;32mwith\u001b[0m \u001b[0mget_graph\u001b[0m\u001b[0;34m(\u001b[0m\u001b[0;34m)\u001b[0m\u001b[0;34m.\u001b[0m\u001b[0mas_default\u001b[0m\u001b[0;34m(\u001b[0m\u001b[0;34m)\u001b[0m\u001b[0;34m:\u001b[0m\u001b[0;34m\u001b[0m\u001b[0;34m\u001b[0m\u001b[0m\n\u001b[0;32m---> 75\u001b[0;31m                 \u001b[0;32mreturn\u001b[0m \u001b[0mfunc\u001b[0m\u001b[0;34m(\u001b[0m\u001b[0;34m*\u001b[0m\u001b[0margs\u001b[0m\u001b[0;34m,\u001b[0m \u001b[0;34m**\u001b[0m\u001b[0mkwargs\u001b[0m\u001b[0;34m)\u001b[0m\u001b[0;34m\u001b[0m\u001b[0;34m\u001b[0m\u001b[0m\n\u001b[0m\u001b[1;32m     76\u001b[0m         \u001b[0;32melse\u001b[0m\u001b[0;34m:\u001b[0m\u001b[0;34m\u001b[0m\u001b[0;34m\u001b[0m\u001b[0m\n\u001b[1;32m     77\u001b[0m             \u001b[0;32mreturn\u001b[0m \u001b[0mfunc\u001b[0m\u001b[0;34m(\u001b[0m\u001b[0;34m*\u001b[0m\u001b[0margs\u001b[0m\u001b[0;34m,\u001b[0m \u001b[0;34m**\u001b[0m\u001b[0mkwargs\u001b[0m\u001b[0;34m)\u001b[0m\u001b[0;34m\u001b[0m\u001b[0;34m\u001b[0m\u001b[0m\n",
      "\u001b[0;32m/software/local/lib64/python3.7/site-packages/keras/optimizers.py\u001b[0m in \u001b[0;36mget_updates\u001b[0;34m(self, loss, params)\u001b[0m\n\u001b[1;32m    502\u001b[0m     \u001b[0;34m@\u001b[0m\u001b[0mK\u001b[0m\u001b[0;34m.\u001b[0m\u001b[0msymbolic\u001b[0m\u001b[0;34m\u001b[0m\u001b[0;34m\u001b[0m\u001b[0m\n\u001b[1;32m    503\u001b[0m     \u001b[0;32mdef\u001b[0m \u001b[0mget_updates\u001b[0m\u001b[0;34m(\u001b[0m\u001b[0mself\u001b[0m\u001b[0;34m,\u001b[0m \u001b[0mloss\u001b[0m\u001b[0;34m,\u001b[0m \u001b[0mparams\u001b[0m\u001b[0;34m)\u001b[0m\u001b[0;34m:\u001b[0m\u001b[0;34m\u001b[0m\u001b[0;34m\u001b[0m\u001b[0m\n\u001b[0;32m--> 504\u001b[0;31m         \u001b[0mgrads\u001b[0m \u001b[0;34m=\u001b[0m \u001b[0mself\u001b[0m\u001b[0;34m.\u001b[0m\u001b[0mget_gradients\u001b[0m\u001b[0;34m(\u001b[0m\u001b[0mloss\u001b[0m\u001b[0;34m,\u001b[0m \u001b[0mparams\u001b[0m\u001b[0;34m)\u001b[0m\u001b[0;34m\u001b[0m\u001b[0;34m\u001b[0m\u001b[0m\n\u001b[0m\u001b[1;32m    505\u001b[0m         \u001b[0mself\u001b[0m\u001b[0;34m.\u001b[0m\u001b[0mupdates\u001b[0m \u001b[0;34m=\u001b[0m \u001b[0;34m[\u001b[0m\u001b[0mK\u001b[0m\u001b[0;34m.\u001b[0m\u001b[0mupdate_add\u001b[0m\u001b[0;34m(\u001b[0m\u001b[0mself\u001b[0m\u001b[0;34m.\u001b[0m\u001b[0miterations\u001b[0m\u001b[0;34m,\u001b[0m \u001b[0;36m1\u001b[0m\u001b[0;34m)\u001b[0m\u001b[0;34m]\u001b[0m\u001b[0;34m\u001b[0m\u001b[0;34m\u001b[0m\u001b[0m\n\u001b[1;32m    506\u001b[0m \u001b[0;34m\u001b[0m\u001b[0m\n",
      "\u001b[0;32m/software/local/lib64/python3.7/site-packages/keras/optimizers.py\u001b[0m in \u001b[0;36mget_gradients\u001b[0;34m(self, loss, params)\u001b[0m\n\u001b[1;32m     89\u001b[0m \u001b[0;34m\u001b[0m\u001b[0m\n\u001b[1;32m     90\u001b[0m     \u001b[0;32mdef\u001b[0m \u001b[0mget_gradients\u001b[0m\u001b[0;34m(\u001b[0m\u001b[0mself\u001b[0m\u001b[0;34m,\u001b[0m \u001b[0mloss\u001b[0m\u001b[0;34m,\u001b[0m \u001b[0mparams\u001b[0m\u001b[0;34m)\u001b[0m\u001b[0;34m:\u001b[0m\u001b[0;34m\u001b[0m\u001b[0;34m\u001b[0m\u001b[0m\n\u001b[0;32m---> 91\u001b[0;31m         \u001b[0mgrads\u001b[0m \u001b[0;34m=\u001b[0m \u001b[0mK\u001b[0m\u001b[0;34m.\u001b[0m\u001b[0mgradients\u001b[0m\u001b[0;34m(\u001b[0m\u001b[0mloss\u001b[0m\u001b[0;34m,\u001b[0m \u001b[0mparams\u001b[0m\u001b[0;34m)\u001b[0m\u001b[0;34m\u001b[0m\u001b[0;34m\u001b[0m\u001b[0m\n\u001b[0m\u001b[1;32m     92\u001b[0m         \u001b[0;32mif\u001b[0m \u001b[0many\u001b[0m\u001b[0;34m(\u001b[0m\u001b[0mx\u001b[0m \u001b[0;32mis\u001b[0m \u001b[0;32mNone\u001b[0m \u001b[0;32mfor\u001b[0m \u001b[0mx\u001b[0m \u001b[0;32min\u001b[0m \u001b[0mgrads\u001b[0m\u001b[0;34m)\u001b[0m\u001b[0;34m:\u001b[0m\u001b[0;34m\u001b[0m\u001b[0;34m\u001b[0m\u001b[0m\n\u001b[1;32m     93\u001b[0m             raise ValueError('An operation has `None` for gradient. '\n",
      "\u001b[0;32m/software/local/lib64/python3.7/site-packages/keras/backend/tensorflow_backend.py\u001b[0m in \u001b[0;36msymbolic_fn_wrapper\u001b[0;34m(*args, **kwargs)\u001b[0m\n\u001b[1;32m     73\u001b[0m         \u001b[0;32mif\u001b[0m \u001b[0m_SYMBOLIC_SCOPE\u001b[0m\u001b[0;34m.\u001b[0m\u001b[0mvalue\u001b[0m\u001b[0;34m:\u001b[0m\u001b[0;34m\u001b[0m\u001b[0;34m\u001b[0m\u001b[0m\n\u001b[1;32m     74\u001b[0m             \u001b[0;32mwith\u001b[0m \u001b[0mget_graph\u001b[0m\u001b[0;34m(\u001b[0m\u001b[0;34m)\u001b[0m\u001b[0;34m.\u001b[0m\u001b[0mas_default\u001b[0m\u001b[0;34m(\u001b[0m\u001b[0;34m)\u001b[0m\u001b[0;34m:\u001b[0m\u001b[0;34m\u001b[0m\u001b[0;34m\u001b[0m\u001b[0m\n\u001b[0;32m---> 75\u001b[0;31m                 \u001b[0;32mreturn\u001b[0m \u001b[0mfunc\u001b[0m\u001b[0;34m(\u001b[0m\u001b[0;34m*\u001b[0m\u001b[0margs\u001b[0m\u001b[0;34m,\u001b[0m \u001b[0;34m**\u001b[0m\u001b[0mkwargs\u001b[0m\u001b[0;34m)\u001b[0m\u001b[0;34m\u001b[0m\u001b[0;34m\u001b[0m\u001b[0m\n\u001b[0m\u001b[1;32m     76\u001b[0m         \u001b[0;32melse\u001b[0m\u001b[0;34m:\u001b[0m\u001b[0;34m\u001b[0m\u001b[0;34m\u001b[0m\u001b[0m\n\u001b[1;32m     77\u001b[0m             \u001b[0;32mreturn\u001b[0m \u001b[0mfunc\u001b[0m\u001b[0;34m(\u001b[0m\u001b[0;34m*\u001b[0m\u001b[0margs\u001b[0m\u001b[0;34m,\u001b[0m \u001b[0;34m**\u001b[0m\u001b[0mkwargs\u001b[0m\u001b[0;34m)\u001b[0m\u001b[0;34m\u001b[0m\u001b[0;34m\u001b[0m\u001b[0m\n",
      "\u001b[0;32m/software/local/lib64/python3.7/site-packages/keras/backend/tensorflow_backend.py\u001b[0m in \u001b[0;36mgradients\u001b[0;34m(loss, variables)\u001b[0m\n\u001b[1;32m   3023\u001b[0m     \u001b[0;32mif\u001b[0m \u001b[0m_is_tf_1\u001b[0m\u001b[0;34m(\u001b[0m\u001b[0;34m)\u001b[0m\u001b[0;34m:\u001b[0m\u001b[0;34m\u001b[0m\u001b[0;34m\u001b[0m\u001b[0m\n\u001b[1;32m   3024\u001b[0m         \u001b[0;32mreturn\u001b[0m \u001b[0mtf\u001b[0m\u001b[0;34m.\u001b[0m\u001b[0mgradients\u001b[0m\u001b[0;34m(\u001b[0m\u001b[0mloss\u001b[0m\u001b[0;34m,\u001b[0m \u001b[0mvariables\u001b[0m\u001b[0;34m,\u001b[0m \u001b[0mcolocate_gradients_with_ops\u001b[0m\u001b[0;34m=\u001b[0m\u001b[0;32mTrue\u001b[0m\u001b[0;34m)\u001b[0m\u001b[0;34m\u001b[0m\u001b[0;34m\u001b[0m\u001b[0m\n\u001b[0;32m-> 3025\u001b[0;31m     \u001b[0;32mreturn\u001b[0m \u001b[0mtf\u001b[0m\u001b[0;34m.\u001b[0m\u001b[0mgradients\u001b[0m\u001b[0;34m(\u001b[0m\u001b[0mloss\u001b[0m\u001b[0;34m,\u001b[0m \u001b[0mvariables\u001b[0m\u001b[0;34m)\u001b[0m\u001b[0;34m\u001b[0m\u001b[0;34m\u001b[0m\u001b[0m\n\u001b[0m\u001b[1;32m   3026\u001b[0m \u001b[0;34m\u001b[0m\u001b[0m\n\u001b[1;32m   3027\u001b[0m \u001b[0;34m\u001b[0m\u001b[0m\n",
      "\u001b[0;32m/software/local/lib64/python3.7/site-packages/tensorflow_core/python/ops/gradients_impl.py\u001b[0m in \u001b[0;36mgradients_v2\u001b[0;34m(ys, xs, grad_ys, name, gate_gradients, aggregation_method, stop_gradients, unconnected_gradients)\u001b[0m\n\u001b[1;32m    272\u001b[0m         \u001b[0mys\u001b[0m\u001b[0;34m,\u001b[0m \u001b[0mxs\u001b[0m\u001b[0;34m,\u001b[0m \u001b[0mgrad_ys\u001b[0m\u001b[0;34m,\u001b[0m \u001b[0mname\u001b[0m\u001b[0;34m,\u001b[0m \u001b[0;32mTrue\u001b[0m\u001b[0;34m,\u001b[0m \u001b[0mgate_gradients\u001b[0m\u001b[0;34m,\u001b[0m\u001b[0;34m\u001b[0m\u001b[0;34m\u001b[0m\u001b[0m\n\u001b[1;32m    273\u001b[0m         \u001b[0maggregation_method\u001b[0m\u001b[0;34m,\u001b[0m \u001b[0mstop_gradients\u001b[0m\u001b[0;34m,\u001b[0m\u001b[0;34m\u001b[0m\u001b[0;34m\u001b[0m\u001b[0m\n\u001b[0;32m--> 274\u001b[0;31m         unconnected_gradients)\n\u001b[0m\u001b[1;32m    275\u001b[0m   \u001b[0;31m# pylint: enable=protected-access\u001b[0m\u001b[0;34m\u001b[0m\u001b[0;34m\u001b[0m\u001b[0;34m\u001b[0m\u001b[0m\n\u001b[1;32m    276\u001b[0m \u001b[0;34m\u001b[0m\u001b[0m\n",
      "\u001b[0;32m/software/local/lib64/python3.7/site-packages/tensorflow_core/python/ops/gradients_util.py\u001b[0m in \u001b[0;36m_GradientsHelper\u001b[0;34m(ys, xs, grad_ys, name, colocate_gradients_with_ops, gate_gradients, aggregation_method, stop_gradients, unconnected_gradients, src_graph)\u001b[0m\n\u001b[1;32m    677\u001b[0m                 \u001b[0;31m# functions.\u001b[0m\u001b[0;34m\u001b[0m\u001b[0;34m\u001b[0m\u001b[0;34m\u001b[0m\u001b[0m\n\u001b[1;32m    678\u001b[0m                 in_grads = _MaybeCompile(grad_scope, op, func_call,\n\u001b[0;32m--> 679\u001b[0;31m                                          lambda: grad_fn(op, *out_grads))\n\u001b[0m\u001b[1;32m    680\u001b[0m               \u001b[0;32melse\u001b[0m\u001b[0;34m:\u001b[0m\u001b[0;34m\u001b[0m\u001b[0;34m\u001b[0m\u001b[0m\n\u001b[1;32m    681\u001b[0m                 \u001b[0;31m# For function call ops, we add a 'SymbolicGradient'\u001b[0m\u001b[0;34m\u001b[0m\u001b[0;34m\u001b[0m\u001b[0;34m\u001b[0m\u001b[0m\n",
      "\u001b[0;32m/software/local/lib64/python3.7/site-packages/tensorflow_core/python/ops/gradients_util.py\u001b[0m in \u001b[0;36m_MaybeCompile\u001b[0;34m(scope, op, func, grad_fn)\u001b[0m\n\u001b[1;32m    348\u001b[0m       \u001b[0mxla_scope\u001b[0m \u001b[0;34m=\u001b[0m \u001b[0mop\u001b[0m\u001b[0;34m.\u001b[0m\u001b[0mget_attr\u001b[0m\u001b[0;34m(\u001b[0m\u001b[0;34m\"_XlaScope\"\u001b[0m\u001b[0;34m)\u001b[0m\u001b[0;34m.\u001b[0m\u001b[0mdecode\u001b[0m\u001b[0;34m(\u001b[0m\u001b[0;34m)\u001b[0m\u001b[0;34m\u001b[0m\u001b[0;34m\u001b[0m\u001b[0m\n\u001b[1;32m    349\u001b[0m     \u001b[0;32mexcept\u001b[0m \u001b[0mValueError\u001b[0m\u001b[0;34m:\u001b[0m\u001b[0;34m\u001b[0m\u001b[0;34m\u001b[0m\u001b[0m\n\u001b[0;32m--> 350\u001b[0;31m       \u001b[0;32mreturn\u001b[0m \u001b[0mgrad_fn\u001b[0m\u001b[0;34m(\u001b[0m\u001b[0;34m)\u001b[0m  \u001b[0;31m# Exit early\u001b[0m\u001b[0;34m\u001b[0m\u001b[0;34m\u001b[0m\u001b[0m\n\u001b[0m\u001b[1;32m    351\u001b[0m \u001b[0;34m\u001b[0m\u001b[0m\n\u001b[1;32m    352\u001b[0m   \u001b[0;32mif\u001b[0m \u001b[0;32mnot\u001b[0m \u001b[0mxla_compile\u001b[0m\u001b[0;34m:\u001b[0m\u001b[0;34m\u001b[0m\u001b[0;34m\u001b[0m\u001b[0m\n",
      "\u001b[0;32m/software/local/lib64/python3.7/site-packages/tensorflow_core/python/ops/gradients_util.py\u001b[0m in \u001b[0;36m<lambda>\u001b[0;34m()\u001b[0m\n\u001b[1;32m    677\u001b[0m                 \u001b[0;31m# functions.\u001b[0m\u001b[0;34m\u001b[0m\u001b[0;34m\u001b[0m\u001b[0;34m\u001b[0m\u001b[0m\n\u001b[1;32m    678\u001b[0m                 in_grads = _MaybeCompile(grad_scope, op, func_call,\n\u001b[0;32m--> 679\u001b[0;31m                                          lambda: grad_fn(op, *out_grads))\n\u001b[0m\u001b[1;32m    680\u001b[0m               \u001b[0;32melse\u001b[0m\u001b[0;34m:\u001b[0m\u001b[0;34m\u001b[0m\u001b[0;34m\u001b[0m\u001b[0m\n\u001b[1;32m    681\u001b[0m                 \u001b[0;31m# For function call ops, we add a 'SymbolicGradient'\u001b[0m\u001b[0;34m\u001b[0m\u001b[0;34m\u001b[0m\u001b[0;34m\u001b[0m\u001b[0m\n",
      "\u001b[0;32m/software/local/lib64/python3.7/site-packages/tensorflow_core/python/ops/cond_v2.py\u001b[0m in \u001b[0;36m_IfGrad\u001b[0;34m(op, *grads)\u001b[0m\n\u001b[1;32m    108\u001b[0m   \u001b[0;31m# Get the if operator (this logic handles the case where op is a MockOp)\u001b[0m\u001b[0;34m\u001b[0m\u001b[0;34m\u001b[0m\u001b[0;34m\u001b[0m\u001b[0m\n\u001b[1;32m    109\u001b[0m   \u001b[0mif_op\u001b[0m \u001b[0;34m=\u001b[0m \u001b[0mop\u001b[0m\u001b[0;34m.\u001b[0m\u001b[0moutputs\u001b[0m\u001b[0;34m[\u001b[0m\u001b[0;36m0\u001b[0m\u001b[0;34m]\u001b[0m\u001b[0;34m.\u001b[0m\u001b[0mop\u001b[0m\u001b[0;34m\u001b[0m\u001b[0;34m\u001b[0m\u001b[0m\n\u001b[0;32m--> 110\u001b[0;31m   \u001b[0mtrue_graph\u001b[0m\u001b[0;34m,\u001b[0m \u001b[0mfalse_graph\u001b[0m \u001b[0;34m=\u001b[0m \u001b[0mget_func_graphs\u001b[0m\u001b[0;34m(\u001b[0m\u001b[0mif_op\u001b[0m\u001b[0;34m)\u001b[0m\u001b[0;34m\u001b[0m\u001b[0;34m\u001b[0m\u001b[0m\n\u001b[0m\u001b[1;32m    111\u001b[0m   \u001b[0;31m# Note: op.graph != ops.get_default_graph() when we are computing the gradient\u001b[0m\u001b[0;34m\u001b[0m\u001b[0;34m\u001b[0m\u001b[0;34m\u001b[0m\u001b[0m\n\u001b[1;32m    112\u001b[0m   \u001b[0;31m# of a nested cond.\u001b[0m\u001b[0;34m\u001b[0m\u001b[0;34m\u001b[0m\u001b[0;34m\u001b[0m\u001b[0m\n",
      "\u001b[0;32m/software/local/lib64/python3.7/site-packages/tensorflow_core/python/ops/cond_v2.py\u001b[0m in \u001b[0;36mget_func_graphs\u001b[0;34m(op)\u001b[0m\n\u001b[1;32m    329\u001b[0m \u001b[0;34m\u001b[0m\u001b[0m\n\u001b[1;32m    330\u001b[0m   \u001b[0;32mif\u001b[0m \u001b[0mop\u001b[0m\u001b[0;34m.\u001b[0m\u001b[0mtype\u001b[0m \u001b[0;32min\u001b[0m \u001b[0;34m[\u001b[0m\u001b[0;34m\"If\"\u001b[0m\u001b[0;34m,\u001b[0m \u001b[0;34m\"StatelessIf\"\u001b[0m\u001b[0;34m]\u001b[0m\u001b[0;34m:\u001b[0m\u001b[0;34m\u001b[0m\u001b[0;34m\u001b[0m\u001b[0m\n\u001b[0;32m--> 331\u001b[0;31m     return (_get_func_graph_for_branch(op.get_attr(\"then_branch\")),\n\u001b[0m\u001b[1;32m    332\u001b[0m             _get_func_graph_for_branch(op.get_attr(\"else_branch\")))\n\u001b[1;32m    333\u001b[0m   \u001b[0;32melif\u001b[0m \u001b[0mop\u001b[0m\u001b[0;34m.\u001b[0m\u001b[0mtype\u001b[0m \u001b[0;34m==\u001b[0m \u001b[0;34m\"Case\"\u001b[0m\u001b[0;34m:\u001b[0m\u001b[0;34m\u001b[0m\u001b[0;34m\u001b[0m\u001b[0m\n",
      "\u001b[0;32m/software/local/lib64/python3.7/site-packages/tensorflow_core/python/ops/cond_v2.py\u001b[0m in \u001b[0;36m_get_func_graph_for_branch\u001b[0;34m(name_attr_list)\u001b[0m\n\u001b[1;32m    320\u001b[0m     \u001b[0;32mwith\u001b[0m \u001b[0mop\u001b[0m\u001b[0;34m.\u001b[0m\u001b[0mgraph\u001b[0m\u001b[0;34m.\u001b[0m\u001b[0mas_default\u001b[0m\u001b[0;34m(\u001b[0m\u001b[0;34m)\u001b[0m\u001b[0;34m:\u001b[0m\u001b[0;34m\u001b[0m\u001b[0;34m\u001b[0m\u001b[0m\n\u001b[1;32m    321\u001b[0m       func_graph = function_def_to_graph.function_def_to_graph(\n\u001b[0;32m--> 322\u001b[0;31m           fdef, input_shapes)\n\u001b[0m\u001b[1;32m    323\u001b[0m     \u001b[0;32mfor\u001b[0m \u001b[0mexternal_t\u001b[0m\u001b[0;34m,\u001b[0m \u001b[0minternal_t\u001b[0m \u001b[0;32min\u001b[0m \u001b[0mzip\u001b[0m\u001b[0;34m(\u001b[0m\u001b[0minputs\u001b[0m\u001b[0;34m,\u001b[0m \u001b[0mfunc_graph\u001b[0m\u001b[0;34m.\u001b[0m\u001b[0minputs\u001b[0m\u001b[0;34m)\u001b[0m\u001b[0;34m:\u001b[0m\u001b[0;34m\u001b[0m\u001b[0;34m\u001b[0m\u001b[0m\n\u001b[1;32m    324\u001b[0m       \u001b[0mcustom_gradient\u001b[0m\u001b[0;34m.\u001b[0m\u001b[0mcopy_handle_data\u001b[0m\u001b[0;34m(\u001b[0m\u001b[0mexternal_t\u001b[0m\u001b[0;34m,\u001b[0m \u001b[0minternal_t\u001b[0m\u001b[0;34m)\u001b[0m\u001b[0;34m\u001b[0m\u001b[0;34m\u001b[0m\u001b[0m\n",
      "\u001b[0;32m/software/local/lib64/python3.7/site-packages/tensorflow_core/python/framework/function_def_to_graph.py\u001b[0m in \u001b[0;36mfunction_def_to_graph\u001b[0;34m(fdef, input_shapes, copy_functions)\u001b[0m\n\u001b[1;32m     63\u001b[0m   \u001b[0;32mwith\u001b[0m \u001b[0mfunc_graph\u001b[0m\u001b[0;34m.\u001b[0m\u001b[0mas_default\u001b[0m\u001b[0;34m(\u001b[0m\u001b[0;34m)\u001b[0m\u001b[0;34m:\u001b[0m\u001b[0;34m\u001b[0m\u001b[0;34m\u001b[0m\u001b[0m\n\u001b[1;32m     64\u001b[0m     \u001b[0;31m# Add all function nodes to the graph.\u001b[0m\u001b[0;34m\u001b[0m\u001b[0;34m\u001b[0m\u001b[0;34m\u001b[0m\u001b[0m\n\u001b[0;32m---> 65\u001b[0;31m     \u001b[0mimporter\u001b[0m\u001b[0;34m.\u001b[0m\u001b[0mimport_graph_def_for_function\u001b[0m\u001b[0;34m(\u001b[0m\u001b[0mgraph_def\u001b[0m\u001b[0;34m,\u001b[0m \u001b[0mname\u001b[0m\u001b[0;34m=\u001b[0m\u001b[0;34m\"\"\u001b[0m\u001b[0;34m)\u001b[0m\u001b[0;34m\u001b[0m\u001b[0;34m\u001b[0m\u001b[0m\n\u001b[0m\u001b[1;32m     66\u001b[0m \u001b[0;34m\u001b[0m\u001b[0m\n\u001b[1;32m     67\u001b[0m     \u001b[0;31m# Initialize fields specific to FuncGraph.\u001b[0m\u001b[0;34m\u001b[0m\u001b[0;34m\u001b[0m\u001b[0;34m\u001b[0m\u001b[0m\n",
      "\u001b[0;32m/software/local/lib64/python3.7/site-packages/tensorflow_core/python/framework/importer.py\u001b[0m in \u001b[0;36mimport_graph_def_for_function\u001b[0;34m(graph_def, name)\u001b[0m\n\u001b[1;32m    410\u001b[0m   \u001b[0;34m\"\"\"Like import_graph_def but does not validate colocation constraints.\"\"\"\u001b[0m\u001b[0;34m\u001b[0m\u001b[0;34m\u001b[0m\u001b[0m\n\u001b[1;32m    411\u001b[0m   return _import_graph_def_internal(\n\u001b[0;32m--> 412\u001b[0;31m       graph_def, validate_colocation_constraints=False, name=name)\n\u001b[0m\u001b[1;32m    413\u001b[0m \u001b[0;34m\u001b[0m\u001b[0m\n\u001b[1;32m    414\u001b[0m \u001b[0;34m\u001b[0m\u001b[0m\n",
      "\u001b[0;32m/software/local/lib64/python3.7/site-packages/tensorflow_core/python/framework/importer.py\u001b[0m in \u001b[0;36m_import_graph_def_internal\u001b[0;34m(graph_def, input_map, return_elements, validate_colocation_constraints, name, op_dict, producer_op_list)\u001b[0m\n\u001b[1;32m    520\u001b[0m     \u001b[0mfunctions\u001b[0m \u001b[0;34m=\u001b[0m \u001b[0mfunction\u001b[0m\u001b[0;34m.\u001b[0m\u001b[0mfrom_library\u001b[0m\u001b[0;34m(\u001b[0m\u001b[0mgraph_def\u001b[0m\u001b[0;34m.\u001b[0m\u001b[0mlibrary\u001b[0m\u001b[0;34m)\u001b[0m\u001b[0;34m\u001b[0m\u001b[0;34m\u001b[0m\u001b[0m\n\u001b[1;32m    521\u001b[0m     \u001b[0;32mfor\u001b[0m \u001b[0mf\u001b[0m \u001b[0;32min\u001b[0m \u001b[0mfunctions\u001b[0m\u001b[0;34m:\u001b[0m\u001b[0;34m\u001b[0m\u001b[0;34m\u001b[0m\u001b[0m\n\u001b[0;32m--> 522\u001b[0;31m       \u001b[0mf\u001b[0m\u001b[0;34m.\u001b[0m\u001b[0madd_to_graph\u001b[0m\u001b[0;34m(\u001b[0m\u001b[0mgraph\u001b[0m\u001b[0;34m)\u001b[0m\u001b[0;34m\u001b[0m\u001b[0;34m\u001b[0m\u001b[0m\n\u001b[0m\u001b[1;32m    523\u001b[0m \u001b[0;34m\u001b[0m\u001b[0m\n\u001b[1;32m    524\u001b[0m   \u001b[0;31m# Treat input mappings that don't appear in the graph as an error, because\u001b[0m\u001b[0;34m\u001b[0m\u001b[0;34m\u001b[0m\u001b[0;34m\u001b[0m\u001b[0m\n",
      "\u001b[0;32m/software/local/lib64/python3.7/site-packages/tensorflow_core/python/framework/function.py\u001b[0m in \u001b[0;36madd_to_graph\u001b[0;34m(self, g)\u001b[0m\n\u001b[1;32m    550\u001b[0m       \u001b[0mcontext\u001b[0m\u001b[0;34m.\u001b[0m\u001b[0mcontext\u001b[0m\u001b[0;34m(\u001b[0m\u001b[0;34m)\u001b[0m\u001b[0;34m.\u001b[0m\u001b[0madd_function_def\u001b[0m\u001b[0;34m(\u001b[0m\u001b[0mself\u001b[0m\u001b[0;34m.\u001b[0m\u001b[0mdefinition\u001b[0m\u001b[0;34m)\u001b[0m\u001b[0;34m\u001b[0m\u001b[0;34m\u001b[0m\u001b[0m\n\u001b[1;32m    551\u001b[0m     \u001b[0;32melse\u001b[0m\u001b[0;34m:\u001b[0m\u001b[0;34m\u001b[0m\u001b[0;34m\u001b[0m\u001b[0m\n\u001b[0;32m--> 552\u001b[0;31m       \u001b[0mg\u001b[0m\u001b[0;34m.\u001b[0m\u001b[0m_add_function\u001b[0m\u001b[0;34m(\u001b[0m\u001b[0mself\u001b[0m\u001b[0;34m)\u001b[0m\u001b[0;34m\u001b[0m\u001b[0;34m\u001b[0m\u001b[0m\n\u001b[0m\u001b[1;32m    553\u001b[0m     \u001b[0;31m# pylint: enable=protected-access\u001b[0m\u001b[0;34m\u001b[0m\u001b[0;34m\u001b[0m\u001b[0;34m\u001b[0m\u001b[0m\n\u001b[1;32m    554\u001b[0m \u001b[0;34m\u001b[0m\u001b[0m\n",
      "\u001b[0;32m/software/local/lib64/python3.7/site-packages/tensorflow_core/python/framework/ops.py\u001b[0m in \u001b[0;36m_add_function\u001b[0;34m(self, function)\u001b[0m\n\u001b[1;32m   3287\u001b[0m     gradient = (\n\u001b[1;32m   3288\u001b[0m         function._grad_func._c_func.func if function._grad_func else None)\n\u001b[0;32m-> 3289\u001b[0;31m     \u001b[0mc_api\u001b[0m\u001b[0;34m.\u001b[0m\u001b[0mTF_GraphCopyFunction\u001b[0m\u001b[0;34m(\u001b[0m\u001b[0mself\u001b[0m\u001b[0;34m.\u001b[0m\u001b[0m_c_graph\u001b[0m\u001b[0;34m,\u001b[0m \u001b[0mfunction\u001b[0m\u001b[0;34m.\u001b[0m\u001b[0m_c_func\u001b[0m\u001b[0;34m.\u001b[0m\u001b[0mfunc\u001b[0m\u001b[0;34m,\u001b[0m \u001b[0mgradient\u001b[0m\u001b[0;34m)\u001b[0m\u001b[0;34m\u001b[0m\u001b[0;34m\u001b[0m\u001b[0m\n\u001b[0m\u001b[1;32m   3290\u001b[0m     \u001b[0;31m# pylint: enable=protected-access\u001b[0m\u001b[0;34m\u001b[0m\u001b[0;34m\u001b[0m\u001b[0;34m\u001b[0m\u001b[0m\n\u001b[1;32m   3291\u001b[0m \u001b[0;34m\u001b[0m\u001b[0m\n",
      "\u001b[0;31mKeyboardInterrupt\u001b[0m: "
     ]
    }
   ],
   "source": [
    "lstm_classifyer = make_lstm_classifyer(512)\n",
    "lstm_classifyer.compile(optimizer='Adam', loss='binary_crossentropy', metrics=['accuracy'])\n",
    "lstm_classifyer.fit(X_lstm_oh,Y,epochs=10,validation_split=0.1)"
   ]
  },
  {
   "cell_type": "code",
   "execution_count": 1420,
   "metadata": {},
   "outputs": [
    {
     "name": "stdout",
     "output_type": "stream",
     "text": [
      "Train on 2302 samples, validate on 576 samples\n",
      "Epoch 1/200\n",
      "2302/2302 [==============================] - 0s 100us/step - loss: 0.6838 - accuracy: 0.9865 - val_loss: 0.6742 - val_accuracy: 1.0000\n",
      "Epoch 2/200\n",
      "2302/2302 [==============================] - 0s 80us/step - loss: 0.6653 - accuracy: 1.0000 - val_loss: 0.6561 - val_accuracy: 1.0000\n",
      "Epoch 3/200\n",
      "2302/2302 [==============================] - 0s 79us/step - loss: 0.6473 - accuracy: 1.0000 - val_loss: 0.6384 - val_accuracy: 1.0000\n",
      "Epoch 4/200\n",
      "2302/2302 [==============================] - 0s 82us/step - loss: 0.6298 - accuracy: 1.0000 - val_loss: 0.6213 - val_accuracy: 1.0000\n",
      "Epoch 5/200\n",
      "2302/2302 [==============================] - 0s 79us/step - loss: 0.6128 - accuracy: 1.0000 - val_loss: 0.6047 - val_accuracy: 1.0000\n",
      "Epoch 6/200\n",
      "2302/2302 [==============================] - 0s 79us/step - loss: 0.5964 - accuracy: 1.0000 - val_loss: 0.5886 - val_accuracy: 1.0000\n",
      "Epoch 7/200\n",
      "2302/2302 [==============================] - 0s 78us/step - loss: 0.5804 - accuracy: 1.0000 - val_loss: 0.5729 - val_accuracy: 1.0000\n",
      "Epoch 8/200\n",
      "2302/2302 [==============================] - 0s 79us/step - loss: 0.5649 - accuracy: 1.0000 - val_loss: 0.5577 - val_accuracy: 1.0000\n",
      "Epoch 9/200\n",
      "2302/2302 [==============================] - 0s 79us/step - loss: 0.5498 - accuracy: 1.0000 - val_loss: 0.5429 - val_accuracy: 1.0000\n",
      "Epoch 10/200\n",
      "2302/2302 [==============================] - 0s 77us/step - loss: 0.5352 - accuracy: 1.0000 - val_loss: 0.5286 - val_accuracy: 1.0000\n",
      "Epoch 11/200\n",
      "2302/2302 [==============================] - 0s 78us/step - loss: 0.5210 - accuracy: 1.0000 - val_loss: 0.5146 - val_accuracy: 1.0000\n",
      "Epoch 12/200\n",
      "2302/2302 [==============================] - 0s 78us/step - loss: 0.5072 - accuracy: 1.0000 - val_loss: 0.5011 - val_accuracy: 1.0000\n",
      "Epoch 13/200\n",
      "2302/2302 [==============================] - 0s 77us/step - loss: 0.4938 - accuracy: 1.0000 - val_loss: 0.4879 - val_accuracy: 1.0000\n",
      "Epoch 14/200\n",
      "2302/2302 [==============================] - 0s 79us/step - loss: 0.4807 - accuracy: 1.0000 - val_loss: 0.4752 - val_accuracy: 1.0000\n",
      "Epoch 15/200\n",
      "2302/2302 [==============================] - 0s 78us/step - loss: 0.4681 - accuracy: 1.0000 - val_loss: 0.4628 - val_accuracy: 1.0000\n",
      "Epoch 16/200\n",
      "2302/2302 [==============================] - 0s 78us/step - loss: 0.4558 - accuracy: 1.0000 - val_loss: 0.4507 - val_accuracy: 1.0000\n",
      "Epoch 17/200\n",
      "2302/2302 [==============================] - 0s 78us/step - loss: 0.4439 - accuracy: 1.0000 - val_loss: 0.4390 - val_accuracy: 1.0000\n",
      "Epoch 18/200\n",
      "2302/2302 [==============================] - 0s 77us/step - loss: 0.4323 - accuracy: 1.0000 - val_loss: 0.4277 - val_accuracy: 1.0000\n",
      "Epoch 19/200\n",
      "2302/2302 [==============================] - 0s 77us/step - loss: 0.4211 - accuracy: 1.0000 - val_loss: 0.4166 - val_accuracy: 1.0000\n",
      "Epoch 20/200\n",
      "2302/2302 [==============================] - 0s 81us/step - loss: 0.4102 - accuracy: 1.0000 - val_loss: 0.4059 - val_accuracy: 1.0000\n",
      "Epoch 21/200\n",
      "2302/2302 [==============================] - 0s 79us/step - loss: 0.3996 - accuracy: 1.0000 - val_loss: 0.3955 - val_accuracy: 1.0000\n",
      "Epoch 22/200\n",
      "2302/2302 [==============================] - 0s 77us/step - loss: 0.3893 - accuracy: 1.0000 - val_loss: 0.3854 - val_accuracy: 1.0000\n",
      "Epoch 23/200\n",
      "2302/2302 [==============================] - 0s 77us/step - loss: 0.3793 - accuracy: 1.0000 - val_loss: 0.3756 - val_accuracy: 1.0000\n",
      "Epoch 24/200\n",
      "2302/2302 [==============================] - 0s 78us/step - loss: 0.3696 - accuracy: 1.0000 - val_loss: 0.3660 - val_accuracy: 1.0000\n",
      "Epoch 25/200\n",
      "2302/2302 [==============================] - 0s 77us/step - loss: 0.3602 - accuracy: 1.0000 - val_loss: 0.3568 - val_accuracy: 1.0000\n",
      "Epoch 26/200\n",
      "2302/2302 [==============================] - 0s 78us/step - loss: 0.3510 - accuracy: 1.0000 - val_loss: 0.3477 - val_accuracy: 1.0000\n",
      "Epoch 27/200\n",
      "2302/2302 [==============================] - 0s 77us/step - loss: 0.3421 - accuracy: 1.0000 - val_loss: 0.3390 - val_accuracy: 1.0000\n",
      "Epoch 28/200\n",
      "2302/2302 [==============================] - 0s 77us/step - loss: 0.3334 - accuracy: 1.0000 - val_loss: 0.3305 - val_accuracy: 1.0000\n",
      "Epoch 29/200\n",
      "2302/2302 [==============================] - 0s 77us/step - loss: 0.3250 - accuracy: 1.0000 - val_loss: 0.3222 - val_accuracy: 1.0000\n",
      "Epoch 30/200\n",
      "2302/2302 [==============================] - 0s 77us/step - loss: 0.3168 - accuracy: 1.0000 - val_loss: 0.3141 - val_accuracy: 1.0000\n",
      "Epoch 31/200\n",
      "2302/2302 [==============================] - 0s 79us/step - loss: 0.3089 - accuracy: 1.0000 - val_loss: 0.3063 - val_accuracy: 1.0000\n",
      "Epoch 32/200\n",
      "2302/2302 [==============================] - 0s 79us/step - loss: 0.3011 - accuracy: 1.0000 - val_loss: 0.2987 - val_accuracy: 1.0000\n",
      "Epoch 33/200\n",
      "2302/2302 [==============================] - 0s 77us/step - loss: 0.2936 - accuracy: 1.0000 - val_loss: 0.2913 - val_accuracy: 1.0000\n",
      "Epoch 34/200\n",
      "2302/2302 [==============================] - 0s 77us/step - loss: 0.2863 - accuracy: 1.0000 - val_loss: 0.2841 - val_accuracy: 1.0000\n",
      "Epoch 35/200\n",
      "2302/2302 [==============================] - 0s 77us/step - loss: 0.2792 - accuracy: 1.0000 - val_loss: 0.2772 - val_accuracy: 1.0000\n",
      "Epoch 36/200\n",
      "2302/2302 [==============================] - 0s 78us/step - loss: 0.2723 - accuracy: 1.0000 - val_loss: 0.2703 - val_accuracy: 1.0000\n",
      "Epoch 37/200\n",
      "2302/2302 [==============================] - 0s 76us/step - loss: 0.2656 - accuracy: 1.0000 - val_loss: 0.2637 - val_accuracy: 1.0000\n",
      "Epoch 38/200\n",
      "2302/2302 [==============================] - 0s 78us/step - loss: 0.2590 - accuracy: 1.0000 - val_loss: 0.2573 - val_accuracy: 1.0000\n",
      "Epoch 39/200\n",
      "2302/2302 [==============================] - 0s 77us/step - loss: 0.2527 - accuracy: 1.0000 - val_loss: 0.2510 - val_accuracy: 1.0000\n",
      "Epoch 40/200\n",
      "2302/2302 [==============================] - 0s 77us/step - loss: 0.2465 - accuracy: 1.0000 - val_loss: 0.2449 - val_accuracy: 1.0000\n",
      "Epoch 41/200\n",
      "2302/2302 [==============================] - 0s 78us/step - loss: 0.2405 - accuracy: 1.0000 - val_loss: 0.2390 - val_accuracy: 1.0000\n",
      "Epoch 42/200\n",
      "2302/2302 [==============================] - 0s 79us/step - loss: 0.2346 - accuracy: 1.0000 - val_loss: 0.2332 - val_accuracy: 1.0000\n",
      "Epoch 43/200\n",
      "2302/2302 [==============================] - 0s 80us/step - loss: 0.2289 - accuracy: 1.0000 - val_loss: 0.2276 - val_accuracy: 1.0000\n",
      "Epoch 44/200\n",
      "2302/2302 [==============================] - 0s 78us/step - loss: 0.2234 - accuracy: 1.0000 - val_loss: 0.2221 - val_accuracy: 1.0000\n",
      "Epoch 45/200\n",
      "2302/2302 [==============================] - 0s 78us/step - loss: 0.2180 - accuracy: 1.0000 - val_loss: 0.2168 - val_accuracy: 1.0000\n",
      "Epoch 46/200\n",
      "2302/2302 [==============================] - 0s 78us/step - loss: 0.2127 - accuracy: 1.0000 - val_loss: 0.2116 - val_accuracy: 1.0000\n",
      "Epoch 47/200\n",
      "2302/2302 [==============================] - 0s 78us/step - loss: 0.2076 - accuracy: 1.0000 - val_loss: 0.2066 - val_accuracy: 1.0000\n",
      "Epoch 48/200\n",
      "2302/2302 [==============================] - 0s 83us/step - loss: 0.2026 - accuracy: 1.0000 - val_loss: 0.2016 - val_accuracy: 1.0000\n",
      "Epoch 49/200\n",
      "2302/2302 [==============================] - 0s 77us/step - loss: 0.1977 - accuracy: 1.0000 - val_loss: 0.1969 - val_accuracy: 1.0000\n",
      "Epoch 50/200\n",
      "2302/2302 [==============================] - 0s 79us/step - loss: 0.1930 - accuracy: 1.0000 - val_loss: 0.1922 - val_accuracy: 1.0000\n",
      "Epoch 51/200\n",
      "2302/2302 [==============================] - 0s 78us/step - loss: 0.1884 - accuracy: 1.0000 - val_loss: 0.1876 - val_accuracy: 1.0000\n",
      "Epoch 52/200\n",
      "2302/2302 [==============================] - 0s 76us/step - loss: 0.1839 - accuracy: 1.0000 - val_loss: 0.1832 - val_accuracy: 1.0000\n",
      "Epoch 53/200\n",
      "2302/2302 [==============================] - 0s 77us/step - loss: 0.1796 - accuracy: 1.0000 - val_loss: 0.1789 - val_accuracy: 1.0000\n",
      "Epoch 54/200\n",
      "2302/2302 [==============================] - 0s 78us/step - loss: 0.1753 - accuracy: 1.0000 - val_loss: 0.1747 - val_accuracy: 1.0000\n",
      "Epoch 55/200\n",
      "2302/2302 [==============================] - 0s 77us/step - loss: 0.1712 - accuracy: 1.0000 - val_loss: 0.1706 - val_accuracy: 1.0000\n",
      "Epoch 56/200\n"
     ]
    },
    {
     "name": "stdout",
     "output_type": "stream",
     "text": [
      "2302/2302 [==============================] - 0s 78us/step - loss: 0.1671 - accuracy: 1.0000 - val_loss: 0.1666 - val_accuracy: 1.0000\n",
      "Epoch 57/200\n",
      "2302/2302 [==============================] - 0s 78us/step - loss: 0.1632 - accuracy: 1.0000 - val_loss: 0.1627 - val_accuracy: 1.0000\n",
      "Epoch 58/200\n",
      "2302/2302 [==============================] - 0s 79us/step - loss: 0.1593 - accuracy: 1.0000 - val_loss: 0.1589 - val_accuracy: 1.0000\n",
      "Epoch 59/200\n",
      "2302/2302 [==============================] - 0s 81us/step - loss: 0.1556 - accuracy: 1.0000 - val_loss: 0.1552 - val_accuracy: 1.0000\n",
      "Epoch 60/200\n",
      "2302/2302 [==============================] - 0s 78us/step - loss: 0.1519 - accuracy: 1.0000 - val_loss: 0.1516 - val_accuracy: 1.0000\n",
      "Epoch 61/200\n",
      "2302/2302 [==============================] - 0s 78us/step - loss: 0.1484 - accuracy: 1.0000 - val_loss: 0.1481 - val_accuracy: 1.0000\n",
      "Epoch 62/200\n",
      "2302/2302 [==============================] - 0s 78us/step - loss: 0.1449 - accuracy: 1.0000 - val_loss: 0.1446 - val_accuracy: 1.0000\n",
      "Epoch 63/200\n",
      "2302/2302 [==============================] - 0s 77us/step - loss: 0.1415 - accuracy: 1.0000 - val_loss: 0.1413 - val_accuracy: 1.0000\n",
      "Epoch 64/200\n",
      "2302/2302 [==============================] - 0s 78us/step - loss: 0.1382 - accuracy: 1.0000 - val_loss: 0.1380 - val_accuracy: 1.0000\n",
      "Epoch 65/200\n",
      "2302/2302 [==============================] - 0s 77us/step - loss: 0.1350 - accuracy: 1.0000 - val_loss: 0.1348 - val_accuracy: 1.0000\n",
      "Epoch 66/200\n",
      "2302/2302 [==============================] - 0s 78us/step - loss: 0.1319 - accuracy: 1.0000 - val_loss: 0.1317 - val_accuracy: 1.0000\n",
      "Epoch 67/200\n",
      "2302/2302 [==============================] - 0s 78us/step - loss: 0.1288 - accuracy: 1.0000 - val_loss: 0.1287 - val_accuracy: 1.0000\n",
      "Epoch 68/200\n",
      "2302/2302 [==============================] - 0s 77us/step - loss: 0.1258 - accuracy: 1.0000 - val_loss: 0.1258 - val_accuracy: 1.0000\n",
      "Epoch 69/200\n",
      "2302/2302 [==============================] - 0s 77us/step - loss: 0.1229 - accuracy: 1.0000 - val_loss: 0.1229 - val_accuracy: 1.0000\n",
      "Epoch 70/200\n",
      "2302/2302 [==============================] - 0s 79us/step - loss: 0.1201 - accuracy: 1.0000 - val_loss: 0.1201 - val_accuracy: 1.0000\n",
      "Epoch 71/200\n",
      "2302/2302 [==============================] - 0s 78us/step - loss: 0.1173 - accuracy: 1.0000 - val_loss: 0.1173 - val_accuracy: 1.0000\n",
      "Epoch 72/200\n",
      "2302/2302 [==============================] - 0s 77us/step - loss: 0.1146 - accuracy: 1.0000 - val_loss: 0.1146 - val_accuracy: 1.0000\n",
      "Epoch 73/200\n",
      "2302/2302 [==============================] - 0s 77us/step - loss: 0.1120 - accuracy: 1.0000 - val_loss: 0.1120 - val_accuracy: 1.0000\n",
      "Epoch 74/200\n",
      "2302/2302 [==============================] - 0s 79us/step - loss: 0.1094 - accuracy: 1.0000 - val_loss: 0.1095 - val_accuracy: 1.0000\n",
      "Epoch 75/200\n",
      "2302/2302 [==============================] - 0s 79us/step - loss: 0.1069 - accuracy: 1.0000 - val_loss: 0.1070 - val_accuracy: 1.0000\n",
      "Epoch 76/200\n",
      "2302/2302 [==============================] - 0s 81us/step - loss: 0.1045 - accuracy: 1.0000 - val_loss: 0.1046 - val_accuracy: 1.0000\n",
      "Epoch 77/200\n",
      "2302/2302 [==============================] - 0s 79us/step - loss: 0.1021 - accuracy: 1.0000 - val_loss: 0.1022 - val_accuracy: 1.0000\n",
      "Epoch 78/200\n",
      "2302/2302 [==============================] - 0s 79us/step - loss: 0.0998 - accuracy: 1.0000 - val_loss: 0.0999 - val_accuracy: 1.0000\n",
      "Epoch 79/200\n",
      "2302/2302 [==============================] - 0s 78us/step - loss: 0.0975 - accuracy: 1.0000 - val_loss: 0.0977 - val_accuracy: 1.0000\n",
      "Epoch 80/200\n",
      "2302/2302 [==============================] - 0s 78us/step - loss: 0.0953 - accuracy: 1.0000 - val_loss: 0.0955 - val_accuracy: 1.0000\n",
      "Epoch 81/200\n",
      "2302/2302 [==============================] - 0s 78us/step - loss: 0.0931 - accuracy: 1.0000 - val_loss: 0.0933 - val_accuracy: 1.0000\n",
      "Epoch 82/200\n",
      "2302/2302 [==============================] - 0s 77us/step - loss: 0.0910 - accuracy: 1.0000 - val_loss: 0.0912 - val_accuracy: 1.0000\n",
      "Epoch 83/200\n",
      "2302/2302 [==============================] - 0s 77us/step - loss: 0.0889 - accuracy: 1.0000 - val_loss: 0.0892 - val_accuracy: 1.0000\n",
      "Epoch 84/200\n",
      "2302/2302 [==============================] - 0s 77us/step - loss: 0.0869 - accuracy: 1.0000 - val_loss: 0.0872 - val_accuracy: 1.0000\n",
      "Epoch 85/200\n",
      "2302/2302 [==============================] - 0s 78us/step - loss: 0.0850 - accuracy: 1.0000 - val_loss: 0.0852 - val_accuracy: 1.0000\n",
      "Epoch 86/200\n",
      "2302/2302 [==============================] - 0s 80us/step - loss: 0.0830 - accuracy: 1.0000 - val_loss: 0.0833 - val_accuracy: 1.0000\n",
      "Epoch 87/200\n",
      "2302/2302 [==============================] - 0s 79us/step - loss: 0.0812 - accuracy: 1.0000 - val_loss: 0.0814 - val_accuracy: 1.0000\n",
      "Epoch 88/200\n",
      "2302/2302 [==============================] - 0s 80us/step - loss: 0.0793 - accuracy: 1.0000 - val_loss: 0.0796 - val_accuracy: 1.0000\n",
      "Epoch 89/200\n",
      "2302/2302 [==============================] - 0s 77us/step - loss: 0.0776 - accuracy: 1.0000 - val_loss: 0.0779 - val_accuracy: 1.0000\n",
      "Epoch 90/200\n",
      "2302/2302 [==============================] - 0s 78us/step - loss: 0.0758 - accuracy: 1.0000 - val_loss: 0.0761 - val_accuracy: 1.0000\n",
      "Epoch 91/200\n",
      "2302/2302 [==============================] - 0s 77us/step - loss: 0.0741 - accuracy: 1.0000 - val_loss: 0.0744 - val_accuracy: 1.0000\n",
      "Epoch 92/200\n",
      "2302/2302 [==============================] - 0s 77us/step - loss: 0.0724 - accuracy: 1.0000 - val_loss: 0.0728 - val_accuracy: 1.0000\n",
      "Epoch 93/200\n",
      "2302/2302 [==============================] - 0s 77us/step - loss: 0.0708 - accuracy: 1.0000 - val_loss: 0.0712 - val_accuracy: 1.0000\n",
      "Epoch 94/200\n",
      "2302/2302 [==============================] - 0s 78us/step - loss: 0.0692 - accuracy: 1.0000 - val_loss: 0.0696 - val_accuracy: 1.0000\n",
      "Epoch 95/200\n",
      "2302/2302 [==============================] - 0s 78us/step - loss: 0.0677 - accuracy: 1.0000 - val_loss: 0.0680 - val_accuracy: 1.0000\n",
      "Epoch 96/200\n",
      "2302/2302 [==============================] - 0s 78us/step - loss: 0.0662 - accuracy: 1.0000 - val_loss: 0.0665 - val_accuracy: 1.0000\n",
      "Epoch 97/200\n",
      "2302/2302 [==============================] - 0s 78us/step - loss: 0.0647 - accuracy: 1.0000 - val_loss: 0.0651 - val_accuracy: 1.0000\n",
      "Epoch 98/200\n",
      "2302/2302 [==============================] - 0s 80us/step - loss: 0.0633 - accuracy: 1.0000 - val_loss: 0.0636 - val_accuracy: 1.0000\n",
      "Epoch 99/200\n",
      "2302/2302 [==============================] - 0s 77us/step - loss: 0.0619 - accuracy: 1.0000 - val_loss: 0.0622 - val_accuracy: 1.0000\n",
      "Epoch 100/200\n",
      "2302/2302 [==============================] - 0s 78us/step - loss: 0.0605 - accuracy: 1.0000 - val_loss: 0.0609 - val_accuracy: 1.0000\n",
      "Epoch 101/200\n",
      "2302/2302 [==============================] - 0s 77us/step - loss: 0.0591 - accuracy: 1.0000 - val_loss: 0.0595 - val_accuracy: 1.0000\n",
      "Epoch 102/200\n",
      "2302/2302 [==============================] - 0s 78us/step - loss: 0.0578 - accuracy: 1.0000 - val_loss: 0.0582 - val_accuracy: 1.0000\n",
      "Epoch 103/200\n",
      "2302/2302 [==============================] - 0s 82us/step - loss: 0.0565 - accuracy: 1.0000 - val_loss: 0.0569 - val_accuracy: 1.0000\n",
      "Epoch 104/200\n",
      "2302/2302 [==============================] - 0s 78us/step - loss: 0.0553 - accuracy: 1.0000 - val_loss: 0.0557 - val_accuracy: 1.0000\n",
      "Epoch 105/200\n",
      "2302/2302 [==============================] - 0s 77us/step - loss: 0.0541 - accuracy: 1.0000 - val_loss: 0.0545 - val_accuracy: 1.0000\n",
      "Epoch 106/200\n",
      "2302/2302 [==============================] - 0s 78us/step - loss: 0.0529 - accuracy: 1.0000 - val_loss: 0.0533 - val_accuracy: 1.0000\n",
      "Epoch 107/200\n",
      "2302/2302 [==============================] - 0s 77us/step - loss: 0.0517 - accuracy: 1.0000 - val_loss: 0.0521 - val_accuracy: 1.0000\n",
      "Epoch 108/200\n",
      "2302/2302 [==============================] - 0s 78us/step - loss: 0.0506 - accuracy: 1.0000 - val_loss: 0.0510 - val_accuracy: 1.0000\n",
      "Epoch 109/200\n",
      "2302/2302 [==============================] - 0s 77us/step - loss: 0.0494 - accuracy: 1.0000 - val_loss: 0.0499 - val_accuracy: 1.0000\n",
      "Epoch 110/200\n",
      "2302/2302 [==============================] - 0s 78us/step - loss: 0.0484 - accuracy: 1.0000 - val_loss: 0.0488 - val_accuracy: 1.0000\n",
      "Epoch 111/200\n",
      "2302/2302 [==============================] - 0s 76us/step - loss: 0.0473 - accuracy: 1.0000 - val_loss: 0.0477 - val_accuracy: 1.0000\n"
     ]
    },
    {
     "name": "stdout",
     "output_type": "stream",
     "text": [
      "Epoch 112/200\n",
      "2302/2302 [==============================] - 0s 78us/step - loss: 0.0462 - accuracy: 1.0000 - val_loss: 0.0467 - val_accuracy: 1.0000\n",
      "Epoch 113/200\n",
      "2302/2302 [==============================] - 0s 77us/step - loss: 0.0452 - accuracy: 1.0000 - val_loss: 0.0457 - val_accuracy: 1.0000\n",
      "Epoch 114/200\n",
      "2302/2302 [==============================] - 0s 81us/step - loss: 0.0442 - accuracy: 1.0000 - val_loss: 0.0447 - val_accuracy: 1.0000\n",
      "Epoch 115/200\n",
      "2302/2302 [==============================] - 0s 79us/step - loss: 0.0433 - accuracy: 1.0000 - val_loss: 0.0437 - val_accuracy: 1.0000\n",
      "Epoch 116/200\n",
      "2302/2302 [==============================] - 0s 77us/step - loss: 0.0423 - accuracy: 1.0000 - val_loss: 0.0428 - val_accuracy: 1.0000\n",
      "Epoch 117/200\n",
      "2302/2302 [==============================] - 0s 77us/step - loss: 0.0414 - accuracy: 1.0000 - val_loss: 0.0418 - val_accuracy: 1.0000\n",
      "Epoch 118/200\n",
      "2302/2302 [==============================] - 0s 77us/step - loss: 0.0405 - accuracy: 1.0000 - val_loss: 0.0409 - val_accuracy: 1.0000\n",
      "Epoch 119/200\n",
      "2302/2302 [==============================] - 0s 78us/step - loss: 0.0396 - accuracy: 1.0000 - val_loss: 0.0400 - val_accuracy: 1.0000\n",
      "Epoch 120/200\n",
      "2302/2302 [==============================] - 0s 77us/step - loss: 0.0387 - accuracy: 1.0000 - val_loss: 0.0392 - val_accuracy: 1.0000\n",
      "Epoch 121/200\n",
      "2302/2302 [==============================] - 0s 77us/step - loss: 0.0379 - accuracy: 1.0000 - val_loss: 0.0383 - val_accuracy: 1.0000\n",
      "Epoch 122/200\n",
      "2302/2302 [==============================] - 0s 79us/step - loss: 0.0371 - accuracy: 1.0000 - val_loss: 0.0375 - val_accuracy: 1.0000\n",
      "Epoch 123/200\n",
      "2302/2302 [==============================] - 0s 76us/step - loss: 0.0363 - accuracy: 1.0000 - val_loss: 0.0367 - val_accuracy: 1.0000\n",
      "Epoch 124/200\n",
      "2302/2302 [==============================] - 0s 77us/step - loss: 0.0355 - accuracy: 1.0000 - val_loss: 0.0359 - val_accuracy: 1.0000\n",
      "Epoch 125/200\n",
      "2302/2302 [==============================] - 0s 79us/step - loss: 0.0347 - accuracy: 1.0000 - val_loss: 0.0351 - val_accuracy: 1.0000\n",
      "Epoch 126/200\n",
      "2302/2302 [==============================] - 0s 77us/step - loss: 0.0339 - accuracy: 1.0000 - val_loss: 0.0344 - val_accuracy: 1.0000\n",
      "Epoch 127/200\n",
      "2302/2302 [==============================] - 0s 78us/step - loss: 0.0332 - accuracy: 1.0000 - val_loss: 0.0336 - val_accuracy: 1.0000\n",
      "Epoch 128/200\n",
      "2302/2302 [==============================] - 0s 77us/step - loss: 0.0325 - accuracy: 1.0000 - val_loss: 0.0329 - val_accuracy: 1.0000\n",
      "Epoch 129/200\n",
      "2302/2302 [==============================] - 0s 77us/step - loss: 0.0318 - accuracy: 1.0000 - val_loss: 0.0322 - val_accuracy: 1.0000\n",
      "Epoch 130/200\n",
      "2302/2302 [==============================] - 0s 77us/step - loss: 0.0311 - accuracy: 1.0000 - val_loss: 0.0315 - val_accuracy: 1.0000\n",
      "Epoch 131/200\n",
      "2302/2302 [==============================] - 0s 80us/step - loss: 0.0304 - accuracy: 1.0000 - val_loss: 0.0309 - val_accuracy: 1.0000\n",
      "Epoch 132/200\n",
      "2302/2302 [==============================] - 0s 78us/step - loss: 0.0298 - accuracy: 1.0000 - val_loss: 0.0302 - val_accuracy: 1.0000\n",
      "Epoch 133/200\n",
      "2302/2302 [==============================] - 0s 78us/step - loss: 0.0291 - accuracy: 1.0000 - val_loss: 0.0296 - val_accuracy: 1.0000\n",
      "Epoch 134/200\n",
      "2302/2302 [==============================] - 0s 78us/step - loss: 0.0285 - accuracy: 1.0000 - val_loss: 0.0289 - val_accuracy: 1.0000\n",
      "Epoch 135/200\n",
      "2302/2302 [==============================] - 0s 76us/step - loss: 0.0279 - accuracy: 1.0000 - val_loss: 0.0283 - val_accuracy: 1.0000\n",
      "Epoch 136/200\n",
      "2302/2302 [==============================] - 0s 78us/step - loss: 0.0273 - accuracy: 1.0000 - val_loss: 0.0277 - val_accuracy: 1.0000\n",
      "Epoch 137/200\n",
      "2302/2302 [==============================] - 0s 79us/step - loss: 0.0267 - accuracy: 1.0000 - val_loss: 0.0271 - val_accuracy: 1.0000\n",
      "Epoch 138/200\n",
      "2302/2302 [==============================] - 0s 77us/step - loss: 0.0261 - accuracy: 1.0000 - val_loss: 0.0265 - val_accuracy: 1.0000\n",
      "Epoch 139/200\n",
      "2302/2302 [==============================] - 0s 78us/step - loss: 0.0256 - accuracy: 1.0000 - val_loss: 0.0260 - val_accuracy: 1.0000\n",
      "Epoch 140/200\n",
      "2302/2302 [==============================] - 0s 78us/step - loss: 0.0250 - accuracy: 1.0000 - val_loss: 0.0254 - val_accuracy: 1.0000\n",
      "Epoch 141/200\n",
      "2302/2302 [==============================] - 0s 78us/step - loss: 0.0245 - accuracy: 1.0000 - val_loss: 0.0249 - val_accuracy: 1.0000\n",
      "Epoch 142/200\n",
      "2302/2302 [==============================] - 0s 81us/step - loss: 0.0240 - accuracy: 1.0000 - val_loss: 0.0244 - val_accuracy: 1.0000\n",
      "Epoch 143/200\n",
      "2302/2302 [==============================] - 0s 81us/step - loss: 0.0234 - accuracy: 1.0000 - val_loss: 0.0239 - val_accuracy: 1.0000\n",
      "Epoch 144/200\n",
      "2302/2302 [==============================] - 0s 79us/step - loss: 0.0229 - accuracy: 1.0000 - val_loss: 0.0234 - val_accuracy: 1.0000\n",
      "Epoch 145/200\n",
      "2302/2302 [==============================] - 0s 77us/step - loss: 0.0224 - accuracy: 1.0000 - val_loss: 0.0229 - val_accuracy: 1.0000\n",
      "Epoch 146/200\n",
      "2302/2302 [==============================] - 0s 78us/step - loss: 0.0220 - accuracy: 1.0000 - val_loss: 0.0224 - val_accuracy: 1.0000\n",
      "Epoch 147/200\n",
      "2302/2302 [==============================] - 0s 77us/step - loss: 0.0215 - accuracy: 1.0000 - val_loss: 0.0219 - val_accuracy: 1.0000\n",
      "Epoch 148/200\n",
      "2302/2302 [==============================] - 0s 78us/step - loss: 0.0210 - accuracy: 1.0000 - val_loss: 0.0214 - val_accuracy: 1.0000\n",
      "Epoch 149/200\n",
      "2302/2302 [==============================] - 0s 78us/step - loss: 0.0206 - accuracy: 1.0000 - val_loss: 0.0210 - val_accuracy: 1.0000\n",
      "Epoch 150/200\n",
      "2302/2302 [==============================] - 0s 78us/step - loss: 0.0202 - accuracy: 1.0000 - val_loss: 0.0206 - val_accuracy: 1.0000\n",
      "Epoch 151/200\n",
      "2302/2302 [==============================] - 0s 77us/step - loss: 0.0197 - accuracy: 1.0000 - val_loss: 0.0201 - val_accuracy: 1.0000\n",
      "Epoch 152/200\n",
      "2302/2302 [==============================] - 0s 77us/step - loss: 0.0193 - accuracy: 1.0000 - val_loss: 0.0197 - val_accuracy: 1.0000\n",
      "Epoch 153/200\n",
      "2302/2302 [==============================] - 0s 80us/step - loss: 0.0189 - accuracy: 1.0000 - val_loss: 0.0193 - val_accuracy: 1.0000\n",
      "Epoch 154/200\n",
      "2302/2302 [==============================] - 0s 81us/step - loss: 0.0185 - accuracy: 1.0000 - val_loss: 0.0189 - val_accuracy: 1.0000\n",
      "Epoch 155/200\n",
      "2302/2302 [==============================] - 0s 77us/step - loss: 0.0181 - accuracy: 1.0000 - val_loss: 0.0185 - val_accuracy: 1.0000\n",
      "Epoch 156/200\n",
      "2302/2302 [==============================] - 0s 77us/step - loss: 0.0177 - accuracy: 1.0000 - val_loss: 0.0181 - val_accuracy: 1.0000\n",
      "Epoch 157/200\n",
      "2302/2302 [==============================] - 0s 77us/step - loss: 0.0174 - accuracy: 1.0000 - val_loss: 0.0177 - val_accuracy: 1.0000\n",
      "Epoch 158/200\n",
      "2302/2302 [==============================] - 0s 83us/step - loss: 0.0170 - accuracy: 1.0000 - val_loss: 0.0174 - val_accuracy: 1.0000\n",
      "Epoch 159/200\n",
      "2302/2302 [==============================] - 0s 78us/step - loss: 0.0166 - accuracy: 1.0000 - val_loss: 0.0170 - val_accuracy: 1.0000\n",
      "Epoch 160/200\n",
      "2302/2302 [==============================] - 0s 78us/step - loss: 0.0163 - accuracy: 1.0000 - val_loss: 0.0167 - val_accuracy: 1.0000\n",
      "Epoch 161/200\n",
      "2302/2302 [==============================] - 0s 77us/step - loss: 0.0159 - accuracy: 1.0000 - val_loss: 0.0163 - val_accuracy: 1.0000\n",
      "Epoch 162/200\n",
      "2302/2302 [==============================] - 0s 77us/step - loss: 0.0156 - accuracy: 1.0000 - val_loss: 0.0160 - val_accuracy: 1.0000\n",
      "Epoch 163/200\n",
      "2302/2302 [==============================] - 0s 77us/step - loss: 0.0153 - accuracy: 1.0000 - val_loss: 0.0156 - val_accuracy: 1.0000\n",
      "Epoch 164/200\n",
      "2302/2302 [==============================] - 0s 77us/step - loss: 0.0150 - accuracy: 1.0000 - val_loss: 0.0153 - val_accuracy: 1.0000\n",
      "Epoch 165/200\n",
      "2302/2302 [==============================] - 0s 78us/step - loss: 0.0146 - accuracy: 1.0000 - val_loss: 0.0150 - val_accuracy: 1.0000\n",
      "Epoch 166/200\n",
      "2302/2302 [==============================] - 0s 78us/step - loss: 0.0143 - accuracy: 1.0000 - val_loss: 0.0147 - val_accuracy: 1.0000\n",
      "Epoch 167/200\n"
     ]
    },
    {
     "name": "stdout",
     "output_type": "stream",
     "text": [
      "2302/2302 [==============================] - 0s 78us/step - loss: 0.0140 - accuracy: 1.0000 - val_loss: 0.0144 - val_accuracy: 1.0000\n",
      "Epoch 168/200\n",
      "2302/2302 [==============================] - 0s 78us/step - loss: 0.0137 - accuracy: 1.0000 - val_loss: 0.0141 - val_accuracy: 1.0000\n",
      "Epoch 169/200\n",
      "2302/2302 [==============================] - 0s 78us/step - loss: 0.0135 - accuracy: 1.0000 - val_loss: 0.0138 - val_accuracy: 1.0000\n",
      "Epoch 170/200\n",
      "2302/2302 [==============================] - 0s 80us/step - loss: 0.0132 - accuracy: 1.0000 - val_loss: 0.0135 - val_accuracy: 1.0000\n",
      "Epoch 171/200\n",
      "2302/2302 [==============================] - 0s 77us/step - loss: 0.0129 - accuracy: 1.0000 - val_loss: 0.0133 - val_accuracy: 1.0000\n",
      "Epoch 172/200\n",
      "2302/2302 [==============================] - 0s 77us/step - loss: 0.0126 - accuracy: 1.0000 - val_loss: 0.0130 - val_accuracy: 1.0000\n",
      "Epoch 173/200\n",
      "2302/2302 [==============================] - 0s 77us/step - loss: 0.0124 - accuracy: 1.0000 - val_loss: 0.0127 - val_accuracy: 1.0000\n",
      "Epoch 174/200\n",
      "2302/2302 [==============================] - 0s 77us/step - loss: 0.0121 - accuracy: 1.0000 - val_loss: 0.0125 - val_accuracy: 1.0000\n",
      "Epoch 175/200\n",
      "2302/2302 [==============================] - 0s 77us/step - loss: 0.0119 - accuracy: 1.0000 - val_loss: 0.0122 - val_accuracy: 1.0000\n",
      "Epoch 176/200\n",
      "2302/2302 [==============================] - 0s 77us/step - loss: 0.0116 - accuracy: 1.0000 - val_loss: 0.0120 - val_accuracy: 1.0000\n",
      "Epoch 177/200\n",
      "2302/2302 [==============================] - 0s 78us/step - loss: 0.0114 - accuracy: 1.0000 - val_loss: 0.0117 - val_accuracy: 1.0000\n",
      "Epoch 178/200\n",
      "2302/2302 [==============================] - 0s 77us/step - loss: 0.0111 - accuracy: 1.0000 - val_loss: 0.0115 - val_accuracy: 1.0000\n",
      "Epoch 179/200\n",
      "2302/2302 [==============================] - 0s 77us/step - loss: 0.0109 - accuracy: 1.0000 - val_loss: 0.0112 - val_accuracy: 1.0000\n",
      "Epoch 180/200\n",
      "2302/2302 [==============================] - 0s 78us/step - loss: 0.0107 - accuracy: 1.0000 - val_loss: 0.0110 - val_accuracy: 1.0000\n",
      "Epoch 181/200\n",
      "2302/2302 [==============================] - 0s 83us/step - loss: 0.0105 - accuracy: 1.0000 - val_loss: 0.0108 - val_accuracy: 1.0000\n",
      "Epoch 182/200\n",
      "2302/2302 [==============================] - 0s 78us/step - loss: 0.0103 - accuracy: 1.0000 - val_loss: 0.0106 - val_accuracy: 1.0000\n",
      "Epoch 183/200\n",
      "2302/2302 [==============================] - 0s 78us/step - loss: 0.0100 - accuracy: 1.0000 - val_loss: 0.0104 - val_accuracy: 1.0000\n",
      "Epoch 184/200\n",
      "2302/2302 [==============================] - 0s 78us/step - loss: 0.0098 - accuracy: 1.0000 - val_loss: 0.0102 - val_accuracy: 1.0000\n",
      "Epoch 185/200\n",
      "2302/2302 [==============================] - 0s 78us/step - loss: 0.0096 - accuracy: 1.0000 - val_loss: 0.0099 - val_accuracy: 1.0000\n",
      "Epoch 186/200\n",
      "2302/2302 [==============================] - 0s 81us/step - loss: 0.0094 - accuracy: 1.0000 - val_loss: 0.0097 - val_accuracy: 1.0000\n",
      "Epoch 187/200\n",
      "2302/2302 [==============================] - 0s 78us/step - loss: 0.0092 - accuracy: 1.0000 - val_loss: 0.0096 - val_accuracy: 1.0000\n",
      "Epoch 188/200\n",
      "2302/2302 [==============================] - 0s 77us/step - loss: 0.0091 - accuracy: 1.0000 - val_loss: 0.0094 - val_accuracy: 1.0000\n",
      "Epoch 189/200\n",
      "2302/2302 [==============================] - 0s 77us/step - loss: 0.0089 - accuracy: 1.0000 - val_loss: 0.0092 - val_accuracy: 1.0000\n",
      "Epoch 190/200\n",
      "2302/2302 [==============================] - 0s 77us/step - loss: 0.0087 - accuracy: 1.0000 - val_loss: 0.0090 - val_accuracy: 1.0000\n",
      "Epoch 191/200\n",
      "2302/2302 [==============================] - 0s 78us/step - loss: 0.0085 - accuracy: 1.0000 - val_loss: 0.0088 - val_accuracy: 1.0000\n",
      "Epoch 192/200\n",
      "2302/2302 [==============================] - 0s 78us/step - loss: 0.0083 - accuracy: 1.0000 - val_loss: 0.0086 - val_accuracy: 1.0000\n",
      "Epoch 193/200\n",
      "2302/2302 [==============================] - 0s 77us/step - loss: 0.0082 - accuracy: 1.0000 - val_loss: 0.0085 - val_accuracy: 1.0000\n",
      "Epoch 194/200\n",
      "2302/2302 [==============================] - 0s 79us/step - loss: 0.0080 - accuracy: 1.0000 - val_loss: 0.0083 - val_accuracy: 1.0000\n",
      "Epoch 195/200\n",
      "2302/2302 [==============================] - 0s 77us/step - loss: 0.0078 - accuracy: 1.0000 - val_loss: 0.0081 - val_accuracy: 1.0000\n",
      "Epoch 196/200\n",
      "2302/2302 [==============================] - 0s 77us/step - loss: 0.0077 - accuracy: 1.0000 - val_loss: 0.0080 - val_accuracy: 1.0000\n",
      "Epoch 197/200\n",
      "2302/2302 [==============================] - 0s 79us/step - loss: 0.0075 - accuracy: 1.0000 - val_loss: 0.0078 - val_accuracy: 1.0000\n",
      "Epoch 198/200\n",
      "2302/2302 [==============================] - 0s 78us/step - loss: 0.0074 - accuracy: 1.0000 - val_loss: 0.0077 - val_accuracy: 1.0000\n",
      "Epoch 199/200\n",
      "2302/2302 [==============================] - 0s 78us/step - loss: 0.0072 - accuracy: 1.0000 - val_loss: 0.0075 - val_accuracy: 1.0000\n",
      "Epoch 200/200\n",
      "2302/2302 [==============================] - 0s 77us/step - loss: 0.0071 - accuracy: 1.0000 - val_loss: 0.0074 - val_accuracy: 1.0000\n"
     ]
    },
    {
     "data": {
      "text/plain": [
       "<keras.callbacks.callbacks.History at 0x7fb1d7082910>"
      ]
     },
     "execution_count": 1420,
     "metadata": {},
     "output_type": "execute_result"
    }
   ],
   "source": [
    "classifyer = make_classifyer(1)\n",
    "classifyer.compile(optimizer='Adam', loss='binary_crossentropy',metrics=['accuracy'])\n",
    "classifyer.fit(X,Y,epochs=200,validation_split=0.2)"
   ]
  },
  {
   "cell_type": "code",
   "execution_count": 1349,
   "metadata": {},
   "outputs": [
    {
     "data": {
      "image/png": "[encoded data removed]",
      "text/plain": [
       "<Figure size 432x288 with 1 Axes>"
      ]
     },
     "metadata": {
      "needs_background": "light"
     },
     "output_type": "display_data"
    }
   ],
   "source": [
    "plt.plot(classifyer.history.history['loss'])\n",
    "plt.yscale('log')"
   ]
  },
  {
   "cell_type": "code",
   "execution_count": 17,
   "metadata": {},
   "outputs": [],
   "source": [
    "files=['cw.txt']\n",
    "raw_test_text=\"\"\n",
    "for filename in files:\n",
    "    with open(filename,'r') as file:\n",
    "        raw_test_text+=file.read().replace('\\n', ' ')\n",
    "processed_test_text = alphabetize(raw_test_text)\n",
    "test_text_nospace = \"\".join(processed_test_text.split())"
   ]
  },
  {
   "cell_type": "code",
   "execution_count": 18,
   "metadata": {},
   "outputs": [],
   "source": [
    "test_string =test_text_nospace[2700:2700+1024]"
   ]
  },
  {
   "cell_type": "code",
   "execution_count": 19,
   "metadata": {},
   "outputs": [],
   "source": [
    "test_key = random.sample(letters,26)"
   ]
  },
  {
   "cell_type": "code",
   "execution_count": 20,
   "metadata": {},
   "outputs": [
    {
     "name": "stdout",
     "output_type": "stream",
     "text": [
      "cxdtbmcaqbosovcnpqggqbmojbuszpcbovtboqbmpqovovcwtamcnnsbnvccnkszocagsddqcjbajdqkcovcwtamcnajtmvocznsbdsbmopqdqmvoszcjzdigszbqbmzjgldcnsbpqbozibqmvonvcdjijoovcwtamcnrccolcrszcovczsjzqbmdqlzjzirqzcvckjzzqcaovcwtamcnmzjbansbnsbvqnljkuszzsddcaovcgqbovcmzjnnjbamtjzacaovcqzrssonocxnovzstmvpqdajahcbotzcnaspbosovcrstbojqbqbovcnojldcijzajbachcblcisbapvczcovcxjaaskunpczcjbaovclczzixjokvcnjgsbmovcoczzqcznvcnojducaqgxczqstndijbaossonjbainjlcdvctooczdiqmbszcarszvcpjnuqbmuqbmshczjddkzccxqbmkzjpdqbmrdiqbmovqbmnsrwtamcgqddcznxdjkcvtgjbnqbkdtacavqnrjovczcdgsjvtmcnolczbjzavjalccbovcwtamcnqbncxjzjldcksgxjbqsbjbaltkulqarjqzosrsddspqbovcpjisrvqnrjovczvcpjnbsonsdjzmcvcpcqmvcasbdisbcvtbazcajbarszoixstbanrszvqngsovcznvcxvjalccbjnksokvnvcxvczaasmbchczovcdcnnsbcvtbazcajbarszoixstbanospvqkvpjnjaacaovcaqmbqoiovjoksgcnsrmssadqhqbmjbatbqhcznjdzcnxckocbjldcavqgoskjzzivqgncdrqbzqmvozsijdrjnvqsbatzqbmovcrstzicjznnqbkcvqnxtxxivssavcvjadqhcaovcdqrcsrjnjocajzqnoskzjovcvjajrqbcxzqacqbvqgncdrpjnchcbjozqrdccmsoqnoqkjdjnkstbozimcbodcgcbnsgcoqgcnlck\n"
     ]
    }
   ],
   "source": [
    "test_string_encrypted = \"\".join([dict(zip(letters,test_key))[a] for a in test_string])\n",
    "print(test_string_encrypted)"
   ]
  },
  {
   "cell_type": "code",
   "execution_count": 1421,
   "metadata": {},
   "outputs": [
    {
     "name": "stdout",
     "output_type": "stream",
     "text": [
      "0.008313239\n",
      "0.98504084\n"
     ]
    }
   ],
   "source": [
    "print(classifyer.predict(np.array(get_threegram_frequencies(test_string)).reshape((1,-1)))[0,0])\n",
    "print(classifyer.predict(np.array(get_threegram_frequencies(test_string_encrypted)).reshape((1,-1)))[0,0])"
   ]
  },
  {
   "cell_type": "code",
   "execution_count": 52,
   "metadata": {},
   "outputs": [],
   "source": [
    "def decrypt(encrypted_string, n_iter=10, n_flips=1000, lstm=False):\n",
    "    scores = []\n",
    "    attempted_strings = []\n",
    "    for k in range(n_iter):\n",
    "        current_string = encrypted_string\n",
    "        if lstm==False: current_score = 2.-np.sum(np.abs(get_threegram_frequencies(current_string)-theoretical_frequencies))#classifyer.predict(np.array(get_threegram_frequencies(current_string)).reshape((1,-1)))[0,0]\n",
    "       # else: current_score = lstm_classifyer.predict(to_categorical(vectorize(current_string),num_classes=26).reshape((1,256,26)))[0,0]\n",
    "\n",
    "    \n",
    "        for i in range(n_flips):\n",
    "        #random.seed()\n",
    "            flip_a, flip_b = random.sample(letters,2)\n",
    "            candidate_string = current_string.replace(flip_a, flip_b.upper()).replace(flip_b,flip_a.upper()).lower()\n",
    "            if lstm==False: candidate_score = 2.-np.sum(np.abs(get_threegram_frequencies(candidate_string)-theoretical_frequencies))#classifyer.predict(np.array(get_threegram_frequencies(candidate_string)).reshape((1,-1)))[0,0]\n",
    "           # else: candidate_score = lstm_classifyer.predict(to_categorical(vectorize(candidate_string),num_classes=26).reshape((1,256,26)))[0,0]\n",
    "            if candidate_score > current_score:\n",
    "                current_string = candidate_string\n",
    "                current_score = candidate_score\n",
    "     \n",
    "        #if i%100 == 0: print(i)\n",
    "            scores.append(current_score)\n",
    "        print(f\"Iteration {k+1} of {n_iter}. Score:{1-current_score}\")\n",
    "        attempted_strings.append(current_string)\n",
    "    return attempted_strings[np.argmax(scores)//n_flips], np.max(scores)"
   ]
  },
  {
   "cell_type": "code",
   "execution_count": 53,
   "metadata": {},
   "outputs": [
    {
     "name": "stdout",
     "output_type": "stream",
     "text": [
      "Iteration 1 of 5. Score:0.3539227090248436\n",
      "Iteration 2 of 5. Score:0.19553213985346618\n",
      "Iteration 3 of 5. Score:0.641272916087829\n",
      "Iteration 4 of 5. Score:0.19553213985346618\n",
      "Iteration 5 of 5. Score:0.19553213985346618\n"
     ]
    }
   ],
   "source": [
    "attempt, scores = decrypt(test_string_encrypted,n_iter=5,n_flips=3000,lstm=False)"
   ]
  },
  {
   "cell_type": "code",
   "execution_count": 54,
   "metadata": {},
   "outputs": [
    {
     "data": {
      "text/plain": [
       "(0.994140625, array(['q'], dtype='<U1'))"
      ]
     },
     "execution_count": 54,
     "metadata": {},
     "output_type": "execute_result"
    }
   ],
   "source": [
    "string_accuracy(attempt,test_string)"
   ]
  },
  {
   "cell_type": "code",
   "execution_count": 21,
   "metadata": {},
   "outputs": [],
   "source": [
    "class IndividualKey:\n",
    "    \n",
    "    def __init__(self, parent1=None, parent2=None, pivot_point=None):\n",
    "        \n",
    "        if parent1 is None: parent1 = np.random.permutation(26)\n",
    "        if parent2 is None: parent2 = np.random.permutation(26)\n",
    "        if pivot_point is None: pivot_point = np.random.randint(25)     \n",
    "        \n",
    "        self.key = np.zeros(26, dtype='int')\n",
    "\n",
    "        parent1_contribution = np.copy(parent1[:pivot_point])\n",
    "        parent2_contribution = np.copy(parent2[pivot_point:])\n",
    "        fillers = list(set(np.arange(26))-set(parent1_contribution)-set(parent2_contribution))\n",
    "        \n",
    "        for i, element in enumerate(parent2_contribution):\n",
    "            if element in parent1_contribution:\n",
    "                parent2_contribution[i] = fillers.pop()\n",
    "\n",
    "        self.key[:pivot_point] = parent1_contribution\n",
    "        self.key[pivot_point:] = parent2_contribution\n",
    "        \n",
    "        assert len(np.unique(self.key))==26\n",
    "\n",
    "    \n",
    "    def mutate(self):\n",
    "        c1, c2 = np.random.choice(26, 2, replace=False)\n",
    "        self.key[c1], self.key[c2] = self.key[c2], self.key[c1]\n",
    "    \n",
    "    def decrypt(self, text):\n",
    "        plaintext = \"\".join([n_to_char[self.key[char_to_n[a]]] for a in alphabetize(text)])\n",
    "        return plaintext"
   ]
  },
  {
   "cell_type": "code",
   "execution_count": 22,
   "metadata": {},
   "outputs": [],
   "source": [
    "def fitness(key, encrypted_text):\n",
    "    plaintext = key.decrypt(encrypted_text)\n",
    "    frequencies = np.array(get_threegram_frequencies(plaintext)).reshape((1,-1))\n",
    "    #return 1.-classifyer.predict(frequencies)[0,0]\n",
    "    return 2.-np.sum(np.abs(frequencies-theoretical_frequencies))#21.-frequencies.dot(logfreqs)[0]"
   ]
  },
  {
   "cell_type": "code",
   "execution_count": 90,
   "metadata": {
    "scrolled": true
   },
   "outputs": [],
   "source": [
    "def run_genetics(n_keys=20, n_generations=1501, mutation_rate=0.01, crossover_rate=0.9, verbose=True):\n",
    "    population = []\n",
    "    fitnesses = np.zeros(n_keys)\n",
    "\n",
    "    best_fitnesses = []\n",
    "\n",
    "    encrypted_text = test_string_encrypted\n",
    "\n",
    "    for i in range(n_keys):\n",
    "        population.append(IndividualKey())\n",
    "        fitnesses[i]=fitness(population[-1], encrypted_text)\n",
    "        #print(population[i].key)\n",
    "    for generation in range(n_generations):\n",
    "        children = []\n",
    "        child_fitnesses = []\n",
    "\n",
    "        #Make and process enough children\n",
    "        for i in range(n_keys//2):\n",
    "\n",
    "            pivot_point = np.random.randint(25)\n",
    "\n",
    "            #Selection: pick parents\n",
    "            if np.sum(fitnesses)>0:\n",
    "                weights = fitnesses\n",
    "                weights = weights/np.sum(weights)\n",
    "                parent1, parent2 = np.random.choice(population, 2, replace=False, p=weights)\n",
    "            else:\n",
    "                parent1, parent2 = np.random.choice(population, 2, replace=False)\n",
    "\n",
    "\n",
    "\n",
    "            #Crossover: Decide if parents reproduce over or not\n",
    "            if np.random.choice([True, False], p=[crossover_rate, 1-crossover_rate]):\n",
    "                child1 = IndividualKey(parent1.key, parent2.key, pivot_point=pivot_point)\n",
    "                child2 = IndividualKey(parent2.key, parent1.key, pivot_point=pivot_point)\n",
    "            else:\n",
    "                child1 = copy.deepcopy(parent1)\n",
    "                child2 = copy.deepcopy(parent2)\n",
    "\n",
    "\n",
    "            #Mutation: keep mutation if beneficial\n",
    "            if np.random.choice([True, False],p=[mutation_rate, 1-mutation_rate]): \n",
    "                child1_clone = copy.deepcopy(child1)\n",
    "                child1_clone.mutate()\n",
    "                if fitness(child1_clone, encrypted_text) >= fitness(child1, encrypted_text):\n",
    "                    child1 = copy.deepcopy(child1_clone)\n",
    "\n",
    "            if np.random.choice([True, False],p=[mutation_rate, 1-mutation_rate]):\n",
    "                child2_clone = copy.deepcopy(child2)\n",
    "                child2_clone.mutate()\n",
    "                if fitness(child2_clone, encrypted_text) >= fitness(child2, encrypted_text):\n",
    "                    child2 = copy.deepcopy(child2_clone)\n",
    "\n",
    "\n",
    "            children.append(child1)\n",
    "            children.append(child2)\n",
    "\n",
    "            child_fitnesses.append(fitness(child1, encrypted_text))\n",
    "            child_fitnesses.append(fitness(child2, encrypted_text))\n",
    "\n",
    "            #Move onto new generation\n",
    "        population = children\n",
    "        fitnesses = child_fitnesses\n",
    "\n",
    "        best_fitnesses.append(np.max(fitnesses))\n",
    "        #if (np.max(fitnesses)-np.min(fitnesses))/np.max(fitnesses)<0.01 and mutation_rate<0.4 and generation>100: \n",
    "        #    mutation_rate=0.5\n",
    "        #    print(\"Cancer!\")\n",
    "        if generation%100==0 and verbose==True:\n",
    "            print(f\"Generation {generation}, Average fitness: {np.mean(fitnesses):.2e}, Best fitness: {np.max(fitnesses):.2e}, Test accuracy: {string_accuracy(population[np.argmax(fitnesses)].decrypt(encrypted_text),test_string)[0]:.2e}\")\n",
    "    return best_fitnesses, population"
   ]
  },
  {
   "cell_type": "code",
   "execution_count": 146,
   "metadata": {},
   "outputs": [],
   "source": [
    "xover01=[]\n",
    "xover03=[]\n",
    "xover05=[]\n",
    "xover07=[]\n",
    "xover09=[]"
   ]
  },
  {
   "cell_type": "code",
   "execution_count": 147,
   "metadata": {},
   "outputs": [
    {
     "name": "stdout",
     "output_type": "stream",
     "text": [
      "0\n",
      "1\n",
      "2\n",
      "3\n",
      "4\n",
      "5\n",
      "6\n",
      "7\n",
      "8\n",
      "9\n",
      "10\n",
      "11\n",
      "12\n",
      "13\n",
      "14\n"
     ]
    }
   ],
   "source": [
    "for i in range(15):\n",
    "    bf01,_ = run_genetics(n_generations=1601, mutation_rate=1., crossover_rate=0.1, verbose=False)\n",
    "    bf03,_ = run_genetics(n_generations=1601, mutation_rate=1., crossover_rate=0.3, verbose=False)\n",
    "    bf05,_ = run_genetics(n_generations=1601, mutation_rate=1., crossover_rate=0.5, verbose=False)\n",
    "    bf07,_ = run_genetics(n_generations=1601, mutation_rate=1., crossover_rate=0.7, verbose=False)\n",
    "    bf09,_ = run_genetics(n_generations=1601, mutation_rate=1., crossover_rate=0.9, verbose=False)\n",
    "    xover01.append(bf01)\n",
    "    xover03.append(bf03)\n",
    "    xover05.append(bf05)\n",
    "    xover07.append(bf07)\n",
    "    xover09.append(bf09)\n",
    "    print(i)"
   ]
  },
  {
   "cell_type": "code",
   "execution_count": 114,
   "metadata": {},
   "outputs": [
    {
     "data": {
      "text/plain": [
       "<matplotlib.legend.Legend at 0x7fa0f35fccd0>"
      ]
     },
     "execution_count": 114,
     "metadata": {},
     "output_type": "execute_result"
    },
    {
     "data": {
      "image/png": "[encoded data removed]",
      "text/plain": [
       "<Figure size 432x288 with 1 Axes>"
      ]
     },
     "metadata": {
      "needs_background": "light"
     },
     "output_type": "display_data"
    }
   ],
   "source": [
    "plt.plot(np.mean(xover01,axis=0),label='0.1')\n",
    "plt.plot(np.mean(xover03,axis=0),label='0.3')\n",
    "plt.plot(np.mean(xover05,axis=0),label='0.5')\n",
    "plt.plot(np.mean(xover07,axis=0),label='0.7')\n",
    "plt.plot(np.mean(xover09,axis=0),label='0.9')\n",
    "\n",
    "plt.legend()"
   ]
  },
  {
   "cell_type": "code",
   "execution_count": 120,
   "metadata": {},
   "outputs": [
    {
     "data": {
      "text/plain": [
       "<ErrorbarContainer object of 3 artists>"
      ]
     },
     "execution_count": 120,
     "metadata": {},
     "output_type": "execute_result"
    },
    {
     "data": {
      "image/png": "[encoded data removed]",
      "text/plain": [
       "<Figure size 432x288 with 1 Axes>"
      ]
     },
     "metadata": {
      "needs_background": "light"
     },
     "output_type": "display_data"
    }
   ],
   "source": [
    "plt.errorbar(np.arange(10),2*np.arange(10),np.ones(10))"
   ]
  },
  {
   "cell_type": "code",
   "execution_count": 124,
   "metadata": {},
   "outputs": [
    {
     "data": {
      "text/plain": [
       "<ErrorbarContainer object of 3 artists>"
      ]
     },
     "execution_count": 124,
     "metadata": {},
     "output_type": "execute_result"
    },
    {
     "data": {
      "image/png": "[encoded data removed]",
      "text/plain": [
       "<Figure size 432x288 with 1 Axes>"
      ]
     },
     "metadata": {
      "needs_background": "light"
     },
     "output_type": "display_data"
    }
   ],
   "source": [
    "plt.errorbar(np.arange(801),np.mean(xover09,axis=0),np.std(xover09,axis=0))"
   ]
  },
  {
   "cell_type": "code",
   "execution_count": 145,
   "metadata": {},
   "outputs": [
    {
     "data": {
      "text/plain": [
       "[<matplotlib.lines.Line2D at 0x7fa0f089b390>]"
      ]
     },
     "execution_count": 145,
     "metadata": {},
     "output_type": "execute_result"
    },
    {
     "data": {
      "image/png": "[encoded data removed]",
      "text/plain": [
       "<Figure size 432x288 with 1 Axes>"
      ]
     },
     "metadata": {
      "needs_background": "light"
     },
     "output_type": "display_data"
    }
   ],
   "source": [
    "for a in range(25):\n",
    "    plt.plot(np.array(xover09)[a,:])\n",
    "plt.plot(np.mean(xover09,axis=0),lw=3)"
   ]
  },
  {
   "cell_type": "code",
   "execution_count": 82,
   "metadata": {},
   "outputs": [
    {
     "data": {
      "text/plain": [
       "[<matplotlib.lines.Line2D at 0x7fa0f4057610>]"
      ]
     },
     "execution_count": 82,
     "metadata": {},
     "output_type": "execute_result"
    },
    {
     "data": {
      "image/png": "[encoded data removed]",
      "text/plain": [
       "<Figure size 432x288 with 1 Axes>"
      ]
     },
     "metadata": {
      "needs_background": "light"
     },
     "output_type": "display_data"
    }
   ],
   "source": [
    "plt.plot(best_fitnesses01)\n",
    "plt.plot(bf01)\n",
    "#plt.plot(best_fitnesses05)\n",
    "#plt.plot(best_fitnesses07)\n",
    "#plt.plot(best_fitnesses09)\n",
    "\n",
    "#plt.hlines(-1./theoretical_frequencies.dot(logfreqs),0,3000)"
   ]
  },
  {
   "cell_type": "code",
   "execution_count": 76,
   "metadata": {},
   "outputs": [],
   "source": [
    "best_fitnesses01= np.copy(best_fitnesses)"
   ]
  },
  {
   "cell_type": "code",
   "execution_count": 1491,
   "metadata": {},
   "outputs": [
    {
     "data": {
      "text/plain": [
       "36.11137160888612"
      ]
     },
     "execution_count": 1491,
     "metadata": {},
     "output_type": "execute_result"
    }
   ],
   "source": [
    "fitness(k1, encrypted_text)"
   ]
  },
  {
   "cell_type": "code",
   "execution_count": 1098,
   "metadata": {},
   "outputs": [],
   "source": [
    "def ranks(array):\n",
    "    values, counts = np.unique(array, return_counts = True)\n",
    "    dictionary=dict(zip(np.array(values)[np.argsort(-counts)],range(1,len(values)+1)))\n",
    "    return np.array([dictionary[a] for a in array])"
   ]
  }
 ],
 "metadata": {
  "kernelspec": {
   "display_name": "Python 3",
   "language": "python",
   "name": "python3"
  },
  "language_info": {
   "codemirror_mode": {
    "name": "ipython",
    "version": 3
   },
   "file_extension": ".py",
   "mimetype": "text/x-python",
   "name": "python",
   "nbconvert_exporter": "python",
   "pygments_lexer": "ipython3",
   "version": "3.7.7"
  }
 },
 "nbformat": 4,
 "nbformat_minor": 2
}
