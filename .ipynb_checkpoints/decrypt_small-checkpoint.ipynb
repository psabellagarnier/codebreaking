{
 "cells": [
  {
   "cell_type": "code",
   "execution_count": 1,
   "metadata": {},
   "outputs": [
    {
     "name": "stderr",
     "output_type": "stream",
     "text": [
      "Using TensorFlow backend.\n"
     ]
    }
   ],
   "source": [
    "import numpy as np\n",
    "import matplotlib.pyplot as plt\n",
    "import decoding_functions as df\n",
    "import random, timeit, copy\n",
    "\n",
    "from keras import layers\n",
    "from keras.layers import Input, Dense, Dropout, Activation, BatchNormalization, Flatten, LSTM\n",
    "from keras.models import Model, load_model\n",
    "from keras.utils import to_categorical\n",
    "from keras.utils.vis_utils import plot_model\n",
    "from keras.optimizers import Adam\n",
    "from keras.backend import clear_session"
   ]
  },
  {
   "cell_type": "markdown",
   "metadata": {},
   "source": [
    "# Data loading and processing"
   ]
  },
  {
   "cell_type": "code",
   "execution_count": 7,
   "metadata": {},
   "outputs": [],
   "source": [
    "train_files = ['moby10b.txt','dracula.txt','totc.txt','origin.txt']#,'alice.txt','pp.txt','cw.txt']\n",
    "test_files = ['cw.txt']\n",
    "raw_train_text=\"\"\n",
    "raw_test_text=\"\"\n",
    "\n",
    "for filename in train_files:\n",
    "    with open('text/'+filename,'r') as file:\n",
    "        raw_train_text+=file.read().replace('\\n', ' ')\n",
    "processed_train_text = df.alphabetize(raw_train_text)\n",
    "train_text_nospace = \"\".join(processed_train_text.split())\n",
    "\n",
    "for filename in test_files:\n",
    "    with open('text/'+filename,'r') as file:\n",
    "        raw_test_text += file.read().replace('\\n', ' ')\n",
    "processed_test_text = df.alphabetize(raw_test_text)\n",
    "test_text_nospace = \"\".join(processed_test_text.split())"
   ]
  },
  {
   "cell_type": "code",
   "execution_count": 12,
   "metadata": {},
   "outputs": [],
   "source": [
    "def encrypt_half_text(text_size):\n",
    "    m = len(text_nospace)//text_size \n",
    "    strings =[text_nospace[text_size*(i) : text_size*(i+1)] for i in range(m)]\n",
    "\n",
    "    return_strings = []\n",
    "    keys = []\n",
    "    \n",
    "    for i in range(m//2): #Encrypt every other string, seeding with different values\n",
    "        current_string, current_key = df.jumble(strings[2*i],i)\n",
    "        return_strings.append(current_string)\n",
    "        keys.append([df.char_to_n[char] for char in current_key])\n",
    "        return_strings.append(strings[2*i+1])\n",
    "    \n",
    "    return return_strings, keys      "
   ]
  },
  {
   "cell_type": "code",
   "execution_count": 38,
   "metadata": {},
   "outputs": [
    {
     "name": "stdout",
     "output_type": "stream",
     "text": [
      "Number of training strings: 2878\n",
      " \n",
      "\n",
      "Test string, plain: eplungedintotheswimmingtankorwenthuntingwiththejudgessonsheescortedmollieandalicethejudgesdaughtersonlongtwilightorearlymorningramblesonwintrynightshelayatthejudgesfeetbeforetheroaringlibraryfirehecarriedthejudgesgrandsonsonhisbackorrolledtheminthegrassandguardedtheirfootstepsthroughwildadventuresdowntothefountaininthestableyardandevenbeyondwherethepaddockswereandtheberrypatchesamongtheterriershestalkedimperiouslyandtootsandysabelheutterlyignoredforhewaskingkingoverallcreepingcrawlingflyingthingsofjudgemillersplacehumansincludedhisfatherelmoahugestbernardhadbeenthejudgesinseparablecompanionandbuckbidfairtofollowinthewayofhisfatherhewasnotsolargeheweighedonlyonehundredandfortypoundsforhismothershephadbeenascotchshepherddogneverthelessonehundredandfortypoundstowhichwasaddedthedignitythatcomesofgoodlivinganduniversalrespectenabledhimtocarryhimselfinrightroyalfashionduringthefouryearssincehispuppyhoodhehadlivedthelifeofasatedaristocrathehadafineprideinhimselfwasevenatrifleegotisticalascountrygentlemensometimesbec\n",
      " \n",
      "\n",
      "Test string, encrypted: ierfvpibjvhchziksjddjvphmvlcwsivhzfvhjvpsjhzhzitfbpikkcvkziikncwhibdcrrjimvbmrjnihzitfbpikbmfpzhiwkcvrcvphsjrjpzhcwimwradcwvjvpwmdyrikcvsjvhwavjpzhkzirmamhhzitfbpikqiihyiqcwihziwcmwjvprjywmwaqjwizinmwwjibhzitfbpikpwmvbkcvkcvzjkymnlcwwcrribhzidjvhzipwmkkmvbpfmwbibhzijwqcchkhiekhzwcfpzsjrbmbgivhfwikbcsvhchziqcfvhmjvjvhzikhmyriamwbmvbigivyiacvbsziwihziembbcnlksiwimvbhziyiwwaemhnzikmdcvphzihiwwjiwkzikhmrlibjdeiwjcfkramvbhcchkmvbakmyirzifhhiwrajpvcwibqcwzismkljvpljvpcgiwmrrnwiiejvpnwmsrjvpqrajvphzjvpkcqtfbpidjrriwkermnizfdmvkjvnrfbibzjkqmhziwirdcmzfpikhyiwvmwbzmbyiivhzitfbpikjvkiemwmyrincdemvjcvmvbyfnlyjbqmjwhcqcrrcsjvhzismacqzjkqmhziwzismkvchkcrmwpizisijpzibcvracvizfvbwibmvbqcwhaecfvbkqcwzjkdchziwkziezmbyiivmknchnzkzieziwbbcpvigiwhzirikkcvizfvbwibmvbqcwhaecfvbkhcszjnzsmkmbbibhzibjpvjhahzmhncdikcqpccbrjgjvpmvbfvjgiwkmrwikeinhivmyribzjdhcnmwwazjdkirqjvwjpzhwcamrqmkzjcvbfwjvphziqcfwaimwkkjvnizjkefeeazccbzizmbrjgibhzirjqicqmkmhibmwjkhcnwmhzizmbmqjviewjbijvzjdkirqsmkigivmhwjqriipchjkhjnmrmkncfvhwapivhridivkcdihjdikyin\n"
     ]
    }
   ],
   "source": [
    "X_strings, _ = encrypt_half_text(1024)\n",
    "X = np.array([df.get_threegram_frequencies(string) for string in X_strings])\n",
    "X_lstm_oh = np.array([to_categorical([df.char_to_n[a] for a in string], num_classes=26) for string in X_strings])\n",
    "Y = np.array(int(len(X)/2)*[0,1]).reshape((-1,1)) #Encrypted: 0, English:1\n",
    "\n",
    "theoretical_frequencies = df.get_threegram_frequencies(text_nospace)\n",
    "\n",
    "test_string_plain = test_text_nospace[2700:2700+1024]\n",
    "test_string_encrypted, test_key = df.jumble(test_string_plain)\n",
    "\n",
    "test_frequencies_plain = df.get_threegram_frequencies(test_string_plain)\n",
    "test_frequencies_encrypted = df.get_threegram_frequencies(test_string_encrypted)\n",
    "\n",
    "print(f'Number of training strings: {len(X_strings)}\\n \\n')\n",
    "print(f'Test string, plain: {test_string_plain}\\n \\n')\n",
    "print(f'Test string, encrypted: {test_string_encrypted}')"
   ]
  },
  {
   "cell_type": "markdown",
   "metadata": {},
   "source": [
    "# Network configuration and training"
   ]
  },
  {
   "cell_type": "markdown",
   "metadata": {},
   "source": [
    "## Dense"
   ]
  },
  {
   "cell_type": "code",
   "execution_count": 17,
   "metadata": {},
   "outputs": [],
   "source": [
    "def make_classifyer(units):\n",
    "    classifyer_input = Input(shape=(26*26*26,))\n",
    "    classifyer_dense = Dense(units,activation='relu')(classifyer_input)\n",
    "    classifyer_drop = Dropout(0.4)(classifyer_dense)\n",
    "    classifyer_out = Dense(1, activation='sigmoid')(classifyer_drop)\n",
    "\n",
    "    return Model(classifyer_input, classifyer_out)"
   ]
  },
  {
   "cell_type": "code",
   "execution_count": 24,
   "metadata": {
    "scrolled": true
   },
   "outputs": [
    {
     "data": {
      "text/plain": [
       "<keras.callbacks.callbacks.History at 0x7f8bc1043550>"
      ]
     },
     "execution_count": 24,
     "metadata": {},
     "output_type": "execute_result"
    }
   ],
   "source": [
    "classifyer = make_classifyer(64)\n",
    "plot_model(classifyer, show_shapes=True)\n",
    "classifyer.compile(optimizer='Adam', loss='binary_crossentropy',metrics=['accuracy'])\n",
    "classifyer.fit(X,Y,epochs=32,validation_split=0.2, verbose=0)"
   ]
  },
  {
   "cell_type": "code",
   "execution_count": 29,
   "metadata": {},
   "outputs": [
    {
     "data": {
      "image/png": "[encoded data removed]",
      "text/plain": [
       "<Figure size 432x288 with 1 Axes>"
      ]
     },
     "metadata": {
      "needs_background": "light"
     },
     "output_type": "display_data"
    }
   ],
   "source": [
    "plt.plot(classifyer.history.history['loss'],label='Training')\n",
    "plt.plot(classifyer.history.history['val_loss'],label='Validation')\n",
    "plt.legend()\n",
    "plt.xlabel('Epoch')\n",
    "plt.ylabel('Loss')\n",
    "plt.yscale('log')"
   ]
  },
  {
   "cell_type": "code",
   "execution_count": 404,
   "metadata": {},
   "outputs": [
    {
     "name": "stdout",
     "output_type": "stream",
     "text": [
      "Output of plaintext:  0.99932325\n",
      "Output of encrypted text:  0.0002524576\n"
     ]
    }
   ],
   "source": [
    "print(\"Output of plaintext: \", classifyer.predict(test_frequencies_plain.reshape((1,-1)))[0,0])\n",
    "print(\"Output of encrypted text: \", classifyer.predict(test_frequencies_encrypted.reshape((1,-1)))[0,0])"
   ]
  },
  {
   "cell_type": "markdown",
   "metadata": {},
   "source": [
    "## LSTM"
   ]
  },
  {
   "cell_type": "code",
   "execution_count": 812,
   "metadata": {},
   "outputs": [],
   "source": [
    "def make_lstm_classifyer(units):\n",
    "    lstm_input = Input(shape=(None,26))\n",
    "    lstm_layer = LSTM(units)(lstm_input)\n",
    "    lstm_drop = Dropout(0.3)(lstm_layer)\n",
    "    lstm_layer2 = Dense(128, activation='relu')(lstm_drop)\n",
    "    lstm_out = Dense(1, activation='sigmoid')(lstm_layer2)\n",
    "    \n",
    "    return Model(lstm_input, lstm_out)    "
   ]
  },
  {
   "cell_type": "code",
   "execution_count": 1106,
   "metadata": {
    "collapsed": true
   },
   "outputs": [
    {
     "ename": "KeyboardInterrupt",
     "evalue": "",
     "output_type": "error",
     "traceback": [
      "\u001b[0;31m---------------------------------------------------------------------------\u001b[0m",
      "\u001b[0;31mInvalidArgumentError\u001b[0m                      Traceback (most recent call last)",
      "\u001b[0;32m/software/local/lib64/python3.7/site-packages/tensorflow_core/python/framework/ops.py\u001b[0m in \u001b[0;36mget_attr\u001b[0;34m(self, name)\u001b[0m\n\u001b[1;32m   2382\u001b[0m       \u001b[0;32mwith\u001b[0m \u001b[0mc_api_util\u001b[0m\u001b[0;34m.\u001b[0m\u001b[0mtf_buffer\u001b[0m\u001b[0;34m(\u001b[0m\u001b[0;34m)\u001b[0m \u001b[0;32mas\u001b[0m \u001b[0mbuf\u001b[0m\u001b[0;34m:\u001b[0m\u001b[0;34m\u001b[0m\u001b[0;34m\u001b[0m\u001b[0m\n\u001b[0;32m-> 2383\u001b[0;31m         \u001b[0mc_api\u001b[0m\u001b[0;34m.\u001b[0m\u001b[0mTF_OperationGetAttrValueProto\u001b[0m\u001b[0;34m(\u001b[0m\u001b[0mself\u001b[0m\u001b[0;34m.\u001b[0m\u001b[0m_c_op\u001b[0m\u001b[0;34m,\u001b[0m \u001b[0mname\u001b[0m\u001b[0;34m,\u001b[0m \u001b[0mbuf\u001b[0m\u001b[0;34m)\u001b[0m\u001b[0;34m\u001b[0m\u001b[0;34m\u001b[0m\u001b[0m\n\u001b[0m\u001b[1;32m   2384\u001b[0m         \u001b[0mdata\u001b[0m \u001b[0;34m=\u001b[0m \u001b[0mc_api\u001b[0m\u001b[0;34m.\u001b[0m\u001b[0mTF_GetBuffer\u001b[0m\u001b[0;34m(\u001b[0m\u001b[0mbuf\u001b[0m\u001b[0;34m)\u001b[0m\u001b[0;34m\u001b[0m\u001b[0;34m\u001b[0m\u001b[0m\n",
      "\u001b[0;31mInvalidArgumentError\u001b[0m: Operation 'dropout_25/cond' has no attr named '_XlaCompile'.",
      "\nDuring handling of the above exception, another exception occurred:\n",
      "\u001b[0;31mValueError\u001b[0m                                Traceback (most recent call last)",
      "\u001b[0;32m/software/local/lib64/python3.7/site-packages/tensorflow_core/python/ops/gradients_util.py\u001b[0m in \u001b[0;36m_MaybeCompile\u001b[0;34m(scope, op, func, grad_fn)\u001b[0m\n\u001b[1;32m    344\u001b[0m     \u001b[0;32mtry\u001b[0m\u001b[0;34m:\u001b[0m\u001b[0;34m\u001b[0m\u001b[0;34m\u001b[0m\u001b[0m\n\u001b[0;32m--> 345\u001b[0;31m       \u001b[0mxla_compile\u001b[0m \u001b[0;34m=\u001b[0m \u001b[0mop\u001b[0m\u001b[0;34m.\u001b[0m\u001b[0mget_attr\u001b[0m\u001b[0;34m(\u001b[0m\u001b[0;34m\"_XlaCompile\"\u001b[0m\u001b[0;34m)\u001b[0m\u001b[0;34m\u001b[0m\u001b[0;34m\u001b[0m\u001b[0m\n\u001b[0m\u001b[1;32m    346\u001b[0m       xla_separate_compiled_gradients = op.get_attr(\n",
      "\u001b[0;32m/software/local/lib64/python3.7/site-packages/tensorflow_core/python/framework/ops.py\u001b[0m in \u001b[0;36mget_attr\u001b[0;34m(self, name)\u001b[0m\n\u001b[1;32m   2386\u001b[0m       \u001b[0;31m# Convert to ValueError for backwards compatibility.\u001b[0m\u001b[0;34m\u001b[0m\u001b[0;34m\u001b[0m\u001b[0;34m\u001b[0m\u001b[0m\n\u001b[0;32m-> 2387\u001b[0;31m       \u001b[0;32mraise\u001b[0m \u001b[0mValueError\u001b[0m\u001b[0;34m(\u001b[0m\u001b[0mstr\u001b[0m\u001b[0;34m(\u001b[0m\u001b[0me\u001b[0m\u001b[0;34m)\u001b[0m\u001b[0;34m)\u001b[0m\u001b[0;34m\u001b[0m\u001b[0;34m\u001b[0m\u001b[0m\n\u001b[0m\u001b[1;32m   2388\u001b[0m     \u001b[0mx\u001b[0m \u001b[0;34m=\u001b[0m \u001b[0mattr_value_pb2\u001b[0m\u001b[0;34m.\u001b[0m\u001b[0mAttrValue\u001b[0m\u001b[0;34m(\u001b[0m\u001b[0;34m)\u001b[0m\u001b[0;34m\u001b[0m\u001b[0;34m\u001b[0m\u001b[0m\n",
      "\u001b[0;31mValueError\u001b[0m: Operation 'dropout_25/cond' has no attr named '_XlaCompile'.",
      "\nDuring handling of the above exception, another exception occurred:\n",
      "\u001b[0;31mKeyboardInterrupt\u001b[0m                         Traceback (most recent call last)",
      "\u001b[0;32m<ipython-input-1106-b57e1123c3df>\u001b[0m in \u001b[0;36m<module>\u001b[0;34m()\u001b[0m\n\u001b[1;32m      1\u001b[0m \u001b[0mlstm_classifyer\u001b[0m \u001b[0;34m=\u001b[0m \u001b[0mmake_lstm_classifyer\u001b[0m\u001b[0;34m(\u001b[0m\u001b[0;36m512\u001b[0m\u001b[0;34m)\u001b[0m\u001b[0;34m\u001b[0m\u001b[0;34m\u001b[0m\u001b[0m\n\u001b[1;32m      2\u001b[0m \u001b[0mlstm_classifyer\u001b[0m\u001b[0;34m.\u001b[0m\u001b[0mcompile\u001b[0m\u001b[0;34m(\u001b[0m\u001b[0moptimizer\u001b[0m\u001b[0;34m=\u001b[0m\u001b[0;34m'Adam'\u001b[0m\u001b[0;34m,\u001b[0m \u001b[0mloss\u001b[0m\u001b[0;34m=\u001b[0m\u001b[0;34m'binary_crossentropy'\u001b[0m\u001b[0;34m,\u001b[0m \u001b[0mmetrics\u001b[0m\u001b[0;34m=\u001b[0m\u001b[0;34m[\u001b[0m\u001b[0;34m'accuracy'\u001b[0m\u001b[0;34m]\u001b[0m\u001b[0;34m)\u001b[0m\u001b[0;34m\u001b[0m\u001b[0;34m\u001b[0m\u001b[0m\n\u001b[0;32m----> 3\u001b[0;31m \u001b[0mlstm_classifyer\u001b[0m\u001b[0;34m.\u001b[0m\u001b[0mfit\u001b[0m\u001b[0;34m(\u001b[0m\u001b[0mX_lstm_oh\u001b[0m\u001b[0;34m,\u001b[0m\u001b[0mY\u001b[0m\u001b[0;34m,\u001b[0m\u001b[0mepochs\u001b[0m\u001b[0;34m=\u001b[0m\u001b[0;36m10\u001b[0m\u001b[0;34m,\u001b[0m\u001b[0mvalidation_split\u001b[0m\u001b[0;34m=\u001b[0m\u001b[0;36m0.1\u001b[0m\u001b[0;34m)\u001b[0m\u001b[0;34m\u001b[0m\u001b[0;34m\u001b[0m\u001b[0m\n\u001b[0m",
      "\u001b[0;32m/software/local/lib64/python3.7/site-packages/keras/engine/training.py\u001b[0m in \u001b[0;36mfit\u001b[0;34m(self, x, y, batch_size, epochs, verbose, callbacks, validation_split, validation_data, shuffle, class_weight, sample_weight, initial_epoch, steps_per_epoch, validation_steps, validation_freq, max_queue_size, workers, use_multiprocessing, **kwargs)\u001b[0m\n\u001b[1;32m   1211\u001b[0m         \u001b[0;32melse\u001b[0m\u001b[0;34m:\u001b[0m\u001b[0;34m\u001b[0m\u001b[0;34m\u001b[0m\u001b[0m\n\u001b[1;32m   1212\u001b[0m             \u001b[0mfit_inputs\u001b[0m \u001b[0;34m=\u001b[0m \u001b[0mx\u001b[0m \u001b[0;34m+\u001b[0m \u001b[0my\u001b[0m \u001b[0;34m+\u001b[0m \u001b[0msample_weights\u001b[0m\u001b[0;34m\u001b[0m\u001b[0;34m\u001b[0m\u001b[0m\n\u001b[0;32m-> 1213\u001b[0;31m         \u001b[0mself\u001b[0m\u001b[0;34m.\u001b[0m\u001b[0m_make_train_function\u001b[0m\u001b[0;34m(\u001b[0m\u001b[0;34m)\u001b[0m\u001b[0;34m\u001b[0m\u001b[0;34m\u001b[0m\u001b[0m\n\u001b[0m\u001b[1;32m   1214\u001b[0m         \u001b[0mfit_function\u001b[0m \u001b[0;34m=\u001b[0m \u001b[0mself\u001b[0m\u001b[0;34m.\u001b[0m\u001b[0mtrain_function\u001b[0m\u001b[0;34m\u001b[0m\u001b[0;34m\u001b[0m\u001b[0m\n\u001b[1;32m   1215\u001b[0m \u001b[0;34m\u001b[0m\u001b[0m\n",
      "\u001b[0;32m/software/local/lib64/python3.7/site-packages/keras/engine/training.py\u001b[0m in \u001b[0;36m_make_train_function\u001b[0;34m(self)\u001b[0m\n\u001b[1;32m    314\u001b[0m                     training_updates = self.optimizer.get_updates(\n\u001b[1;32m    315\u001b[0m                         \u001b[0mparams\u001b[0m\u001b[0;34m=\u001b[0m\u001b[0mself\u001b[0m\u001b[0;34m.\u001b[0m\u001b[0m_collected_trainable_weights\u001b[0m\u001b[0;34m,\u001b[0m\u001b[0;34m\u001b[0m\u001b[0;34m\u001b[0m\u001b[0m\n\u001b[0;32m--> 316\u001b[0;31m                         loss=self.total_loss)\n\u001b[0m\u001b[1;32m    317\u001b[0m                 \u001b[0mupdates\u001b[0m \u001b[0;34m=\u001b[0m \u001b[0mself\u001b[0m\u001b[0;34m.\u001b[0m\u001b[0mupdates\u001b[0m \u001b[0;34m+\u001b[0m \u001b[0mtraining_updates\u001b[0m\u001b[0;34m\u001b[0m\u001b[0;34m\u001b[0m\u001b[0m\n\u001b[1;32m    318\u001b[0m \u001b[0;34m\u001b[0m\u001b[0m\n",
      "\u001b[0;32m/software/local/lib64/python3.7/site-packages/keras/legacy/interfaces.py\u001b[0m in \u001b[0;36mwrapper\u001b[0;34m(*args, **kwargs)\u001b[0m\n\u001b[1;32m     89\u001b[0m                 warnings.warn('Update your `' + object_name + '` call to the ' +\n\u001b[1;32m     90\u001b[0m                               'Keras 2 API: ' + signature, stacklevel=2)\n\u001b[0;32m---> 91\u001b[0;31m             \u001b[0;32mreturn\u001b[0m \u001b[0mfunc\u001b[0m\u001b[0;34m(\u001b[0m\u001b[0;34m*\u001b[0m\u001b[0margs\u001b[0m\u001b[0;34m,\u001b[0m \u001b[0;34m**\u001b[0m\u001b[0mkwargs\u001b[0m\u001b[0;34m)\u001b[0m\u001b[0;34m\u001b[0m\u001b[0;34m\u001b[0m\u001b[0m\n\u001b[0m\u001b[1;32m     92\u001b[0m         \u001b[0mwrapper\u001b[0m\u001b[0;34m.\u001b[0m\u001b[0m_original_function\u001b[0m \u001b[0;34m=\u001b[0m \u001b[0mfunc\u001b[0m\u001b[0;34m\u001b[0m\u001b[0;34m\u001b[0m\u001b[0m\n\u001b[1;32m     93\u001b[0m         \u001b[0;32mreturn\u001b[0m \u001b[0mwrapper\u001b[0m\u001b[0;34m\u001b[0m\u001b[0;34m\u001b[0m\u001b[0m\n",
      "\u001b[0;32m/software/local/lib64/python3.7/site-packages/keras/backend/tensorflow_backend.py\u001b[0m in \u001b[0;36msymbolic_fn_wrapper\u001b[0;34m(*args, **kwargs)\u001b[0m\n\u001b[1;32m     73\u001b[0m         \u001b[0;32mif\u001b[0m \u001b[0m_SYMBOLIC_SCOPE\u001b[0m\u001b[0;34m.\u001b[0m\u001b[0mvalue\u001b[0m\u001b[0;34m:\u001b[0m\u001b[0;34m\u001b[0m\u001b[0;34m\u001b[0m\u001b[0m\n\u001b[1;32m     74\u001b[0m             \u001b[0;32mwith\u001b[0m \u001b[0mget_graph\u001b[0m\u001b[0;34m(\u001b[0m\u001b[0;34m)\u001b[0m\u001b[0;34m.\u001b[0m\u001b[0mas_default\u001b[0m\u001b[0;34m(\u001b[0m\u001b[0;34m)\u001b[0m\u001b[0;34m:\u001b[0m\u001b[0;34m\u001b[0m\u001b[0;34m\u001b[0m\u001b[0m\n\u001b[0;32m---> 75\u001b[0;31m                 \u001b[0;32mreturn\u001b[0m \u001b[0mfunc\u001b[0m\u001b[0;34m(\u001b[0m\u001b[0;34m*\u001b[0m\u001b[0margs\u001b[0m\u001b[0;34m,\u001b[0m \u001b[0;34m**\u001b[0m\u001b[0mkwargs\u001b[0m\u001b[0;34m)\u001b[0m\u001b[0;34m\u001b[0m\u001b[0;34m\u001b[0m\u001b[0m\n\u001b[0m\u001b[1;32m     76\u001b[0m         \u001b[0;32melse\u001b[0m\u001b[0;34m:\u001b[0m\u001b[0;34m\u001b[0m\u001b[0;34m\u001b[0m\u001b[0m\n\u001b[1;32m     77\u001b[0m             \u001b[0;32mreturn\u001b[0m \u001b[0mfunc\u001b[0m\u001b[0;34m(\u001b[0m\u001b[0;34m*\u001b[0m\u001b[0margs\u001b[0m\u001b[0;34m,\u001b[0m \u001b[0;34m**\u001b[0m\u001b[0mkwargs\u001b[0m\u001b[0;34m)\u001b[0m\u001b[0;34m\u001b[0m\u001b[0;34m\u001b[0m\u001b[0m\n",
      "\u001b[0;32m/software/local/lib64/python3.7/site-packages/keras/optimizers.py\u001b[0m in \u001b[0;36mget_updates\u001b[0;34m(self, loss, params)\u001b[0m\n\u001b[1;32m    502\u001b[0m     \u001b[0;34m@\u001b[0m\u001b[0mK\u001b[0m\u001b[0;34m.\u001b[0m\u001b[0msymbolic\u001b[0m\u001b[0;34m\u001b[0m\u001b[0;34m\u001b[0m\u001b[0m\n\u001b[1;32m    503\u001b[0m     \u001b[0;32mdef\u001b[0m \u001b[0mget_updates\u001b[0m\u001b[0;34m(\u001b[0m\u001b[0mself\u001b[0m\u001b[0;34m,\u001b[0m \u001b[0mloss\u001b[0m\u001b[0;34m,\u001b[0m \u001b[0mparams\u001b[0m\u001b[0;34m)\u001b[0m\u001b[0;34m:\u001b[0m\u001b[0;34m\u001b[0m\u001b[0;34m\u001b[0m\u001b[0m\n\u001b[0;32m--> 504\u001b[0;31m         \u001b[0mgrads\u001b[0m \u001b[0;34m=\u001b[0m \u001b[0mself\u001b[0m\u001b[0;34m.\u001b[0m\u001b[0mget_gradients\u001b[0m\u001b[0;34m(\u001b[0m\u001b[0mloss\u001b[0m\u001b[0;34m,\u001b[0m \u001b[0mparams\u001b[0m\u001b[0;34m)\u001b[0m\u001b[0;34m\u001b[0m\u001b[0;34m\u001b[0m\u001b[0m\n\u001b[0m\u001b[1;32m    505\u001b[0m         \u001b[0mself\u001b[0m\u001b[0;34m.\u001b[0m\u001b[0mupdates\u001b[0m \u001b[0;34m=\u001b[0m \u001b[0;34m[\u001b[0m\u001b[0mK\u001b[0m\u001b[0;34m.\u001b[0m\u001b[0mupdate_add\u001b[0m\u001b[0;34m(\u001b[0m\u001b[0mself\u001b[0m\u001b[0;34m.\u001b[0m\u001b[0miterations\u001b[0m\u001b[0;34m,\u001b[0m \u001b[0;36m1\u001b[0m\u001b[0;34m)\u001b[0m\u001b[0;34m]\u001b[0m\u001b[0;34m\u001b[0m\u001b[0;34m\u001b[0m\u001b[0m\n\u001b[1;32m    506\u001b[0m \u001b[0;34m\u001b[0m\u001b[0m\n",
      "\u001b[0;32m/software/local/lib64/python3.7/site-packages/keras/optimizers.py\u001b[0m in \u001b[0;36mget_gradients\u001b[0;34m(self, loss, params)\u001b[0m\n\u001b[1;32m     89\u001b[0m \u001b[0;34m\u001b[0m\u001b[0m\n\u001b[1;32m     90\u001b[0m     \u001b[0;32mdef\u001b[0m \u001b[0mget_gradients\u001b[0m\u001b[0;34m(\u001b[0m\u001b[0mself\u001b[0m\u001b[0;34m,\u001b[0m \u001b[0mloss\u001b[0m\u001b[0;34m,\u001b[0m \u001b[0mparams\u001b[0m\u001b[0;34m)\u001b[0m\u001b[0;34m:\u001b[0m\u001b[0;34m\u001b[0m\u001b[0;34m\u001b[0m\u001b[0m\n\u001b[0;32m---> 91\u001b[0;31m         \u001b[0mgrads\u001b[0m \u001b[0;34m=\u001b[0m \u001b[0mK\u001b[0m\u001b[0;34m.\u001b[0m\u001b[0mgradients\u001b[0m\u001b[0;34m(\u001b[0m\u001b[0mloss\u001b[0m\u001b[0;34m,\u001b[0m \u001b[0mparams\u001b[0m\u001b[0;34m)\u001b[0m\u001b[0;34m\u001b[0m\u001b[0;34m\u001b[0m\u001b[0m\n\u001b[0m\u001b[1;32m     92\u001b[0m         \u001b[0;32mif\u001b[0m \u001b[0many\u001b[0m\u001b[0;34m(\u001b[0m\u001b[0mx\u001b[0m \u001b[0;32mis\u001b[0m \u001b[0;32mNone\u001b[0m \u001b[0;32mfor\u001b[0m \u001b[0mx\u001b[0m \u001b[0;32min\u001b[0m \u001b[0mgrads\u001b[0m\u001b[0;34m)\u001b[0m\u001b[0;34m:\u001b[0m\u001b[0;34m\u001b[0m\u001b[0;34m\u001b[0m\u001b[0m\n\u001b[1;32m     93\u001b[0m             raise ValueError('An operation has `None` for gradient. '\n",
      "\u001b[0;32m/software/local/lib64/python3.7/site-packages/keras/backend/tensorflow_backend.py\u001b[0m in \u001b[0;36msymbolic_fn_wrapper\u001b[0;34m(*args, **kwargs)\u001b[0m\n\u001b[1;32m     73\u001b[0m         \u001b[0;32mif\u001b[0m \u001b[0m_SYMBOLIC_SCOPE\u001b[0m\u001b[0;34m.\u001b[0m\u001b[0mvalue\u001b[0m\u001b[0;34m:\u001b[0m\u001b[0;34m\u001b[0m\u001b[0;34m\u001b[0m\u001b[0m\n\u001b[1;32m     74\u001b[0m             \u001b[0;32mwith\u001b[0m \u001b[0mget_graph\u001b[0m\u001b[0;34m(\u001b[0m\u001b[0;34m)\u001b[0m\u001b[0;34m.\u001b[0m\u001b[0mas_default\u001b[0m\u001b[0;34m(\u001b[0m\u001b[0;34m)\u001b[0m\u001b[0;34m:\u001b[0m\u001b[0;34m\u001b[0m\u001b[0;34m\u001b[0m\u001b[0m\n\u001b[0;32m---> 75\u001b[0;31m                 \u001b[0;32mreturn\u001b[0m \u001b[0mfunc\u001b[0m\u001b[0;34m(\u001b[0m\u001b[0;34m*\u001b[0m\u001b[0margs\u001b[0m\u001b[0;34m,\u001b[0m \u001b[0;34m**\u001b[0m\u001b[0mkwargs\u001b[0m\u001b[0;34m)\u001b[0m\u001b[0;34m\u001b[0m\u001b[0;34m\u001b[0m\u001b[0m\n\u001b[0m\u001b[1;32m     76\u001b[0m         \u001b[0;32melse\u001b[0m\u001b[0;34m:\u001b[0m\u001b[0;34m\u001b[0m\u001b[0;34m\u001b[0m\u001b[0m\n\u001b[1;32m     77\u001b[0m             \u001b[0;32mreturn\u001b[0m \u001b[0mfunc\u001b[0m\u001b[0;34m(\u001b[0m\u001b[0;34m*\u001b[0m\u001b[0margs\u001b[0m\u001b[0;34m,\u001b[0m \u001b[0;34m**\u001b[0m\u001b[0mkwargs\u001b[0m\u001b[0;34m)\u001b[0m\u001b[0;34m\u001b[0m\u001b[0;34m\u001b[0m\u001b[0m\n",
      "\u001b[0;32m/software/local/lib64/python3.7/site-packages/keras/backend/tensorflow_backend.py\u001b[0m in \u001b[0;36mgradients\u001b[0;34m(loss, variables)\u001b[0m\n\u001b[1;32m   3023\u001b[0m     \u001b[0;32mif\u001b[0m \u001b[0m_is_tf_1\u001b[0m\u001b[0;34m(\u001b[0m\u001b[0;34m)\u001b[0m\u001b[0;34m:\u001b[0m\u001b[0;34m\u001b[0m\u001b[0;34m\u001b[0m\u001b[0m\n\u001b[1;32m   3024\u001b[0m         \u001b[0;32mreturn\u001b[0m \u001b[0mtf\u001b[0m\u001b[0;34m.\u001b[0m\u001b[0mgradients\u001b[0m\u001b[0;34m(\u001b[0m\u001b[0mloss\u001b[0m\u001b[0;34m,\u001b[0m \u001b[0mvariables\u001b[0m\u001b[0;34m,\u001b[0m \u001b[0mcolocate_gradients_with_ops\u001b[0m\u001b[0;34m=\u001b[0m\u001b[0;32mTrue\u001b[0m\u001b[0;34m)\u001b[0m\u001b[0;34m\u001b[0m\u001b[0;34m\u001b[0m\u001b[0m\n\u001b[0;32m-> 3025\u001b[0;31m     \u001b[0;32mreturn\u001b[0m \u001b[0mtf\u001b[0m\u001b[0;34m.\u001b[0m\u001b[0mgradients\u001b[0m\u001b[0;34m(\u001b[0m\u001b[0mloss\u001b[0m\u001b[0;34m,\u001b[0m \u001b[0mvariables\u001b[0m\u001b[0;34m)\u001b[0m\u001b[0;34m\u001b[0m\u001b[0;34m\u001b[0m\u001b[0m\n\u001b[0m\u001b[1;32m   3026\u001b[0m \u001b[0;34m\u001b[0m\u001b[0m\n\u001b[1;32m   3027\u001b[0m \u001b[0;34m\u001b[0m\u001b[0m\n",
      "\u001b[0;32m/software/local/lib64/python3.7/site-packages/tensorflow_core/python/ops/gradients_impl.py\u001b[0m in \u001b[0;36mgradients_v2\u001b[0;34m(ys, xs, grad_ys, name, gate_gradients, aggregation_method, stop_gradients, unconnected_gradients)\u001b[0m\n\u001b[1;32m    272\u001b[0m         \u001b[0mys\u001b[0m\u001b[0;34m,\u001b[0m \u001b[0mxs\u001b[0m\u001b[0;34m,\u001b[0m \u001b[0mgrad_ys\u001b[0m\u001b[0;34m,\u001b[0m \u001b[0mname\u001b[0m\u001b[0;34m,\u001b[0m \u001b[0;32mTrue\u001b[0m\u001b[0;34m,\u001b[0m \u001b[0mgate_gradients\u001b[0m\u001b[0;34m,\u001b[0m\u001b[0;34m\u001b[0m\u001b[0;34m\u001b[0m\u001b[0m\n\u001b[1;32m    273\u001b[0m         \u001b[0maggregation_method\u001b[0m\u001b[0;34m,\u001b[0m \u001b[0mstop_gradients\u001b[0m\u001b[0;34m,\u001b[0m\u001b[0;34m\u001b[0m\u001b[0;34m\u001b[0m\u001b[0m\n\u001b[0;32m--> 274\u001b[0;31m         unconnected_gradients)\n\u001b[0m\u001b[1;32m    275\u001b[0m   \u001b[0;31m# pylint: enable=protected-access\u001b[0m\u001b[0;34m\u001b[0m\u001b[0;34m\u001b[0m\u001b[0;34m\u001b[0m\u001b[0m\n\u001b[1;32m    276\u001b[0m \u001b[0;34m\u001b[0m\u001b[0m\n",
      "\u001b[0;32m/software/local/lib64/python3.7/site-packages/tensorflow_core/python/ops/gradients_util.py\u001b[0m in \u001b[0;36m_GradientsHelper\u001b[0;34m(ys, xs, grad_ys, name, colocate_gradients_with_ops, gate_gradients, aggregation_method, stop_gradients, unconnected_gradients, src_graph)\u001b[0m\n\u001b[1;32m    677\u001b[0m                 \u001b[0;31m# functions.\u001b[0m\u001b[0;34m\u001b[0m\u001b[0;34m\u001b[0m\u001b[0;34m\u001b[0m\u001b[0m\n\u001b[1;32m    678\u001b[0m                 in_grads = _MaybeCompile(grad_scope, op, func_call,\n\u001b[0;32m--> 679\u001b[0;31m                                          lambda: grad_fn(op, *out_grads))\n\u001b[0m\u001b[1;32m    680\u001b[0m               \u001b[0;32melse\u001b[0m\u001b[0;34m:\u001b[0m\u001b[0;34m\u001b[0m\u001b[0;34m\u001b[0m\u001b[0m\n\u001b[1;32m    681\u001b[0m                 \u001b[0;31m# For function call ops, we add a 'SymbolicGradient'\u001b[0m\u001b[0;34m\u001b[0m\u001b[0;34m\u001b[0m\u001b[0;34m\u001b[0m\u001b[0m\n",
      "\u001b[0;32m/software/local/lib64/python3.7/site-packages/tensorflow_core/python/ops/gradients_util.py\u001b[0m in \u001b[0;36m_MaybeCompile\u001b[0;34m(scope, op, func, grad_fn)\u001b[0m\n\u001b[1;32m    348\u001b[0m       \u001b[0mxla_scope\u001b[0m \u001b[0;34m=\u001b[0m \u001b[0mop\u001b[0m\u001b[0;34m.\u001b[0m\u001b[0mget_attr\u001b[0m\u001b[0;34m(\u001b[0m\u001b[0;34m\"_XlaScope\"\u001b[0m\u001b[0;34m)\u001b[0m\u001b[0;34m.\u001b[0m\u001b[0mdecode\u001b[0m\u001b[0;34m(\u001b[0m\u001b[0;34m)\u001b[0m\u001b[0;34m\u001b[0m\u001b[0;34m\u001b[0m\u001b[0m\n\u001b[1;32m    349\u001b[0m     \u001b[0;32mexcept\u001b[0m \u001b[0mValueError\u001b[0m\u001b[0;34m:\u001b[0m\u001b[0;34m\u001b[0m\u001b[0;34m\u001b[0m\u001b[0m\n\u001b[0;32m--> 350\u001b[0;31m       \u001b[0;32mreturn\u001b[0m \u001b[0mgrad_fn\u001b[0m\u001b[0;34m(\u001b[0m\u001b[0;34m)\u001b[0m  \u001b[0;31m# Exit early\u001b[0m\u001b[0;34m\u001b[0m\u001b[0;34m\u001b[0m\u001b[0m\n\u001b[0m\u001b[1;32m    351\u001b[0m \u001b[0;34m\u001b[0m\u001b[0m\n\u001b[1;32m    352\u001b[0m   \u001b[0;32mif\u001b[0m \u001b[0;32mnot\u001b[0m \u001b[0mxla_compile\u001b[0m\u001b[0;34m:\u001b[0m\u001b[0;34m\u001b[0m\u001b[0;34m\u001b[0m\u001b[0m\n",
      "\u001b[0;32m/software/local/lib64/python3.7/site-packages/tensorflow_core/python/ops/gradients_util.py\u001b[0m in \u001b[0;36m<lambda>\u001b[0;34m()\u001b[0m\n\u001b[1;32m    677\u001b[0m                 \u001b[0;31m# functions.\u001b[0m\u001b[0;34m\u001b[0m\u001b[0;34m\u001b[0m\u001b[0;34m\u001b[0m\u001b[0m\n\u001b[1;32m    678\u001b[0m                 in_grads = _MaybeCompile(grad_scope, op, func_call,\n\u001b[0;32m--> 679\u001b[0;31m                                          lambda: grad_fn(op, *out_grads))\n\u001b[0m\u001b[1;32m    680\u001b[0m               \u001b[0;32melse\u001b[0m\u001b[0;34m:\u001b[0m\u001b[0;34m\u001b[0m\u001b[0;34m\u001b[0m\u001b[0m\n\u001b[1;32m    681\u001b[0m                 \u001b[0;31m# For function call ops, we add a 'SymbolicGradient'\u001b[0m\u001b[0;34m\u001b[0m\u001b[0;34m\u001b[0m\u001b[0;34m\u001b[0m\u001b[0m\n",
      "\u001b[0;32m/software/local/lib64/python3.7/site-packages/tensorflow_core/python/ops/cond_v2.py\u001b[0m in \u001b[0;36m_IfGrad\u001b[0;34m(op, *grads)\u001b[0m\n\u001b[1;32m    108\u001b[0m   \u001b[0;31m# Get the if operator (this logic handles the case where op is a MockOp)\u001b[0m\u001b[0;34m\u001b[0m\u001b[0;34m\u001b[0m\u001b[0;34m\u001b[0m\u001b[0m\n\u001b[1;32m    109\u001b[0m   \u001b[0mif_op\u001b[0m \u001b[0;34m=\u001b[0m \u001b[0mop\u001b[0m\u001b[0;34m.\u001b[0m\u001b[0moutputs\u001b[0m\u001b[0;34m[\u001b[0m\u001b[0;36m0\u001b[0m\u001b[0;34m]\u001b[0m\u001b[0;34m.\u001b[0m\u001b[0mop\u001b[0m\u001b[0;34m\u001b[0m\u001b[0;34m\u001b[0m\u001b[0m\n\u001b[0;32m--> 110\u001b[0;31m   \u001b[0mtrue_graph\u001b[0m\u001b[0;34m,\u001b[0m \u001b[0mfalse_graph\u001b[0m \u001b[0;34m=\u001b[0m \u001b[0mget_func_graphs\u001b[0m\u001b[0;34m(\u001b[0m\u001b[0mif_op\u001b[0m\u001b[0;34m)\u001b[0m\u001b[0;34m\u001b[0m\u001b[0;34m\u001b[0m\u001b[0m\n\u001b[0m\u001b[1;32m    111\u001b[0m   \u001b[0;31m# Note: op.graph != ops.get_default_graph() when we are computing the gradient\u001b[0m\u001b[0;34m\u001b[0m\u001b[0;34m\u001b[0m\u001b[0;34m\u001b[0m\u001b[0m\n\u001b[1;32m    112\u001b[0m   \u001b[0;31m# of a nested cond.\u001b[0m\u001b[0;34m\u001b[0m\u001b[0;34m\u001b[0m\u001b[0;34m\u001b[0m\u001b[0m\n",
      "\u001b[0;32m/software/local/lib64/python3.7/site-packages/tensorflow_core/python/ops/cond_v2.py\u001b[0m in \u001b[0;36mget_func_graphs\u001b[0;34m(op)\u001b[0m\n\u001b[1;32m    329\u001b[0m \u001b[0;34m\u001b[0m\u001b[0m\n\u001b[1;32m    330\u001b[0m   \u001b[0;32mif\u001b[0m \u001b[0mop\u001b[0m\u001b[0;34m.\u001b[0m\u001b[0mtype\u001b[0m \u001b[0;32min\u001b[0m \u001b[0;34m[\u001b[0m\u001b[0;34m\"If\"\u001b[0m\u001b[0;34m,\u001b[0m \u001b[0;34m\"StatelessIf\"\u001b[0m\u001b[0;34m]\u001b[0m\u001b[0;34m:\u001b[0m\u001b[0;34m\u001b[0m\u001b[0;34m\u001b[0m\u001b[0m\n\u001b[0;32m--> 331\u001b[0;31m     return (_get_func_graph_for_branch(op.get_attr(\"then_branch\")),\n\u001b[0m\u001b[1;32m    332\u001b[0m             _get_func_graph_for_branch(op.get_attr(\"else_branch\")))\n\u001b[1;32m    333\u001b[0m   \u001b[0;32melif\u001b[0m \u001b[0mop\u001b[0m\u001b[0;34m.\u001b[0m\u001b[0mtype\u001b[0m \u001b[0;34m==\u001b[0m \u001b[0;34m\"Case\"\u001b[0m\u001b[0;34m:\u001b[0m\u001b[0;34m\u001b[0m\u001b[0;34m\u001b[0m\u001b[0m\n",
      "\u001b[0;32m/software/local/lib64/python3.7/site-packages/tensorflow_core/python/ops/cond_v2.py\u001b[0m in \u001b[0;36m_get_func_graph_for_branch\u001b[0;34m(name_attr_list)\u001b[0m\n\u001b[1;32m    320\u001b[0m     \u001b[0;32mwith\u001b[0m \u001b[0mop\u001b[0m\u001b[0;34m.\u001b[0m\u001b[0mgraph\u001b[0m\u001b[0;34m.\u001b[0m\u001b[0mas_default\u001b[0m\u001b[0;34m(\u001b[0m\u001b[0;34m)\u001b[0m\u001b[0;34m:\u001b[0m\u001b[0;34m\u001b[0m\u001b[0;34m\u001b[0m\u001b[0m\n\u001b[1;32m    321\u001b[0m       func_graph = function_def_to_graph.function_def_to_graph(\n\u001b[0;32m--> 322\u001b[0;31m           fdef, input_shapes)\n\u001b[0m\u001b[1;32m    323\u001b[0m     \u001b[0;32mfor\u001b[0m \u001b[0mexternal_t\u001b[0m\u001b[0;34m,\u001b[0m \u001b[0minternal_t\u001b[0m \u001b[0;32min\u001b[0m \u001b[0mzip\u001b[0m\u001b[0;34m(\u001b[0m\u001b[0minputs\u001b[0m\u001b[0;34m,\u001b[0m \u001b[0mfunc_graph\u001b[0m\u001b[0;34m.\u001b[0m\u001b[0minputs\u001b[0m\u001b[0;34m)\u001b[0m\u001b[0;34m:\u001b[0m\u001b[0;34m\u001b[0m\u001b[0;34m\u001b[0m\u001b[0m\n\u001b[1;32m    324\u001b[0m       \u001b[0mcustom_gradient\u001b[0m\u001b[0;34m.\u001b[0m\u001b[0mcopy_handle_data\u001b[0m\u001b[0;34m(\u001b[0m\u001b[0mexternal_t\u001b[0m\u001b[0;34m,\u001b[0m \u001b[0minternal_t\u001b[0m\u001b[0;34m)\u001b[0m\u001b[0;34m\u001b[0m\u001b[0;34m\u001b[0m\u001b[0m\n",
      "\u001b[0;32m/software/local/lib64/python3.7/site-packages/tensorflow_core/python/framework/function_def_to_graph.py\u001b[0m in \u001b[0;36mfunction_def_to_graph\u001b[0;34m(fdef, input_shapes, copy_functions)\u001b[0m\n\u001b[1;32m     63\u001b[0m   \u001b[0;32mwith\u001b[0m \u001b[0mfunc_graph\u001b[0m\u001b[0;34m.\u001b[0m\u001b[0mas_default\u001b[0m\u001b[0;34m(\u001b[0m\u001b[0;34m)\u001b[0m\u001b[0;34m:\u001b[0m\u001b[0;34m\u001b[0m\u001b[0;34m\u001b[0m\u001b[0m\n\u001b[1;32m     64\u001b[0m     \u001b[0;31m# Add all function nodes to the graph.\u001b[0m\u001b[0;34m\u001b[0m\u001b[0;34m\u001b[0m\u001b[0;34m\u001b[0m\u001b[0m\n\u001b[0;32m---> 65\u001b[0;31m     \u001b[0mimporter\u001b[0m\u001b[0;34m.\u001b[0m\u001b[0mimport_graph_def_for_function\u001b[0m\u001b[0;34m(\u001b[0m\u001b[0mgraph_def\u001b[0m\u001b[0;34m,\u001b[0m \u001b[0mname\u001b[0m\u001b[0;34m=\u001b[0m\u001b[0;34m\"\"\u001b[0m\u001b[0;34m)\u001b[0m\u001b[0;34m\u001b[0m\u001b[0;34m\u001b[0m\u001b[0m\n\u001b[0m\u001b[1;32m     66\u001b[0m \u001b[0;34m\u001b[0m\u001b[0m\n\u001b[1;32m     67\u001b[0m     \u001b[0;31m# Initialize fields specific to FuncGraph.\u001b[0m\u001b[0;34m\u001b[0m\u001b[0;34m\u001b[0m\u001b[0;34m\u001b[0m\u001b[0m\n",
      "\u001b[0;32m/software/local/lib64/python3.7/site-packages/tensorflow_core/python/framework/importer.py\u001b[0m in \u001b[0;36mimport_graph_def_for_function\u001b[0;34m(graph_def, name)\u001b[0m\n\u001b[1;32m    410\u001b[0m   \u001b[0;34m\"\"\"Like import_graph_def but does not validate colocation constraints.\"\"\"\u001b[0m\u001b[0;34m\u001b[0m\u001b[0;34m\u001b[0m\u001b[0m\n\u001b[1;32m    411\u001b[0m   return _import_graph_def_internal(\n\u001b[0;32m--> 412\u001b[0;31m       graph_def, validate_colocation_constraints=False, name=name)\n\u001b[0m\u001b[1;32m    413\u001b[0m \u001b[0;34m\u001b[0m\u001b[0m\n\u001b[1;32m    414\u001b[0m \u001b[0;34m\u001b[0m\u001b[0m\n",
      "\u001b[0;32m/software/local/lib64/python3.7/site-packages/tensorflow_core/python/framework/importer.py\u001b[0m in \u001b[0;36m_import_graph_def_internal\u001b[0;34m(graph_def, input_map, return_elements, validate_colocation_constraints, name, op_dict, producer_op_list)\u001b[0m\n\u001b[1;32m    520\u001b[0m     \u001b[0mfunctions\u001b[0m \u001b[0;34m=\u001b[0m \u001b[0mfunction\u001b[0m\u001b[0;34m.\u001b[0m\u001b[0mfrom_library\u001b[0m\u001b[0;34m(\u001b[0m\u001b[0mgraph_def\u001b[0m\u001b[0;34m.\u001b[0m\u001b[0mlibrary\u001b[0m\u001b[0;34m)\u001b[0m\u001b[0;34m\u001b[0m\u001b[0;34m\u001b[0m\u001b[0m\n\u001b[1;32m    521\u001b[0m     \u001b[0;32mfor\u001b[0m \u001b[0mf\u001b[0m \u001b[0;32min\u001b[0m \u001b[0mfunctions\u001b[0m\u001b[0;34m:\u001b[0m\u001b[0;34m\u001b[0m\u001b[0;34m\u001b[0m\u001b[0m\n\u001b[0;32m--> 522\u001b[0;31m       \u001b[0mf\u001b[0m\u001b[0;34m.\u001b[0m\u001b[0madd_to_graph\u001b[0m\u001b[0;34m(\u001b[0m\u001b[0mgraph\u001b[0m\u001b[0;34m)\u001b[0m\u001b[0;34m\u001b[0m\u001b[0;34m\u001b[0m\u001b[0m\n\u001b[0m\u001b[1;32m    523\u001b[0m \u001b[0;34m\u001b[0m\u001b[0m\n\u001b[1;32m    524\u001b[0m   \u001b[0;31m# Treat input mappings that don't appear in the graph as an error, because\u001b[0m\u001b[0;34m\u001b[0m\u001b[0;34m\u001b[0m\u001b[0;34m\u001b[0m\u001b[0m\n",
      "\u001b[0;32m/software/local/lib64/python3.7/site-packages/tensorflow_core/python/framework/function.py\u001b[0m in \u001b[0;36madd_to_graph\u001b[0;34m(self, g)\u001b[0m\n\u001b[1;32m    550\u001b[0m       \u001b[0mcontext\u001b[0m\u001b[0;34m.\u001b[0m\u001b[0mcontext\u001b[0m\u001b[0;34m(\u001b[0m\u001b[0;34m)\u001b[0m\u001b[0;34m.\u001b[0m\u001b[0madd_function_def\u001b[0m\u001b[0;34m(\u001b[0m\u001b[0mself\u001b[0m\u001b[0;34m.\u001b[0m\u001b[0mdefinition\u001b[0m\u001b[0;34m)\u001b[0m\u001b[0;34m\u001b[0m\u001b[0;34m\u001b[0m\u001b[0m\n\u001b[1;32m    551\u001b[0m     \u001b[0;32melse\u001b[0m\u001b[0;34m:\u001b[0m\u001b[0;34m\u001b[0m\u001b[0;34m\u001b[0m\u001b[0m\n\u001b[0;32m--> 552\u001b[0;31m       \u001b[0mg\u001b[0m\u001b[0;34m.\u001b[0m\u001b[0m_add_function\u001b[0m\u001b[0;34m(\u001b[0m\u001b[0mself\u001b[0m\u001b[0;34m)\u001b[0m\u001b[0;34m\u001b[0m\u001b[0;34m\u001b[0m\u001b[0m\n\u001b[0m\u001b[1;32m    553\u001b[0m     \u001b[0;31m# pylint: enable=protected-access\u001b[0m\u001b[0;34m\u001b[0m\u001b[0;34m\u001b[0m\u001b[0;34m\u001b[0m\u001b[0m\n\u001b[1;32m    554\u001b[0m \u001b[0;34m\u001b[0m\u001b[0m\n",
      "\u001b[0;32m/software/local/lib64/python3.7/site-packages/tensorflow_core/python/framework/ops.py\u001b[0m in \u001b[0;36m_add_function\u001b[0;34m(self, function)\u001b[0m\n\u001b[1;32m   3287\u001b[0m     gradient = (\n\u001b[1;32m   3288\u001b[0m         function._grad_func._c_func.func if function._grad_func else None)\n\u001b[0;32m-> 3289\u001b[0;31m     \u001b[0mc_api\u001b[0m\u001b[0;34m.\u001b[0m\u001b[0mTF_GraphCopyFunction\u001b[0m\u001b[0;34m(\u001b[0m\u001b[0mself\u001b[0m\u001b[0;34m.\u001b[0m\u001b[0m_c_graph\u001b[0m\u001b[0;34m,\u001b[0m \u001b[0mfunction\u001b[0m\u001b[0;34m.\u001b[0m\u001b[0m_c_func\u001b[0m\u001b[0;34m.\u001b[0m\u001b[0mfunc\u001b[0m\u001b[0;34m,\u001b[0m \u001b[0mgradient\u001b[0m\u001b[0;34m)\u001b[0m\u001b[0;34m\u001b[0m\u001b[0;34m\u001b[0m\u001b[0m\n\u001b[0m\u001b[1;32m   3290\u001b[0m     \u001b[0;31m# pylint: enable=protected-access\u001b[0m\u001b[0;34m\u001b[0m\u001b[0;34m\u001b[0m\u001b[0;34m\u001b[0m\u001b[0m\n\u001b[1;32m   3291\u001b[0m \u001b[0;34m\u001b[0m\u001b[0m\n",
      "\u001b[0;31mKeyboardInterrupt\u001b[0m: "
     ]
    }
   ],
   "source": [
    "lstm_classifyer = make_lstm_classifyer(512)\n",
    "lstm_classifyer.compile(optimizer='Adam', loss='binary_crossentropy', metrics=['accuracy'])\n",
    "lstm_classifyer.fit(X_lstm_oh,Y,epochs=10,validation_split=0.1)"
   ]
  },
  {
   "cell_type": "markdown",
   "metadata": {},
   "source": [
    "# Decryption"
   ]
  },
  {
   "cell_type": "code",
   "execution_count": 405,
   "metadata": {},
   "outputs": [],
   "source": [
    "def fitness(key, encrypted_text):\n",
    "    plaintext = key.decrypt(encrypted_text)\n",
    "    frequencies = np.array(df.get_threegram_frequencies(plaintext)).reshape((1,-1))\n",
    "    return classifyer.predict(frequencies)[0,0]\n",
    "    #return 2.-np.sum(np.abs(frequencies-theoretical_frequencies))#21.-frequencies.dot(logfreqs)[0]"
   ]
  },
  {
   "cell_type": "code",
   "execution_count": 82,
   "metadata": {},
   "outputs": [],
   "source": [
    "class IndividualKey:\n",
    "    \n",
    "    def __init__(self, parent1=None, parent2=None, pivot_point=None):\n",
    "        np.random.seed()\n",
    "        if parent1 is None: parent1 = np.random.permutation(26)\n",
    "        if parent2 is None: parent2 = np.random.permutation(26)\n",
    "        if pivot_point is None: pivot_point = np.random.randint(25)     \n",
    "        \n",
    "        self.key = np.zeros(26, dtype='int')\n",
    "\n",
    "        parent1_contribution = np.copy(parent1[:pivot_point])\n",
    "        parent2_contribution = np.copy(parent2[pivot_point:])\n",
    "        fillers = list(set(np.arange(26))-set(parent1_contribution)-set(parent2_contribution))\n",
    "        \n",
    "        for i, element in enumerate(parent2_contribution):\n",
    "            if element in parent1_contribution:\n",
    "                parent2_contribution[i] = fillers.pop()\n",
    "\n",
    "        self.key[:pivot_point] = parent1_contribution\n",
    "        self.key[pivot_point:] = parent2_contribution\n",
    "   \n",
    "    def mutate(self):\n",
    "        c1, c2 = np.random.choice(26, 2, replace=False)\n",
    "        self.key[c1], self.key[c2] = self.key[c2], self.key[c1]\n",
    "    \n",
    "    def decrypt(self, text):\n",
    "        plaintext = \"\".join([df.n_to_char[self.key[df.char_to_n[a]]] for a in df.alphabetize(text)])\n",
    "        return plaintext"
   ]
  },
  {
   "cell_type": "markdown",
   "metadata": {},
   "source": [
    "## Greedy"
   ]
  },
  {
   "cell_type": "code",
   "execution_count": 101,
   "metadata": {},
   "outputs": [],
   "source": [
    "def decrypt_greedy(encrypted_string, n_keys=10, n_mutations=1000):\n",
    "    scores = np.zeros((n_keys, n_mutations))\n",
    "    keys = []\n",
    "    \n",
    "    for k in range(n_keys):\n",
    "        current_key = IndividualKey()\n",
    "        current_fitness = fitness(current_key, encrypted_string)\n",
    "           \n",
    "        for i in range(n_mutations):\n",
    "            candidate_key = copy.deepcopy(current_key)\n",
    "            candidate_key.mutate()\n",
    "            candidate_fitness = fitness(candidate_key, encrypted_string)\n",
    "            \n",
    "            if candidate_fitness > current_fitness:\n",
    "                current_key = candidate_key\n",
    "                current_fitness = candidate_fitness\n",
    "     \n",
    "            scores[k, i] = current_fitness\n",
    "        print(f\"Key {k+1} of {n_keys}. Fitness: {current_fitness:.2}\")\n",
    "        keys.append(current_key)\n",
    "       \n",
    "    return scores, keys"
   ]
  },
  {
   "cell_type": "code",
   "execution_count": 106,
   "metadata": {},
   "outputs": [
    {
     "name": "stdout",
     "output_type": "stream",
     "text": [
      "Key 1 of 5. Fitness: 0.34\n",
      "Key 2 of 5. Fitness: 0.35\n",
      "Key 3 of 5. Fitness: 0.8\n",
      "Key 4 of 5. Fitness: 0.36\n",
      "Key 5 of 5. Fitness: 0.36\n"
     ]
    }
   ],
   "source": [
    "scores, keys = decrypt_greedy(test_string_encrypted,n_keys=5,n_mutations=2000)"
   ]
  },
  {
   "cell_type": "code",
   "execution_count": 109,
   "metadata": {},
   "outputs": [
    {
     "data": {
      "image/png": "[encoded data removed]",
      "text/plain": [
       "<Figure size 432x288 with 1 Axes>"
      ]
     },
     "metadata": {
      "needs_background": "light"
     },
     "output_type": "display_data"
    }
   ],
   "source": [
    "for i in range(5): plt.plot(scores[i])"
   ]
  },
  {
   "cell_type": "markdown",
   "metadata": {},
   "source": [
    "## Genetic"
   ]
  },
  {
   "cell_type": "code",
   "execution_count": 406,
   "metadata": {
    "scrolled": true
   },
   "outputs": [],
   "source": [
    "def run_genetics(n_keys=32, n_generations=1501, mutation_rate=0.01, crossover_rate=0.9, verbose=True):\n",
    "    population = []\n",
    "    fitnesses = np.zeros(n_keys)\n",
    "\n",
    "    best_fitnesses = []\n",
    "\n",
    "    encrypted_text = test_string_encrypted\n",
    "\n",
    "    for i in range(n_keys):\n",
    "        population.append(IndividualKey())\n",
    "        fitnesses[i]=fitness(population[-1], encrypted_text)\n",
    "        #print(population[i].key)\n",
    "    for generation in range(n_generations):\n",
    "        children = []\n",
    "        child_fitnesses = []\n",
    "\n",
    "        #Make and process enough children\n",
    "        for i in range(n_keys//2):\n",
    "\n",
    "            pivot_point = np.random.randint(25)\n",
    "\n",
    "            #Selection: pick parents\n",
    "            if np.sum(fitnesses)>0:\n",
    "                weights = fitnesses\n",
    "                weights = weights/np.sum(weights)\n",
    "                parent1, parent2 = np.random.choice(population, 2, replace=False, p=weights)\n",
    "            else:\n",
    "                parent1, parent2 = np.random.choice(population, 2, replace=False)\n",
    "\n",
    "\n",
    "\n",
    "            #Crossover: Decide if parents reproduce over or not\n",
    "            if np.random.choice([True, False], p=[crossover_rate, 1-crossover_rate]):\n",
    "                child1 = IndividualKey(parent1.key, parent2.key, pivot_point=pivot_point)\n",
    "                child2 = IndividualKey(parent2.key, parent1.key, pivot_point=pivot_point)\n",
    "            else:\n",
    "                child1 = copy.deepcopy(parent1)\n",
    "                child2 = copy.deepcopy(parent2)\n",
    "\n",
    "\n",
    "            #Mutation: keep mutation if beneficial\n",
    "            if np.random.choice([True, False],p=[mutation_rate, 1-mutation_rate]): \n",
    "                child1_clone = copy.deepcopy(child1)\n",
    "                child1_clone.mutate()\n",
    "                if fitness(child1_clone, encrypted_text) >= fitness(child1, encrypted_text):\n",
    "                    child1 = copy.deepcopy(child1_clone)\n",
    "\n",
    "            if np.random.choice([True, False],p=[mutation_rate, 1-mutation_rate]):\n",
    "                child2_clone = copy.deepcopy(child2)\n",
    "                child2_clone.mutate()\n",
    "                if fitness(child2_clone, encrypted_text) >= fitness(child2, encrypted_text):\n",
    "                    child2 = copy.deepcopy(child2_clone)\n",
    "\n",
    "\n",
    "            children.append(child1)\n",
    "            children.append(child2)\n",
    "\n",
    "            child_fitnesses.append(fitness(child1, encrypted_text))\n",
    "            child_fitnesses.append(fitness(child2, encrypted_text))\n",
    "\n",
    "            #Move onto new generation\n",
    "        population = children\n",
    "        fitnesses = child_fitnesses\n",
    "\n",
    "        best_fitnesses.append(np.max(fitnesses))\n",
    "\n",
    "        if generation%100==0 and verbose==True:\n",
    "            print(f\"Generation {generation}, Average fitness: {np.mean(fitnesses):.2e}, Best fitness: {np.max(fitnesses):.2e}, Test accuracy: {string_accuracy(population[np.argmax(fitnesses)].decrypt(encrypted_text),test_string)[0]:.2e}\")\n",
    "    return best_fitnesses, population"
   ]
  },
  {
   "cell_type": "code",
   "execution_count": 304,
   "metadata": {},
   "outputs": [],
   "source": [
    "parameters = np.zeros((500,3))"
   ]
  },
  {
   "cell_type": "code",
   "execution_count": 305,
   "metadata": {},
   "outputs": [],
   "source": [
    "for i in range(500):\n",
    "    parameters[i,0] = 16+int(2**(0.5*np.random.randint(2,11)))\n",
    "    parameters[i,1] = np.random.random()\n",
    "    parameters[i,2] = np.random.random()"
   ]
  },
  {
   "cell_type": "code",
   "execution_count": 407,
   "metadata": {},
   "outputs": [
    {
     "name": "stdout",
     "output_type": "stream",
     "text": [
      "Rate 1 of 500\n",
      "Rate 2 of 500\n",
      "Rate 3 of 500\n",
      "Rate 4 of 500\n",
      "Rate 5 of 500\n",
      "Rate 6 of 500\n",
      "Rate 7 of 500\n",
      "Rate 8 of 500\n",
      "Rate 9 of 500\n",
      "Rate 10 of 500\n",
      "Rate 11 of 500\n",
      "Rate 12 of 500\n",
      "Rate 13 of 500\n",
      "Rate 14 of 500\n",
      "Rate 15 of 500\n",
      "Rate 16 of 500\n",
      "Rate 17 of 500\n",
      "Rate 18 of 500\n",
      "Rate 19 of 500\n",
      "Rate 20 of 500\n",
      "Rate 21 of 500\n",
      "Rate 22 of 500\n",
      "Rate 23 of 500\n",
      "Rate 24 of 500\n",
      "Rate 25 of 500\n",
      "Rate 26 of 500\n",
      "Rate 27 of 500\n",
      "Rate 28 of 500\n",
      "Rate 29 of 500\n",
      "Rate 30 of 500\n",
      "Rate 31 of 500\n",
      "Rate 32 of 500\n",
      "Rate 33 of 500\n",
      "Rate 34 of 500\n",
      "Rate 35 of 500\n",
      "Rate 36 of 500\n",
      "Rate 37 of 500\n",
      "Rate 38 of 500\n",
      "Rate 39 of 500\n",
      "Rate 40 of 500\n",
      "Rate 41 of 500\n",
      "Rate 42 of 500\n",
      "Rate 43 of 500\n",
      "Rate 44 of 500\n",
      "Rate 45 of 500\n",
      "Rate 46 of 500\n",
      "Rate 47 of 500\n",
      "Rate 48 of 500\n",
      "Rate 49 of 500\n",
      "Rate 50 of 500\n",
      "Rate 51 of 500\n",
      "Rate 52 of 500\n",
      "Rate 53 of 500\n",
      "Rate 54 of 500\n",
      "Rate 55 of 500\n",
      "Rate 56 of 500\n",
      "Rate 57 of 500\n",
      "Rate 58 of 500\n",
      "Rate 59 of 500\n",
      "Rate 60 of 500\n",
      "Rate 61 of 500\n",
      "Rate 62 of 500\n",
      "Rate 63 of 500\n",
      "Rate 64 of 500\n",
      "Rate 65 of 500\n",
      "Rate 66 of 500\n",
      "Rate 67 of 500\n",
      "Rate 68 of 500\n",
      "Rate 69 of 500\n",
      "Rate 70 of 500\n",
      "Rate 71 of 500\n",
      "Rate 72 of 500\n",
      "Rate 73 of 500\n",
      "Rate 74 of 500\n",
      "Rate 75 of 500\n",
      "Rate 76 of 500\n",
      "Rate 77 of 500\n",
      "Rate 78 of 500\n",
      "Rate 80 of 500\n",
      "Rate 81 of 500\n",
      "Rate 82 of 500\n",
      "Rate 83 of 500\n",
      "Rate 84 of 500\n",
      "Rate 85 of 500\n",
      "Rate 86 of 500\n",
      "Rate 87 of 500\n",
      "Rate 88 of 500\n",
      "Rate 89 of 500\n",
      "Rate 90 of 500\n",
      "Rate 91 of 500\n",
      "Rate 92 of 500\n",
      "Rate 93 of 500\n",
      "Rate 94 of 500\n",
      "Rate 95 of 500\n",
      "Rate 96 of 500\n",
      "Rate 97 of 500\n",
      "Rate 98 of 500\n",
      "Rate 99 of 500\n",
      "Rate 100 of 500\n",
      "Rate 101 of 500\n",
      "Rate 102 of 500\n",
      "Rate 103 of 500\n",
      "Rate 104 of 500\n",
      "Rate 105 of 500\n",
      "Rate 106 of 500\n",
      "Rate 107 of 500\n",
      "Rate 108 of 500\n",
      "Rate 109 of 500\n",
      "Rate 110 of 500\n",
      "Rate 111 of 500\n",
      "Rate 112 of 500\n",
      "Rate 113 of 500\n",
      "Rate 114 of 500\n",
      "Rate 115 of 500\n",
      "Rate 116 of 500\n",
      "Rate 117 of 500\n",
      "Rate 118 of 500\n",
      "Rate 119 of 500\n",
      "Rate 120 of 500\n",
      "Rate 121 of 500\n",
      "Rate 122 of 500\n",
      "Rate 123 of 500\n",
      "Rate 124 of 500\n",
      "Rate 125 of 500\n",
      "Rate 126 of 500\n",
      "Rate 127 of 500\n",
      "Rate 128 of 500\n",
      "Rate 129 of 500\n",
      "Rate 130 of 500\n",
      "Rate 131 of 500\n",
      "Rate 132 of 500\n",
      "Rate 133 of 500\n",
      "Rate 134 of 500\n",
      "Rate 135 of 500\n",
      "Rate 136 of 500\n",
      "Rate 137 of 500\n",
      "Rate 138 of 500\n",
      "Rate 139 of 500\n",
      "Rate 140 of 500\n",
      "Rate 141 of 500\n",
      "Rate 142 of 500\n",
      "Rate 143 of 500\n",
      "Rate 144 of 500\n",
      "Rate 145 of 500\n",
      "Rate 146 of 500\n",
      "Rate 147 of 500\n",
      "Rate 148 of 500\n",
      "Rate 149 of 500\n",
      "Rate 150 of 500\n",
      "Rate 151 of 500\n",
      "Rate 152 of 500\n",
      "Rate 153 of 500\n",
      "Rate 154 of 500\n",
      "Rate 155 of 500\n",
      "Rate 156 of 500\n",
      "Rate 157 of 500\n",
      "Rate 158 of 500\n",
      "Rate 159 of 500\n",
      "Rate 160 of 500\n",
      "Rate 161 of 500\n",
      "Rate 162 of 500\n",
      "Rate 163 of 500\n",
      "Rate 164 of 500\n",
      "Rate 165 of 500\n",
      "Rate 166 of 500\n",
      "Rate 167 of 500\n",
      "Rate 168 of 500\n",
      "Rate 169 of 500\n",
      "Rate 170 of 500\n",
      "Rate 171 of 500\n",
      "Rate 172 of 500\n",
      "Rate 173 of 500\n",
      "Rate 174 of 500\n",
      "Rate 175 of 500\n",
      "Rate 176 of 500\n",
      "Rate 177 of 500\n",
      "Rate 178 of 500\n",
      "Rate 179 of 500\n",
      "Rate 180 of 500\n",
      "Rate 181 of 500\n",
      "Rate 182 of 500\n",
      "Rate 183 of 500\n",
      "Rate 184 of 500\n",
      "Rate 185 of 500\n",
      "Rate 186 of 500\n",
      "Rate 187 of 500\n",
      "Rate 188 of 500\n",
      "Rate 189 of 500\n",
      "Rate 190 of 500\n",
      "Rate 191 of 500\n",
      "Rate 192 of 500\n",
      "Rate 193 of 500\n",
      "Rate 194 of 500\n",
      "Rate 195 of 500\n",
      "Rate 196 of 500\n",
      "Rate 197 of 500\n",
      "Rate 198 of 500\n",
      "Rate 199 of 500\n",
      "Rate 200 of 500\n",
      "Rate 201 of 500\n",
      "Rate 202 of 500\n",
      "Rate 203 of 500\n",
      "Rate 204 of 500\n",
      "Rate 205 of 500\n",
      "Rate 206 of 500\n",
      "Rate 207 of 500\n",
      "Rate 208 of 500\n",
      "Rate 209 of 500\n",
      "Rate 210 of 500\n",
      "Rate 211 of 500\n",
      "Rate 212 of 500\n",
      "Rate 213 of 500\n",
      "Rate 214 of 500\n",
      "Rate 215 of 500\n",
      "Rate 216 of 500\n",
      "Rate 217 of 500\n",
      "Rate 218 of 500\n",
      "Rate 219 of 500\n",
      "Rate 220 of 500\n",
      "Rate 221 of 500\n",
      "Rate 222 of 500\n",
      "Rate 223 of 500\n",
      "Rate 224 of 500\n",
      "Rate 225 of 500\n",
      "Rate 226 of 500\n",
      "Rate 227 of 500\n",
      "Rate 228 of 500\n",
      "Rate 229 of 500\n",
      "Rate 230 of 500\n",
      "Rate 231 of 500\n",
      "Rate 232 of 500\n",
      "Rate 233 of 500\n",
      "Rate 234 of 500\n",
      "Rate 235 of 500\n",
      "Rate 236 of 500\n",
      "Rate 237 of 500\n",
      "Rate 238 of 500\n",
      "Rate 239 of 500\n",
      "Rate 240 of 500\n",
      "Rate 241 of 500\n",
      "Rate 242 of 500\n",
      "Rate 243 of 500\n",
      "Rate 244 of 500\n",
      "Rate 245 of 500\n",
      "Rate 246 of 500\n",
      "Rate 247 of 500\n",
      "Rate 248 of 500\n",
      "Rate 249 of 500\n",
      "Rate 250 of 500\n",
      "Rate 251 of 500\n",
      "Rate 252 of 500\n",
      "Rate 253 of 500\n",
      "Rate 254 of 500\n",
      "Rate 255 of 500\n",
      "Rate 256 of 500\n",
      "Rate 257 of 500\n",
      "Rate 258 of 500\n",
      "Rate 259 of 500\n",
      "Rate 260 of 500\n",
      "Rate 261 of 500\n",
      "Rate 262 of 500\n",
      "Rate 263 of 500\n",
      "Rate 264 of 500\n",
      "Rate 265 of 500\n",
      "Rate 266 of 500\n",
      "Rate 267 of 500\n",
      "Rate 268 of 500\n",
      "Rate 269 of 500\n",
      "Rate 270 of 500\n",
      "Rate 271 of 500\n",
      "Rate 272 of 500\n",
      "Rate 273 of 500\n",
      "Rate 274 of 500\n",
      "Rate 275 of 500\n",
      "Rate 276 of 500\n",
      "Rate 277 of 500\n",
      "Rate 278 of 500\n",
      "Rate 279 of 500\n",
      "Rate 280 of 500\n",
      "Rate 281 of 500\n",
      "Rate 282 of 500\n",
      "Rate 283 of 500\n",
      "Rate 284 of 500\n",
      "Rate 285 of 500\n",
      "Rate 286 of 500\n",
      "Rate 287 of 500\n",
      "Rate 288 of 500\n",
      "Rate 289 of 500\n",
      "Rate 290 of 500\n",
      "Rate 291 of 500\n",
      "Rate 292 of 500\n",
      "Rate 293 of 500\n",
      "Rate 294 of 500\n",
      "Rate 295 of 500\n",
      "Rate 296 of 500\n",
      "Rate 297 of 500\n",
      "Rate 298 of 500\n",
      "Rate 299 of 500\n",
      "Rate 300 of 500\n",
      "Rate 301 of 500\n",
      "Rate 302 of 500\n",
      "Rate 303 of 500\n",
      "Rate 304 of 500\n",
      "Rate 305 of 500\n",
      "Rate 306 of 500\n",
      "Rate 307 of 500\n",
      "Rate 308 of 500\n",
      "Rate 309 of 500\n",
      "Rate 310 of 500\n",
      "Rate 311 of 500\n",
      "Rate 312 of 500\n",
      "Rate 313 of 500\n",
      "Rate 314 of 500\n",
      "Rate 315 of 500\n",
      "Rate 316 of 500\n",
      "Rate 317 of 500\n",
      "Rate 318 of 500\n",
      "Rate 319 of 500\n",
      "Rate 320 of 500\n",
      "Rate 321 of 500\n",
      "Rate 322 of 500\n",
      "Rate 323 of 500\n",
      "Rate 324 of 500\n",
      "Rate 325 of 500\n",
      "Rate 326 of 500\n",
      "Rate 327 of 500\n",
      "Rate 328 of 500\n",
      "Rate 329 of 500\n",
      "Rate 330 of 500\n",
      "Rate 331 of 500\n",
      "Rate 332 of 500\n",
      "Rate 333 of 500\n",
      "Rate 334 of 500\n",
      "Rate 335 of 500\n",
      "Rate 336 of 500\n",
      "Rate 337 of 500\n",
      "Rate 338 of 500\n",
      "Rate 339 of 500\n",
      "Rate 340 of 500\n",
      "Rate 341 of 500\n",
      "Rate 342 of 500\n",
      "Rate 343 of 500\n",
      "Rate 344 of 500\n",
      "Rate 345 of 500\n",
      "Rate 346 of 500\n",
      "Rate 347 of 500\n",
      "Rate 348 of 500\n",
      "Rate 349 of 500\n",
      "Rate 350 of 500\n",
      "Rate 351 of 500\n",
      "Rate 352 of 500\n",
      "Rate 353 of 500\n",
      "Rate 354 of 500\n",
      "Rate 355 of 500\n",
      "Rate 356 of 500\n",
      "Rate 357 of 500\n",
      "Rate 358 of 500\n",
      "Rate 359 of 500\n",
      "Rate 360 of 500\n",
      "Rate 361 of 500\n",
      "Rate 362 of 500\n",
      "Rate 363 of 500\n",
      "Rate 364 of 500\n",
      "Rate 365 of 500\n",
      "Rate 366 of 500\n",
      "Rate 367 of 500\n",
      "Rate 368 of 500\n",
      "Rate 369 of 500\n",
      "Rate 370 of 500\n",
      "Rate 371 of 500\n",
      "Rate 372 of 500\n",
      "Rate 373 of 500\n",
      "Rate 374 of 500\n",
      "Rate 375 of 500\n",
      "Rate 376 of 500\n",
      "Rate 377 of 500\n",
      "Rate 378 of 500\n",
      "Rate 379 of 500\n",
      "Rate 380 of 500\n",
      "Rate 381 of 500\n",
      "Rate 382 of 500\n",
      "Rate 383 of 500\n",
      "Rate 384 of 500\n",
      "Rate 385 of 500\n",
      "Rate 386 of 500\n",
      "Rate 387 of 500\n",
      "Rate 388 of 500\n",
      "Rate 389 of 500\n",
      "Rate 390 of 500\n",
      "Rate 391 of 500\n",
      "Rate 392 of 500\n",
      "Rate 393 of 500\n",
      "Rate 394 of 500\n",
      "Rate 395 of 500\n",
      "Rate 396 of 500\n",
      "Rate 397 of 500\n",
      "Rate 398 of 500\n",
      "Rate 399 of 500\n",
      "Rate 400 of 500\n",
      "Rate 401 of 500\n",
      "Rate 402 of 500\n",
      "Rate 403 of 500\n",
      "Rate 404 of 500\n",
      "Rate 405 of 500\n",
      "Rate 406 of 500\n",
      "Rate 407 of 500\n",
      "Rate 408 of 500\n",
      "Rate 409 of 500\n",
      "Rate 410 of 500\n",
      "Rate 411 of 500\n",
      "Rate 412 of 500\n",
      "Rate 413 of 500\n",
      "Rate 414 of 500\n",
      "Rate 415 of 500\n",
      "Rate 416 of 500\n",
      "Rate 417 of 500\n",
      "Rate 418 of 500\n",
      "Rate 419 of 500\n",
      "Rate 420 of 500\n",
      "Rate 421 of 500\n",
      "Rate 422 of 500\n",
      "Rate 423 of 500\n",
      "Rate 424 of 500\n",
      "Rate 425 of 500\n",
      "Rate 426 of 500\n",
      "Rate 427 of 500\n",
      "Rate 428 of 500\n",
      "Rate 429 of 500\n",
      "Rate 430 of 500\n",
      "Rate 431 of 500\n",
      "Rate 432 of 500\n",
      "Rate 433 of 500\n",
      "Rate 434 of 500\n",
      "Rate 435 of 500\n",
      "Rate 436 of 500\n",
      "Rate 437 of 500\n",
      "Rate 438 of 500\n",
      "Rate 439 of 500\n",
      "Rate 440 of 500\n",
      "Rate 441 of 500\n",
      "Rate 442 of 500\n",
      "Rate 443 of 500\n",
      "Rate 444 of 500\n",
      "Rate 445 of 500\n",
      "Rate 446 of 500\n",
      "Rate 447 of 500\n",
      "Rate 448 of 500\n",
      "Rate 449 of 500\n",
      "Rate 450 of 500\n",
      "Rate 451 of 500\n",
      "Rate 452 of 500\n",
      "Rate 453 of 500\n",
      "Rate 454 of 500\n",
      "Rate 455 of 500\n",
      "Rate 456 of 500\n",
      "Rate 457 of 500\n",
      "Rate 458 of 500\n",
      "Rate 459 of 500\n",
      "Rate 460 of 500\n",
      "Rate 461 of 500\n",
      "Rate 462 of 500\n",
      "Rate 463 of 500\n",
      "Rate 464 of 500\n",
      "Rate 465 of 500\n",
      "Rate 466 of 500\n",
      "Rate 467 of 500\n",
      "Rate 468 of 500\n",
      "Rate 469 of 500\n",
      "Rate 470 of 500\n",
      "Rate 471 of 500\n",
      "Rate 472 of 500\n",
      "Rate 473 of 500\n",
      "Rate 474 of 500\n",
      "Rate 475 of 500\n",
      "Rate 476 of 500\n",
      "Rate 477 of 500\n",
      "Rate 478 of 500\n",
      "Rate 479 of 500\n",
      "Rate 480 of 500\n",
      "Rate 481 of 500\n",
      "Rate 482 of 500\n",
      "Rate 483 of 500\n",
      "Rate 484 of 500\n",
      "Rate 485 of 500\n",
      "Rate 486 of 500\n",
      "Rate 487 of 500\n",
      "Rate 488 of 500\n",
      "Rate 489 of 500\n",
      "Rate 490 of 500\n",
      "Rate 491 of 500\n",
      "Rate 492 of 500\n",
      "Rate 493 of 500\n",
      "Rate 494 of 500\n",
      "Rate 495 of 500\n",
      "Rate 496 of 500\n",
      "Rate 497 of 500\n",
      "Rate 498 of 500\n",
      "Rate 499 of 500\n",
      "Rate 500 of 500\n"
     ]
    }
   ],
   "source": [
    "runs = np.zeros((500,1001,3))\n",
    "for i, rate in enumerate(parameters):\n",
    "    for k in range(3):\n",
    "       # print(int(rate[0]), rate[1], rate[2])\n",
    "        run, _ = run_genetics(n_generations=1001, n_keys=int(rate[0]), mutation_rate=rate[1], crossover_rate=rate[2], verbose=False)\n",
    "        runs[i,:,k] = run\n",
    "                                                                                   \n",
    "    print(f\"Rate {i+1} of {len(rates)}\")"
   ]
  },
  {
   "cell_type": "code",
   "execution_count": 408,
   "metadata": {},
   "outputs": [],
   "source": [
    "np.save('nn_cost_run_results.npy', runs)\n",
    "np.save('nn_cost_run_parameters.npy', parameters)"
   ]
  },
  {
   "cell_type": "code",
   "execution_count": 409,
   "metadata": {},
   "outputs": [],
   "source": [
    "final_score_averages_nn = np.mean(runs[:,-1,:], axis=-1)\n",
    "final_scores_unrolled_nn = np.concatenate((runs[:,-1,0],runs[:,-1,1],runs[:,-1,2]))\n",
    "scores_unrolled_nn = np.concatenate((runs[:,:,0],runs[:,:,1],runs[:,:,2]),axis=0)\n",
    "parameters_unrolled_nn = np.concatenate((parameters, parameters, parameters))"
   ]
  },
  {
   "cell_type": "code",
   "execution_count": 410,
   "metadata": {},
   "outputs": [
    {
     "name": "stdout",
     "output_type": "stream",
     "text": [
      "Correlation coefficient:0.10115175813362608\n"
     ]
    },
    {
     "data": {
      "image/png": "[encoded data removed]",
      "text/plain": [
       "<Figure size 432x288 with 1 Axes>"
      ]
     },
     "metadata": {
      "needs_background": "light"
     },
     "output_type": "display_data"
    }
   ],
   "source": [
    "fit_params = np.polyfit(parameters_unrolled[:,0], final_scores_unrolled,1)\n",
    "plt.plot(parameters_unrolled[:,0], final_scores_unrolled,'.')\n",
    "plt.plot(np.arange(16,49), fit_params[0]*np.arange(16,49)+fit_params[1])\n",
    "plt.xlabel('Population size')\n",
    "print(f'Correlation coefficient:{np.corrcoef(parameters_unrolled[:,0], final_scores_unrolled)[1,0]}')"
   ]
  },
  {
   "cell_type": "code",
   "execution_count": 415,
   "metadata": {},
   "outputs": [
    {
     "name": "stdout",
     "output_type": "stream",
     "text": [
      "Correlation coefficient:-0.08827367899985433\n"
     ]
    },
    {
     "data": {
      "image/png": "[encoded data removed]",
      "text/plain": [
       "<Figure size 432x288 with 1 Axes>"
      ]
     },
     "metadata": {
      "needs_background": "light"
     },
     "output_type": "display_data"
    }
   ],
   "source": [
    "fit_params_nn = np.polyfit(parameters_unrolled_nn[:,2], final_scores_unrolled_nn,1)\n",
    "plt.plot(parameters_unrolled_nn[:,2], final_scores_unrolled_nn,'.')\n",
    "plt.plot(np.arange(0,100)/100., fit_params_nn[0]*np.arange(0,100.)/100.+fit_params_nn[1])\n",
    "plt.xlabel('Mutation Rate')\n",
    "print(f'Correlation coefficient:{np.corrcoef(parameters_unrolled_nn[:,2], final_scores_unrolled_nn)[1,0]}')"
   ]
  },
  {
   "cell_type": "code",
   "execution_count": 339,
   "metadata": {},
   "outputs": [
    {
     "name": "stdout",
     "output_type": "stream",
     "text": [
      "Correlation coefficient:0.45570520049036506\n"
     ]
    },
    {
     "data": {
      "image/png": "[encoded data removed]",
      "text/plain": [
       "<Figure size 432x288 with 1 Axes>"
      ]
     },
     "metadata": {
      "needs_background": "light"
     },
     "output_type": "display_data"
    }
   ],
   "source": [
    "fit_params = np.polyfit(parameters_unrolled[:,1], final_scores_unrolled,1)\n",
    "plt.plot(parameters_unrolled[:,1], final_scores_unrolled,'.')\n",
    "plt.plot(np.arange(0,100)/100., fit_params[0]*np.arange(0,100)/100.+fit_params[1])\n",
    "plt.xlabel('Mutation rate')\n",
    "print(f'Correlation coefficient:{np.corrcoef(parameters_unrolled[:,1], final_scores_unrolled)[1,0]}')"
   ]
  },
  {
   "cell_type": "code",
   "execution_count": 340,
   "metadata": {},
   "outputs": [
    {
     "name": "stdout",
     "output_type": "stream",
     "text": [
      "Correlation coefficient:-0.03659010167426408\n"
     ]
    },
    {
     "data": {
      "image/png": "[encoded data removed]",
      "text/plain": [
       "<Figure size 432x288 with 1 Axes>"
      ]
     },
     "metadata": {
      "needs_background": "light"
     },
     "output_type": "display_data"
    }
   ],
   "source": [
    "fit_params = np.polyfit(parameters_unrolled[:,2], final_scores_unrolled,1)\n",
    "plt.plot(parameters_unrolled[:,2], final_scores_unrolled,'.')\n",
    "plt.plot(np.arange(0,100)/100., fit_params[0]*np.arange(0,100)/100.+fit_params[1])\n",
    "plt.xlabel('Crossover rate')\n",
    "print(f'Correlation coefficient:{np.corrcoef(parameters_unrolled[:,2], final_scores_unrolled)[1,0]}')"
   ]
  },
  {
   "cell_type": "code",
   "execution_count": 391,
   "metadata": {},
   "outputs": [],
   "source": [
    "good_params = parameters_unrolled[finish_times<1000]\n",
    "bad_params = parameters_unrolled[finish_times>=1000]"
   ]
  },
  {
   "cell_type": "code",
   "execution_count": 394,
   "metadata": {},
   "outputs": [
    {
     "data": {
      "text/plain": [
       "(array([0.8548285 , 0.93679835, 0.83140854, 0.91337839, 1.18270792,\n",
       "        1.135868  , 1.135868  , 1.07731811, 0.78456862, 1.20612788]),\n",
       " array([0.00160768, 0.1010224 , 0.20043713, 0.29985185, 0.39926657,\n",
       "        0.49868129, 0.59809602, 0.69751074, 0.79692546, 0.89634018,\n",
       "        0.99575491]),\n",
       " <a list of 10 Patch objects>)"
      ]
     },
     "execution_count": 394,
     "metadata": {},
     "output_type": "execute_result"
    },
    {
     "data": {
      "image/png": "[encoded data removed]",
      "text/plain": [
       "<Figure size 432x288 with 1 Axes>"
      ]
     },
     "metadata": {
      "needs_background": "light"
     },
     "output_type": "display_data"
    }
   ],
   "source": [
    "plt.hist(good_params[:,2],density=True, alpha=0.5)\n",
    "plt.hist(bad_params[:,2], density=True, alpha=0.5)"
   ]
  },
  {
   "cell_type": "code",
   "execution_count": 351,
   "metadata": {},
   "outputs": [
    {
     "data": {
      "text/plain": [
       "(array([231.,  87.,  65.,  75.,  84.,   0.,  83.,   0.,   0.,  97.]),\n",
       " array([18., 21., 24., 27., 30., 33., 36., 39., 42., 45., 48.]),\n",
       " <a list of 10 Patch objects>)"
      ]
     },
     "execution_count": 351,
     "metadata": {},
     "output_type": "execute_result"
    },
    {
     "data": {
      "image/png": "[encoded data removed]",
      "text/plain": [
       "<Figure size 432x288 with 1 Axes>"
      ]
     },
     "metadata": {
      "needs_background": "light"
     },
     "output_type": "display_data"
    }
   ],
   "source": [
    "plt.hist(bad_params[:,0])"
   ]
  },
  {
   "cell_type": "code",
   "execution_count": 448,
   "metadata": {},
   "outputs": [],
   "source": [
    "finish_score = 0.95*np.max(final_scores_unrolled_nn)"
   ]
  },
  {
   "cell_type": "code",
   "execution_count": 452,
   "metadata": {},
   "outputs": [],
   "source": [
    "finish_times_nn = []\n",
    "for score_list in scores_unrolled_nn:\n",
    "    for i, score in enumerate(score_list):\n",
    "        if score > finish_score:\n",
    "            finish_times_nn.append(i)\n",
    "            break\n",
    "        if i>=1000:\n",
    "            finish_times_nn.append(1000)\n",
    "finish_times_nn = np.array(finish_times_nn)"
   ]
  },
  {
   "cell_type": "code",
   "execution_count": 453,
   "metadata": {},
   "outputs": [
    {
     "data": {
      "text/plain": [
       "array([ 574, 1000,  903, ...,  836,  644,  972])"
      ]
     },
     "execution_count": 453,
     "metadata": {},
     "output_type": "execute_result"
    }
   ],
   "source": [
    "finish_times"
   ]
  },
  {
   "cell_type": "code",
   "execution_count": 460,
   "metadata": {},
   "outputs": [
    {
     "data": {
      "text/plain": [
       "<matplotlib.legend.Legend at 0x7f8ad3716e90>"
      ]
     },
     "execution_count": 460,
     "metadata": {},
     "output_type": "execute_result"
    },
    {
     "data": {
      "image/png": "[encoded data removed]",
      "text/plain": [
       "<Figure size 432x288 with 1 Axes>"
      ]
     },
     "metadata": {
      "needs_background": "light"
     },
     "output_type": "display_data"
    }
   ],
   "source": [
    "plt.hist(finish_times[finish_times<999],density=False, alpha=0.5, label = 'L1 Norm')\n",
    "plt.hist(finish_times_nn[finish_times_nn<999], density=False, alpha=0.5, label = 'Neural Network')\n",
    "plt.xlabel('Number of generations before convergence (1000: No convergence)')\n",
    "plt.legend()"
   ]
  }
 ],
 "metadata": {
  "kernelspec": {
   "display_name": "Python 3",
   "language": "python",
   "name": "python3"
  },
  "language_info": {
   "codemirror_mode": {
    "name": "ipython",
    "version": 3
   },
   "file_extension": ".py",
   "mimetype": "text/x-python",
   "name": "python",
   "nbconvert_exporter": "python",
   "pygments_lexer": "ipython3",
   "version": "3.7.7"
  }
 },
 "nbformat": 4,
 "nbformat_minor": 2
}
